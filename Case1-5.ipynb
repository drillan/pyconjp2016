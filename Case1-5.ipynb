{
 "cells": [
  {
   "cell_type": "markdown",
   "metadata": {},
   "source": [
    "# Case 1-5: 日銀のREIT, ETF買い入れとREIT, 株価指数の関係を見てみる\n",
    "Correlation between ETF/J-REIT purchases and stock prices"
   ]
  },
  {
   "cell_type": "code",
   "execution_count": 1,
   "metadata": {
    "ExecuteTime": {
     "end_time": "2016-09-17T13:55:48.235260",
     "start_time": "2016-09-17T13:55:46.653212"
    },
    "collapsed": false
   },
   "outputs": [],
   "source": [
    "%matplotlib inline\n",
    "import seaborn as sns\n",
    "import requests\n",
    "import zipfile\n",
    "import pandas as pd\n",
    "from io import BytesIO\n",
    "import pandas as pd"
   ]
  },
  {
   "cell_type": "markdown",
   "metadata": {},
   "source": [
    "## 日本銀行のサイトからETF、REITの買入結果を取得する\n",
    "download ETF/J-REIT purchases data from BOJ site\n",
    "\n",
    "> 日本銀行  \n",
    "> 指数連動型上場投資信託受益権（ETF）および不動産投資法人投資口（J-REIT）の買入結果  \n",
    "> http://www3.boj.or.jp/market/jp/menu_etf.htm"
   ]
  },
  {
   "cell_type": "markdown",
   "metadata": {},
   "source": [
    "元のファイルはzipファイルなので、展開する関数を用意  \n",
    "make function for unzip"
   ]
  },
  {
   "cell_type": "code",
   "execution_count": 2,
   "metadata": {
    "ExecuteTime": {
     "end_time": "2016-09-17T13:55:48.250208",
     "start_time": "2016-09-17T13:55:48.239209"
    },
    "collapsed": true
   },
   "outputs": [],
   "source": [
    "def extract_zip(input_zip):\n",
    "    input_zip=zipfile.ZipFile(input_zip)\n",
    "    return {name: input_zip.read(name) for name in input_zip.namelist()}"
   ]
  },
  {
   "cell_type": "markdown",
   "metadata": {},
   "source": [
    "pandasからExcelファイルを読み込む場合はpandas.read_excel()を使う  \n",
    "リンク先のzipファイルをメモリ上で処理する場合にはBytesIOを使う  \n",
    "use pandas.read_excel() for reading Excel file in pandas  \n",
    "use BytesIO for opening zip file on memory"
   ]
  },
  {
   "cell_type": "code",
   "execution_count": 3,
   "metadata": {
    "ExecuteTime": {
     "end_time": "2016-09-17T13:55:48.281224",
     "start_time": "2016-09-17T13:55:48.260215"
    },
    "collapsed": true
   },
   "outputs": [],
   "source": [
    "def load_excet2df(url, filename):\n",
    "    zipdata = BytesIO()\n",
    "    res = requests.get(url, stream=True)\n",
    "    zipdata.write(res.content)\n",
    "    return pd.read_excel(BytesIO(extract_zip(zipdata)[filename]))"
   ]
  },
  {
   "cell_type": "markdown",
   "metadata": {},
   "source": [
    "## ExcelファイルからETFとREITの買い入れ額を取得\n",
    "get ETF/J-REIT purchases data from Excel files"
   ]
  },
  {
   "cell_type": "code",
   "execution_count": 4,
   "metadata": {
    "ExecuteTime": {
     "end_time": "2016-09-17T13:55:48.730286",
     "start_time": "2016-09-17T13:55:48.287214"
    },
    "collapsed": false
   },
   "outputs": [],
   "source": [
    "try:\n",
    "    etfreit_df = load_excet2df('http://www3.boj.or.jp/market/jp/etfreit.zip', '2016.xls')\n",
    "except Exception:\n",
    "    etfreit_df = pd.read_excel('data/2016.xls')"
   ]
  },
  {
   "cell_type": "code",
   "execution_count": 5,
   "metadata": {
    "ExecuteTime": {
     "end_time": "2016-09-17T13:55:48.769214",
     "start_time": "2016-09-17T13:55:48.733211"
    },
    "collapsed": false
   },
   "outputs": [
    {
     "data": {
      "text/html": [
       "<div>\n",
       "<table border=\"1\" class=\"dataframe\">\n",
       "  <thead>\n",
       "    <tr style=\"text-align: right;\">\n",
       "      <th></th>\n",
       "      <th>Unnamed: 0</th>\n",
       "      <th>指数連動型上場投資信託受益権（ETF）および不動産投資法人投資口（J-REIT）の買入結果</th>\n",
       "      <th>Unnamed: 2</th>\n",
       "      <th>Unnamed: 3</th>\n",
       "      <th>Unnamed: 4</th>\n",
       "    </tr>\n",
       "  </thead>\n",
       "  <tbody>\n",
       "    <tr>\n",
       "      <th>0</th>\n",
       "      <td>NaN</td>\n",
       "      <td>Purchases of ETFs and J-REITs</td>\n",
       "      <td>NaN</td>\n",
       "      <td>NaN</td>\n",
       "      <td>NaN</td>\n",
       "    </tr>\n",
       "    <tr>\n",
       "      <th>1</th>\n",
       "      <td>NaN</td>\n",
       "      <td>NaN</td>\n",
       "      <td>NaN</td>\n",
       "      <td>NaN</td>\n",
       "      <td>NaN</td>\n",
       "    </tr>\n",
       "    <tr>\n",
       "      <th>2</th>\n",
       "      <td>NaN</td>\n",
       "      <td>NaN</td>\n",
       "      <td>NaN</td>\n",
       "      <td>NaN</td>\n",
       "      <td>（億円)</td>\n",
       "    </tr>\n",
       "    <tr>\n",
       "      <th>3</th>\n",
       "      <td>NaN</td>\n",
       "      <td>NaN</td>\n",
       "      <td>NaN</td>\n",
       "      <td>NaN</td>\n",
       "      <td>（100 million yen)</td>\n",
       "    </tr>\n",
       "    <tr>\n",
       "      <th>4</th>\n",
       "      <td>NaN</td>\n",
       "      <td>約定日\\nTrade Date</td>\n",
       "      <td>指数連動型上場投資信託受益権</td>\n",
       "      <td>NaN</td>\n",
       "      <td>不動産投資法人投資口\\nJ-REIT</td>\n",
       "    </tr>\n",
       "    <tr>\n",
       "      <th>5</th>\n",
       "      <td>NaN</td>\n",
       "      <td>NaN</td>\n",
       "      <td>ETF</td>\n",
       "      <td>NaN</td>\n",
       "      <td>NaN</td>\n",
       "    </tr>\n",
       "    <tr>\n",
       "      <th>6</th>\n",
       "      <td>NaN</td>\n",
       "      <td>NaN</td>\n",
       "      <td>(1) 右記以外</td>\n",
       "      <td>(2) 設備投資および人材投資に積極的に取り組んでいる企業を支援するためのETF</td>\n",
       "      <td>NaN</td>\n",
       "    </tr>\n",
       "    <tr>\n",
       "      <th>7</th>\n",
       "      <td>NaN</td>\n",
       "      <td>NaN</td>\n",
       "      <td>Purchases of ETFs other than those mentioned i...</td>\n",
       "      <td>Purchases of ETFs to support investment in phy...</td>\n",
       "      <td>NaN</td>\n",
       "    </tr>\n",
       "    <tr>\n",
       "      <th>8</th>\n",
       "      <td>NaN</td>\n",
       "      <td>2016-04-01 00:00:00</td>\n",
       "      <td>336</td>\n",
       "      <td>NaN</td>\n",
       "      <td>12</td>\n",
       "    </tr>\n",
       "    <tr>\n",
       "      <th>9</th>\n",
       "      <td>NaN</td>\n",
       "      <td>2016-04-02 00:00:00</td>\n",
       "      <td>NaN</td>\n",
       "      <td>NaN</td>\n",
       "      <td>NaN</td>\n",
       "    </tr>\n",
       "  </tbody>\n",
       "</table>\n",
       "</div>"
      ],
      "text/plain": [
       "   Unnamed: 0 指数連動型上場投資信託受益権（ETF）および不動産投資法人投資口（J-REIT）の買入結果\\n\\n  \\\n",
       "0         NaN                     Purchases of ETFs and J-REITs   \n",
       "1         NaN                                               NaN   \n",
       "2         NaN                                               NaN   \n",
       "3         NaN                                               NaN   \n",
       "4         NaN                                   約定日\\nTrade Date   \n",
       "5         NaN                                               NaN   \n",
       "6         NaN                                               NaN   \n",
       "7         NaN                                               NaN   \n",
       "8         NaN                               2016-04-01 00:00:00   \n",
       "9         NaN                               2016-04-02 00:00:00   \n",
       "\n",
       "                                          Unnamed: 2  \\\n",
       "0                                                NaN   \n",
       "1                                                NaN   \n",
       "2                                                NaN   \n",
       "3                                                NaN   \n",
       "4                                     指数連動型上場投資信託受益権   \n",
       "5                                                ETF   \n",
       "6                                           (1) 右記以外   \n",
       "7  Purchases of ETFs other than those mentioned i...   \n",
       "8                                                336   \n",
       "9                                                NaN   \n",
       "\n",
       "                                          Unnamed: 3          Unnamed: 4  \n",
       "0                                                NaN                 NaN  \n",
       "1                                                NaN                 NaN  \n",
       "2                                                NaN                （億円)  \n",
       "3                                                NaN   （100 million yen)  \n",
       "4                                                NaN  不動産投資法人投資口\\nJ-REIT  \n",
       "5                                                NaN                 NaN  \n",
       "6           (2) 設備投資および人材投資に積極的に取り組んでいる企業を支援するためのETF                 NaN  \n",
       "7  Purchases of ETFs to support investment in phy...                 NaN  \n",
       "8                                                NaN                  12  \n",
       "9                                                NaN                 NaN  "
      ]
     },
     "execution_count": 5,
     "metadata": {},
     "output_type": "execute_result"
    }
   ],
   "source": [
    "etfreit_df.head(10)"
   ]
  },
  {
   "cell_type": "markdown",
   "metadata": {},
   "source": [
    "データを整形(クレンジング)  \n",
    "cleansing data"
   ]
  },
  {
   "cell_type": "code",
   "execution_count": 6,
   "metadata": {
    "ExecuteTime": {
     "end_time": "2016-09-17T13:55:48.792210",
     "start_time": "2016-09-17T13:55:48.775213"
    },
    "collapsed": false
   },
   "outputs": [],
   "source": [
    "etfreit_df = etfreit_df.iloc[8:, 1:].copy()\n",
    "etfreit_df.columns = ['Date', 'ETF', 'Ohter ETF', 'REIT']\n",
    "etfreit_df.set_index('Date', inplace=True)\n",
    "etfreit_df = etfreit_df.astype(float)"
   ]
  },
  {
   "cell_type": "code",
   "execution_count": 7,
   "metadata": {
    "ExecuteTime": {
     "end_time": "2016-09-17T13:55:48.838219",
     "start_time": "2016-09-17T13:55:48.795211"
    },
    "collapsed": false
   },
   "outputs": [
    {
     "data": {
      "text/html": [
       "<div>\n",
       "<table border=\"1\" class=\"dataframe\">\n",
       "  <thead>\n",
       "    <tr style=\"text-align: right;\">\n",
       "      <th></th>\n",
       "      <th>ETF</th>\n",
       "      <th>Ohter ETF</th>\n",
       "      <th>REIT</th>\n",
       "    </tr>\n",
       "    <tr>\n",
       "      <th>Date</th>\n",
       "      <th></th>\n",
       "      <th></th>\n",
       "      <th></th>\n",
       "    </tr>\n",
       "  </thead>\n",
       "  <tbody>\n",
       "    <tr>\n",
       "      <th>2016-04-01</th>\n",
       "      <td>336.0</td>\n",
       "      <td>NaN</td>\n",
       "      <td>12.0</td>\n",
       "    </tr>\n",
       "    <tr>\n",
       "      <th>2016-04-02</th>\n",
       "      <td>NaN</td>\n",
       "      <td>NaN</td>\n",
       "      <td>NaN</td>\n",
       "    </tr>\n",
       "    <tr>\n",
       "      <th>2016-04-03</th>\n",
       "      <td>NaN</td>\n",
       "      <td>NaN</td>\n",
       "      <td>NaN</td>\n",
       "    </tr>\n",
       "    <tr>\n",
       "      <th>2016-04-04</th>\n",
       "      <td>NaN</td>\n",
       "      <td>12.0</td>\n",
       "      <td>NaN</td>\n",
       "    </tr>\n",
       "    <tr>\n",
       "      <th>2016-04-05</th>\n",
       "      <td>333.0</td>\n",
       "      <td>12.0</td>\n",
       "      <td>NaN</td>\n",
       "    </tr>\n",
       "    <tr>\n",
       "      <th>2016-04-06</th>\n",
       "      <td>NaN</td>\n",
       "      <td>12.0</td>\n",
       "      <td>12.0</td>\n",
       "    </tr>\n",
       "    <tr>\n",
       "      <th>2016-04-07</th>\n",
       "      <td>333.0</td>\n",
       "      <td>12.0</td>\n",
       "      <td>NaN</td>\n",
       "    </tr>\n",
       "    <tr>\n",
       "      <th>2016-04-08</th>\n",
       "      <td>NaN</td>\n",
       "      <td>12.0</td>\n",
       "      <td>12.0</td>\n",
       "    </tr>\n",
       "    <tr>\n",
       "      <th>2016-04-09</th>\n",
       "      <td>NaN</td>\n",
       "      <td>NaN</td>\n",
       "      <td>NaN</td>\n",
       "    </tr>\n",
       "    <tr>\n",
       "      <th>2016-04-10</th>\n",
       "      <td>NaN</td>\n",
       "      <td>NaN</td>\n",
       "      <td>NaN</td>\n",
       "    </tr>\n",
       "  </tbody>\n",
       "</table>\n",
       "</div>"
      ],
      "text/plain": [
       "              ETF  Ohter ETF  REIT\n",
       "Date                              \n",
       "2016-04-01  336.0        NaN  12.0\n",
       "2016-04-02    NaN        NaN   NaN\n",
       "2016-04-03    NaN        NaN   NaN\n",
       "2016-04-04    NaN       12.0   NaN\n",
       "2016-04-05  333.0       12.0   NaN\n",
       "2016-04-06    NaN       12.0  12.0\n",
       "2016-04-07  333.0       12.0   NaN\n",
       "2016-04-08    NaN       12.0  12.0\n",
       "2016-04-09    NaN        NaN   NaN\n",
       "2016-04-10    NaN        NaN   NaN"
      ]
     },
     "execution_count": 7,
     "metadata": {},
     "output_type": "execute_result"
    }
   ],
   "source": [
    "etfreit_df.head(10)"
   ]
  },
  {
   "cell_type": "markdown",
   "metadata": {
    "ExecuteTime": {
     "end_time": "2016-09-02T10:26:31.046868",
     "start_time": "2016-09-02T10:26:31.042874"
    }
   },
   "source": [
    "## ExcelファイルからREITと平均株価を取得\n",
    "get TSE REIT index and stock indices data from Excel"
   ]
  },
  {
   "cell_type": "markdown",
   "metadata": {},
   "source": [
    "データが複数あるので整形用の関数を用意  \n",
    "make funcation for shaping multiple data"
   ]
  },
  {
   "cell_type": "code",
   "execution_count": 8,
   "metadata": {
    "ExecuteTime": {
     "end_time": "2016-09-17T13:55:48.860207",
     "start_time": "2016-09-17T13:55:48.847211"
    },
    "collapsed": true
   },
   "outputs": [],
   "source": [
    "def cleansing_df(input_df):\n",
    "    df = input_df.copy()\n",
    "    df.columns = ['Date', 'Open', 'High', 'Low', 'Close']\n",
    "    df['Date'] = pd.to_datetime(df['Date'])\n",
    "    df.set_index('Date', inplace=True)\n",
    "    df = df.astype(float)\n",
    "    return df"
   ]
  },
  {
   "cell_type": "code",
   "execution_count": 9,
   "metadata": {
    "ExecuteTime": {
     "end_time": "2016-09-17T13:55:48.873212",
     "start_time": "2016-09-17T13:55:48.863212"
    },
    "collapsed": true
   },
   "outputs": [],
   "source": [
    "def load_df(key):\n",
    "    data_dict = ohlc_data_dict[key]\n",
    "    try:\n",
    "        df = cleansing_df(pd.read_csv(data_dict['link']))\n",
    "    except Exception:\n",
    "        df = cleansing_df(pd.read_csv(data_dict['data'], encoding='sjis'))\n",
    "    return df"
   ]
  },
  {
   "cell_type": "markdown",
   "metadata": {},
   "source": [
    "当日(終値 - 始値)の騰落率を算出  \n",
    "get daily return (close price - open price)"
   ]
  },
  {
   "cell_type": "code",
   "execution_count": 10,
   "metadata": {
    "ExecuteTime": {
     "end_time": "2016-09-17T13:55:48.900211",
     "start_time": "2016-09-17T13:55:48.876211"
    },
    "collapsed": true
   },
   "outputs": [],
   "source": [
    "def pct_change(data):\n",
    "    return ((data['Close'] - data['Open']) / data['Close']) * 100"
   ]
  },
  {
   "cell_type": "code",
   "execution_count": 11,
   "metadata": {
    "ExecuteTime": {
     "end_time": "2016-09-17T13:55:48.917209",
     "start_time": "2016-09-17T13:55:48.905213"
    },
    "collapsed": false
   },
   "outputs": [],
   "source": [
    "ohlc_data_dict = {'tse_reit_index': {'link': 'http://k-db.com/indices/I133/1d/2016?download=csv',\n",
    "                                'data': 'data/indices_I133_1d_2016.csv'},\n",
    "             'topix': {'link': 'http://k-db.com/indices/I102/1d/2016',\n",
    "                      'data': 'data/indices_I102_1d_2016.csv'},\n",
    "             'jpx400': {'link': 'http://k-db.com/indices/I103/1d/2016?download=csv',\n",
    "                       'data': 'data/indices_I103_1d_2016.csv'},\n",
    "             'nikkei225': {'link': 'http://k-db.com/indices/I101/1d/2016?download=csv',\n",
    "                          'data': 'data/indices_I101_1d_2016.csv'}\n",
    "             }"
   ]
  },
  {
   "cell_type": "code",
   "execution_count": 12,
   "metadata": {
    "ExecuteTime": {
     "end_time": "2016-09-17T13:55:49.918217",
     "start_time": "2016-09-17T13:55:48.922212"
    },
    "collapsed": false
   },
   "outputs": [],
   "source": [
    "df = dict(zip(ohlc_data_dict.keys(), map(load_df, ohlc_data_dict.keys())))"
   ]
  },
  {
   "cell_type": "code",
   "execution_count": 13,
   "metadata": {
    "ExecuteTime": {
     "end_time": "2016-09-17T13:55:49.970226",
     "start_time": "2016-09-17T13:55:49.921209"
    },
    "collapsed": false
   },
   "outputs": [],
   "source": [
    "reit_df = pd.concat([etfreit_df['REIT'],\n",
    "                     df['tse_reit_index'].apply(pct_change, axis=1)], axis=1).dropna()\n",
    "reit_df.columns = ['BOJ', 'TSE REIT INDEX']"
   ]
  },
  {
   "cell_type": "markdown",
   "metadata": {},
   "source": [
    "## 日銀のREITの買い入れ額と東証REIT指数  \n",
    "Purchases of ETFs and J-REITs and TSE REIT index"
   ]
  },
  {
   "cell_type": "code",
   "execution_count": 14,
   "metadata": {
    "ExecuteTime": {
     "end_time": "2016-09-17T13:55:49.996214",
     "start_time": "2016-09-17T13:55:49.974214"
    },
    "collapsed": false
   },
   "outputs": [
    {
     "data": {
      "text/html": [
       "<div>\n",
       "<table border=\"1\" class=\"dataframe\">\n",
       "  <thead>\n",
       "    <tr style=\"text-align: right;\">\n",
       "      <th></th>\n",
       "      <th>BOJ</th>\n",
       "      <th>TSE REIT INDEX</th>\n",
       "    </tr>\n",
       "    <tr>\n",
       "      <th>Date</th>\n",
       "      <th></th>\n",
       "      <th></th>\n",
       "    </tr>\n",
       "  </thead>\n",
       "  <tbody>\n",
       "    <tr>\n",
       "      <th>2016-04-01</th>\n",
       "      <td>12.0</td>\n",
       "      <td>-1.533002</td>\n",
       "    </tr>\n",
       "    <tr>\n",
       "      <th>2016-04-06</th>\n",
       "      <td>12.0</td>\n",
       "      <td>-0.399714</td>\n",
       "    </tr>\n",
       "    <tr>\n",
       "      <th>2016-04-08</th>\n",
       "      <td>12.0</td>\n",
       "      <td>0.784616</td>\n",
       "    </tr>\n",
       "    <tr>\n",
       "      <th>2016-04-11</th>\n",
       "      <td>12.0</td>\n",
       "      <td>0.003160</td>\n",
       "    </tr>\n",
       "    <tr>\n",
       "      <th>2016-04-15</th>\n",
       "      <td>12.0</td>\n",
       "      <td>-0.330606</td>\n",
       "    </tr>\n",
       "  </tbody>\n",
       "</table>\n",
       "</div>"
      ],
      "text/plain": [
       "             BOJ  TSE REIT INDEX\n",
       "Date                            \n",
       "2016-04-01  12.0       -1.533002\n",
       "2016-04-06  12.0       -0.399714\n",
       "2016-04-08  12.0        0.784616\n",
       "2016-04-11  12.0        0.003160\n",
       "2016-04-15  12.0       -0.330606"
      ]
     },
     "execution_count": 14,
     "metadata": {},
     "output_type": "execute_result"
    }
   ],
   "source": [
    "reit_df.head()"
   ]
  },
  {
   "cell_type": "code",
   "execution_count": 15,
   "metadata": {
    "ExecuteTime": {
     "end_time": "2016-09-17T13:55:50.454209",
     "start_time": "2016-09-17T13:55:50.002212"
    },
    "collapsed": false
   },
   "outputs": [
    {
     "data": {
      "text/plain": [
       "<matplotlib.axes._subplots.AxesSubplot at 0x8f7e950>"
      ]
     },
     "execution_count": 15,
     "metadata": {},
     "output_type": "execute_result"
    },
    {
     "data": {
      "image/png": "[encoded data removed]",
      "text/plain": [
       "<matplotlib.figure.Figure at 0x8eedc70>"
      ]
     },
     "metadata": {},
     "output_type": "display_data"
    }
   ],
   "source": [
    "reit_df.plot(kind='scatter', x='BOJ', y='TSE REIT INDEX')"
   ]
  },
  {
   "cell_type": "code",
   "execution_count": 16,
   "metadata": {
    "ExecuteTime": {
     "end_time": "2016-09-17T13:55:50.896210",
     "start_time": "2016-09-17T13:55:50.457216"
    },
    "collapsed": false
   },
   "outputs": [
    {
     "data": {
      "text/plain": [
       "<matplotlib.axes._subplots.AxesSubplot at 0x90d6e50>"
      ]
     },
     "execution_count": 16,
     "metadata": {},
     "output_type": "execute_result"
    },
    {
     "data": {
      "image/png": "[encoded data removed]",
      "text/plain": [
       "<matplotlib.figure.Figure at 0x908a310>"
      ]
     },
     "metadata": {},
     "output_type": "display_data"
    }
   ],
   "source": [
    "reit_df['TSE REIT INDEX'].hist(bins=50)"
   ]
  },
  {
   "cell_type": "markdown",
   "metadata": {},
   "source": [
    "↑REITの買い入れがあった当日に必ずしも上昇しているわけではない  \n",
    "TSE REIT index does not always rize when BOJ purchases amount of REIT."
   ]
  },
  {
   "cell_type": "markdown",
   "metadata": {},
   "source": [
    "## 日銀のETFの買い入れ額と平均株価  \n",
    "Purchases of ETFs and stock average"
   ]
  },
  {
   "cell_type": "code",
   "execution_count": 17,
   "metadata": {
    "ExecuteTime": {
     "end_time": "2016-09-17T13:55:50.984237",
     "start_time": "2016-09-17T13:55:50.899216"
    },
    "collapsed": false
   },
   "outputs": [],
   "source": [
    "stock_index_df = pd.concat([df['topix'].apply(pct_change, axis=1),\n",
    "                            df['jpx400'].apply(pct_change, axis=1),\n",
    "                            df['nikkei225'].apply(pct_change, axis=1)], axis=1)\n",
    "stock_index_df = pd.concat([etfreit_df['ETF'], stock_index_df], axis=1).dropna()\n",
    "stock_index_df.columns = ['BOJ', 'topix', 'jpx400', 'nikkei225']"
   ]
  },
  {
   "cell_type": "code",
   "execution_count": 18,
   "metadata": {
    "ExecuteTime": {
     "end_time": "2016-09-17T13:55:51.009214",
     "start_time": "2016-09-17T13:55:50.986209"
    },
    "collapsed": false
   },
   "outputs": [
    {
     "data": {
      "text/html": [
       "<div>\n",
       "<table border=\"1\" class=\"dataframe\">\n",
       "  <thead>\n",
       "    <tr style=\"text-align: right;\">\n",
       "      <th></th>\n",
       "      <th>BOJ</th>\n",
       "      <th>topix</th>\n",
       "      <th>jpx400</th>\n",
       "      <th>nikkei225</th>\n",
       "    </tr>\n",
       "    <tr>\n",
       "      <th>Date</th>\n",
       "      <th></th>\n",
       "      <th></th>\n",
       "      <th></th>\n",
       "      <th></th>\n",
       "    </tr>\n",
       "  </thead>\n",
       "  <tbody>\n",
       "    <tr>\n",
       "      <th>2016-04-01</th>\n",
       "      <td>336.0</td>\n",
       "      <td>-3.214999</td>\n",
       "      <td>-3.239965</td>\n",
       "      <td>-3.435997</td>\n",
       "    </tr>\n",
       "    <tr>\n",
       "      <th>2016-04-05</th>\n",
       "      <td>333.0</td>\n",
       "      <td>-2.116102</td>\n",
       "      <td>-2.086293</td>\n",
       "      <td>-1.979365</td>\n",
       "    </tr>\n",
       "    <tr>\n",
       "      <th>2016-04-07</th>\n",
       "      <td>333.0</td>\n",
       "      <td>0.417243</td>\n",
       "      <td>0.467328</td>\n",
       "      <td>0.067175</td>\n",
       "    </tr>\n",
       "    <tr>\n",
       "      <th>2016-04-11</th>\n",
       "      <td>333.0</td>\n",
       "      <td>-0.144555</td>\n",
       "      <td>-0.144684</td>\n",
       "      <td>-0.066281</td>\n",
       "    </tr>\n",
       "    <tr>\n",
       "      <th>2016-04-15</th>\n",
       "      <td>333.0</td>\n",
       "      <td>0.581754</td>\n",
       "      <td>0.610833</td>\n",
       "      <td>0.757596</td>\n",
       "    </tr>\n",
       "  </tbody>\n",
       "</table>\n",
       "</div>"
      ],
      "text/plain": [
       "              BOJ     topix    jpx400  nikkei225\n",
       "Date                                            \n",
       "2016-04-01  336.0 -3.214999 -3.239965  -3.435997\n",
       "2016-04-05  333.0 -2.116102 -2.086293  -1.979365\n",
       "2016-04-07  333.0  0.417243  0.467328   0.067175\n",
       "2016-04-11  333.0 -0.144555 -0.144684  -0.066281\n",
       "2016-04-15  333.0  0.581754  0.610833   0.757596"
      ]
     },
     "execution_count": 18,
     "metadata": {},
     "output_type": "execute_result"
    }
   ],
   "source": [
    "stock_index_df.head()"
   ]
  },
  {
   "cell_type": "code",
   "execution_count": 19,
   "metadata": {
    "ExecuteTime": {
     "end_time": "2016-09-17T13:55:54.049210",
     "start_time": "2016-09-17T13:55:51.014213"
    },
    "collapsed": false
   },
   "outputs": [
    {
     "data": {
      "text/plain": [
       "<seaborn.axisgrid.PairGrid at 0x49ace50>"
      ]
     },
     "execution_count": 19,
     "metadata": {},
     "output_type": "execute_result"
    },
    {
     "data": {
      "image/png": "[encoded data removed]",
      "text/plain": [
       "<matplotlib.figure.Figure at 0x91884f0>"
      ]
     },
     "metadata": {},
     "output_type": "display_data"
    }
   ],
   "source": [
    "sns.pairplot(stock_index_df)"
   ]
  },
  {
   "cell_type": "markdown",
   "metadata": {
    "collapsed": true
   },
   "source": [
    "↑REITと同様にETFの買い入れがあった当日に必ずしも上昇しているわけではない  \n",
    "stock average does not always rize when BOJ purchases amount of ETF."
   ]
  },
  {
   "cell_type": "code",
   "execution_count": null,
   "metadata": {
    "collapsed": true
   },
   "outputs": [],
   "source": []
  }
 ],
 "metadata": {
  "hide_input": false,
  "kernelspec": {
   "display_name": "Python 3",
   "language": "python",
   "name": "python3"
  },
  "language_info": {
   "codemirror_mode": {
    "name": "ipython",
    "version": 3
   },
   "file_extension": ".py",
   "mimetype": "text/x-python",
   "name": "python",
   "nbconvert_exporter": "python",
   "pygments_lexer": "ipython3",
   "version": "3.5.1"
  },
  "nav_menu": {},
  "toc": {
   "navigate_menu": true,
   "number_sections": true,
   "sideBar": true,
   "threshold": 6,
   "toc_cell": false,
   "toc_section_display": "block",
   "toc_window_display": true
  }
 },
 "nbformat": 4,
 "nbformat_minor": 1
}
