{
 "cells": [
  {
   "cell_type": "markdown",
   "metadata": {},
   "source": [
    "# Case2-1: DatetimeIndexを使ってみる\n",
    "---"
   ]
  },
  {
   "cell_type": "code",
   "execution_count": 30,
   "metadata": {
    "ExecuteTime": {
     "end_time": "2016-09-03T16:46:15.451975",
     "start_time": "2016-09-03T16:46:15.441977"
    },
    "collapsed": true
   },
   "outputs": [],
   "source": [
    "%matplotlib inline\n",
    "import seaborn as sns\n",
    "import datetime\n",
    "import numpy as np\n",
    "import pandas as pd"
   ]
  },
  {
   "cell_type": "code",
   "execution_count": 31,
   "metadata": {
    "ExecuteTime": {
     "end_time": "2016-09-03T16:46:15.465983",
     "start_time": "2016-09-03T16:46:15.454976"
    },
    "collapsed": true
   },
   "outputs": [],
   "source": [
    "# pandasの表示行数を設定\n",
    "pd.options.display.max_rows = 10"
   ]
  },
  {
   "cell_type": "markdown",
   "metadata": {},
   "source": [
    "## pandas.date_rangeで日付範囲データを作成"
   ]
  },
  {
   "cell_type": "code",
   "execution_count": 32,
   "metadata": {
    "ExecuteTime": {
     "end_time": "2016-09-03T16:46:15.512990",
     "start_time": "2016-09-03T16:46:15.468977"
    },
    "collapsed": false
   },
   "outputs": [],
   "source": [
    "date_range = pd.date_range('2015-1-1', '2016-12-31', freq='B')"
   ]
  },
  {
   "cell_type": "code",
   "execution_count": 33,
   "metadata": {
    "ExecuteTime": {
     "end_time": "2016-09-03T16:46:15.528992",
     "start_time": "2016-09-03T16:46:15.515983"
    },
    "collapsed": false
   },
   "outputs": [
    {
     "data": {
      "text/plain": [
       "DatetimeIndex(['2015-01-01', '2015-01-02', '2015-01-05', '2015-01-06',\n",
       "               '2015-01-07', '2015-01-08', '2015-01-09', '2015-01-12',\n",
       "               '2015-01-13', '2015-01-14',\n",
       "               ...\n",
       "               '2016-12-19', '2016-12-20', '2016-12-21', '2016-12-22',\n",
       "               '2016-12-23', '2016-12-26', '2016-12-27', '2016-12-28',\n",
       "               '2016-12-29', '2016-12-30'],\n",
       "              dtype='datetime64[ns]', length=522, freq='B')"
      ]
     },
     "execution_count": 33,
     "metadata": {},
     "output_type": "execute_result"
    }
   ],
   "source": [
    "date_range"
   ]
  },
  {
   "cell_type": "markdown",
   "metadata": {},
   "source": [
    "### freqのパラメータ  "
   ]
  },
  {
   "cell_type": "markdown",
   "metadata": {},
   "source": [
    "|文字                 |オフセットクラス  |説明                                                  |\n",
    "|:--------------------|:-----------------|:-----------------------------------------------------|\n",
    "|D                    |Day               |暦通りの日次                                          |\n",
    "|B                    |BusinessDay       |毎営業日                                              |\n",
    "|H                    |Hour              |毎時                                                  |\n",
    "|Tまたはmin           |Minute            |毎分                                                  |\n",
    "|S                    |Second            |毎秒                                                  |\n",
    "|Lまたはms            |Milli             |毎ミリ秒                                              |\n",
    "|U                    |Micro             |毎マイクロ秒                                          |\n",
    "|M                    |MonthEnd          |暦通りの月末毎                                        |\n",
    "|BM                   |BusinessMonthEnd  |月の最終営業日毎                                      |\n",
    "|MS                   |MonthBegin        |暦通りの月初毎                                        |\n",
    "|BMS                  |BusinessMonthBegin|月の営業開始日毎                                      |\n",
    "|W-MON,W-TUE,...      |Week              |毎週指定した曜日毎                                    |\n",
    "|WOM-1MON,WOM-2MON,...|WeekOfMonth       |月の1～4週目の指定した曜日毎                          |\n",
    "|Q-JAN,Q-FEB,...      |QuarterEnd        |指定した月に年度が変わる前提で、四半期の暦通りの月末毎|\n",
    "|BQ-JAN,BQ-FEB,...    |BusinessQuarterEnd|指定した月に年度が変わる前提で、四半期の最終営業日毎  |\n",
    "|QS-JAN,QS-FEB,...    |QuarterBegin      |指定した月に年度が変わる前提で、四半期の暦通りの月初毎|\n",
    "|BQS-JAN,BQS-FEB,...  |QuarterBegin      |指定した月に年度が変わる前提で、四半期の営業開始日毎  |\n",
    "|A-JAN,A-FEB,...      |YearEnd           |1年に1度、指定した月の暦通りの月末毎                  |\n",
    "|BA-JAN,BA-FEB,...    |BusinessYearEnd   |1年に1度、指定した月の最終営業日毎                    |\n",
    "|AS-JAN,AS-FEB,...    |YearBegin         |1年に1度、指定した月の暦通りの月初毎                  |\n",
    "|BAS-JAN,BAS-FEB,...  |YearBegin         |1年に1度、指定した月の営業開始日毎                    |"
   ]
  },
  {
   "cell_type": "markdown",
   "metadata": {},
   "source": [
    "[Case1-3](Case1-3.ipynb)と同様に次の確率微分方程式にしたがう確率過程 Stを求める([幾何ブラウン運動](https://ja.wikipedia.org/wiki/幾何ブラウン運動 \"Wikipedia\"))  \n",
    "$$dS_t = \\mu S_t\\,dt + \\sigma S_t\\,dB_t$$\n",
    "今回は日毎にデータを変化させていく"
   ]
  },
  {
   "cell_type": "code",
   "execution_count": 34,
   "metadata": {
    "ExecuteTime": {
     "end_time": "2016-09-03T16:46:15.542980",
     "start_time": "2016-09-03T16:46:15.531981"
    },
    "collapsed": true
   },
   "outputs": [],
   "source": [
    "def generate_stock_price(S0, t, r, sigma, path, steps):\n",
    "    dt = float(t) / steps\n",
    "    w = np.cumsum(np.reshape(np.random.standard_normal(path * steps), (path, steps)), 1) * (np.sqrt(dt))\n",
    "    t = np.cumsum(np.ones((path, steps)), 1) * dt   \n",
    "    return S0 * np.exp((r - 0.5 * np.power(sigma, 2)) * t + sigma * w)"
   ]
  },
  {
   "cell_type": "code",
   "execution_count": 35,
   "metadata": {
    "ExecuteTime": {
     "end_time": "2016-09-03T16:46:15.559975",
     "start_time": "2016-09-03T16:46:15.545978"
    },
    "collapsed": false
   },
   "outputs": [],
   "source": [
    "days = len(date_range)\n",
    "stock_price = generate_stock_price(1000, days / 365.0, 0.001, 0.2, 3, days)\n",
    "df = pd.DataFrame(stock_price.T, index=date_range, columns=['price1', 'price2', 'price3'])"
   ]
  },
  {
   "cell_type": "code",
   "execution_count": 36,
   "metadata": {
    "ExecuteTime": {
     "end_time": "2016-09-03T16:46:15.585976",
     "start_time": "2016-09-03T16:46:15.562978"
    },
    "collapsed": false
   },
   "outputs": [
    {
     "data": {
      "text/html": [
       "<div>\n",
       "<table border=\"1\" class=\"dataframe\">\n",
       "  <thead>\n",
       "    <tr style=\"text-align: right;\">\n",
       "      <th></th>\n",
       "      <th>price1</th>\n",
       "      <th>price2</th>\n",
       "      <th>price3</th>\n",
       "    </tr>\n",
       "  </thead>\n",
       "  <tbody>\n",
       "    <tr>\n",
       "      <th>2015-01-01</th>\n",
       "      <td>1001.986297</td>\n",
       "      <td>1010.284327</td>\n",
       "      <td>984.626584</td>\n",
       "    </tr>\n",
       "    <tr>\n",
       "      <th>2015-01-02</th>\n",
       "      <td>985.859812</td>\n",
       "      <td>1019.855390</td>\n",
       "      <td>1003.991545</td>\n",
       "    </tr>\n",
       "    <tr>\n",
       "      <th>2015-01-05</th>\n",
       "      <td>971.348074</td>\n",
       "      <td>1013.337638</td>\n",
       "      <td>1005.082109</td>\n",
       "    </tr>\n",
       "    <tr>\n",
       "      <th>2015-01-06</th>\n",
       "      <td>966.951961</td>\n",
       "      <td>1012.065025</td>\n",
       "      <td>1008.944978</td>\n",
       "    </tr>\n",
       "    <tr>\n",
       "      <th>2015-01-07</th>\n",
       "      <td>975.070556</td>\n",
       "      <td>1016.426021</td>\n",
       "      <td>999.595205</td>\n",
       "    </tr>\n",
       "  </tbody>\n",
       "</table>\n",
       "</div>"
      ],
      "text/plain": [
       "                 price1       price2       price3\n",
       "2015-01-01  1001.986297  1010.284327   984.626584\n",
       "2015-01-02   985.859812  1019.855390  1003.991545\n",
       "2015-01-05   971.348074  1013.337638  1005.082109\n",
       "2015-01-06   966.951961  1012.065025  1008.944978\n",
       "2015-01-07   975.070556  1016.426021   999.595205"
      ]
     },
     "execution_count": 36,
     "metadata": {},
     "output_type": "execute_result"
    }
   ],
   "source": [
    "df.head()"
   ]
  },
  {
   "cell_type": "code",
   "execution_count": 37,
   "metadata": {
    "ExecuteTime": {
     "end_time": "2016-09-03T16:46:16.224976",
     "start_time": "2016-09-03T16:46:15.588979"
    },
    "collapsed": false,
    "scrolled": false
   },
   "outputs": [
    {
     "data": {
      "text/plain": [
       "<matplotlib.axes._subplots.AxesSubplot at 0x972b3b0>"
      ]
     },
     "execution_count": 37,
     "metadata": {},
     "output_type": "execute_result"
    },
    {
     "data": {
      "image/png": "[encoded data removed]",
      "text/plain": [
       "<matplotlib.figure.Figure at 0x94ba5d0>"
      ]
     },
     "metadata": {},
     "output_type": "display_data"
    }
   ],
   "source": [
    "df.plot()"
   ]
  },
  {
   "cell_type": "markdown",
   "metadata": {},
   "source": [
    "## datetime.date型で参照"
   ]
  },
  {
   "cell_type": "code",
   "execution_count": 38,
   "metadata": {
    "ExecuteTime": {
     "end_time": "2016-09-03T16:46:16.238979",
     "start_time": "2016-09-03T16:46:16.228977"
    },
    "collapsed": false
   },
   "outputs": [
    {
     "data": {
      "text/plain": [
       "price1     962.669130\n",
       "price2     906.104087\n",
       "price3    1288.619603\n",
       "Name: 2016-01-01 00:00:00, dtype: float64"
      ]
     },
     "execution_count": 38,
     "metadata": {},
     "output_type": "execute_result"
    }
   ],
   "source": [
    "df.loc[datetime.date(2016, 1, 1)]"
   ]
  },
  {
   "cell_type": "markdown",
   "metadata": {},
   "source": [
    "## datetime.datetime型で参照"
   ]
  },
  {
   "cell_type": "code",
   "execution_count": 39,
   "metadata": {
    "ExecuteTime": {
     "end_time": "2016-09-03T16:46:16.264980",
     "start_time": "2016-09-03T16:46:16.242979"
    },
    "collapsed": false
   },
   "outputs": [
    {
     "data": {
      "text/plain": [
       "price1     962.669130\n",
       "price2     906.104087\n",
       "price3    1288.619603\n",
       "Name: 2016-01-01 00:00:00, dtype: float64"
      ]
     },
     "execution_count": 39,
     "metadata": {},
     "output_type": "execute_result"
    }
   ],
   "source": [
    "df.loc[datetime.datetime(2016, 1, 1)]"
   ]
  },
  {
   "cell_type": "markdown",
   "metadata": {
    "collapsed": false
   },
   "source": [
    "## str型で参照"
   ]
  },
  {
   "cell_type": "code",
   "execution_count": 40,
   "metadata": {
    "ExecuteTime": {
     "end_time": "2016-09-03T16:46:16.292979",
     "start_time": "2016-09-03T16:46:16.268976"
    },
    "collapsed": false
   },
   "outputs": [
    {
     "data": {
      "text/plain": [
       "price1     962.669130\n",
       "price2     906.104087\n",
       "price3    1288.619603\n",
       "Name: 2016-01-01 00:00:00, dtype: float64"
      ]
     },
     "execution_count": 40,
     "metadata": {},
     "output_type": "execute_result"
    }
   ],
   "source": [
    "df.loc['2016/1/1']"
   ]
  },
  {
   "cell_type": "code",
   "execution_count": 41,
   "metadata": {
    "ExecuteTime": {
     "end_time": "2016-09-03T16:46:16.319976",
     "start_time": "2016-09-03T16:46:16.296979"
    },
    "collapsed": false
   },
   "outputs": [
    {
     "data": {
      "text/plain": [
       "price1     962.669130\n",
       "price2     906.104087\n",
       "price3    1288.619603\n",
       "Name: 2016-01-01 00:00:00, dtype: float64"
      ]
     },
     "execution_count": 41,
     "metadata": {},
     "output_type": "execute_result"
    }
   ],
   "source": [
    "df.loc['20160101']"
   ]
  },
  {
   "cell_type": "code",
   "execution_count": 42,
   "metadata": {
    "ExecuteTime": {
     "end_time": "2016-09-03T16:46:16.345982",
     "start_time": "2016-09-03T16:46:16.322977"
    },
    "collapsed": false
   },
   "outputs": [
    {
     "data": {
      "text/plain": [
       "price1     962.669130\n",
       "price2     906.104087\n",
       "price3    1288.619603\n",
       "Name: 2016-01-01 00:00:00, dtype: float64"
      ]
     },
     "execution_count": 42,
     "metadata": {},
     "output_type": "execute_result"
    }
   ],
   "source": [
    "df.loc['Jan 01, 2016']"
   ]
  },
  {
   "cell_type": "markdown",
   "metadata": {
    "collapsed": true
   },
   "source": [
    "## 年でスライス"
   ]
  },
  {
   "cell_type": "code",
   "execution_count": 43,
   "metadata": {
    "ExecuteTime": {
     "end_time": "2016-09-03T16:46:16.382977",
     "start_time": "2016-09-03T16:46:16.352978"
    },
    "collapsed": false
   },
   "outputs": [
    {
     "data": {
      "text/html": [
       "<div>\n",
       "<table border=\"1\" class=\"dataframe\">\n",
       "  <thead>\n",
       "    <tr style=\"text-align: right;\">\n",
       "      <th></th>\n",
       "      <th>price1</th>\n",
       "      <th>price2</th>\n",
       "      <th>price3</th>\n",
       "    </tr>\n",
       "  </thead>\n",
       "  <tbody>\n",
       "    <tr>\n",
       "      <th>2016-01-01</th>\n",
       "      <td>962.669130</td>\n",
       "      <td>906.104087</td>\n",
       "      <td>1288.619603</td>\n",
       "    </tr>\n",
       "    <tr>\n",
       "      <th>2016-01-04</th>\n",
       "      <td>954.732071</td>\n",
       "      <td>899.142614</td>\n",
       "      <td>1294.928149</td>\n",
       "    </tr>\n",
       "    <tr>\n",
       "      <th>2016-01-05</th>\n",
       "      <td>953.386341</td>\n",
       "      <td>872.398471</td>\n",
       "      <td>1320.877688</td>\n",
       "    </tr>\n",
       "    <tr>\n",
       "      <th>2016-01-06</th>\n",
       "      <td>954.855967</td>\n",
       "      <td>898.713163</td>\n",
       "      <td>1298.070114</td>\n",
       "    </tr>\n",
       "    <tr>\n",
       "      <th>2016-01-07</th>\n",
       "      <td>949.250614</td>\n",
       "      <td>894.920447</td>\n",
       "      <td>1279.576812</td>\n",
       "    </tr>\n",
       "  </tbody>\n",
       "</table>\n",
       "</div>"
      ],
      "text/plain": [
       "                price1      price2       price3\n",
       "2016-01-01  962.669130  906.104087  1288.619603\n",
       "2016-01-04  954.732071  899.142614  1294.928149\n",
       "2016-01-05  953.386341  872.398471  1320.877688\n",
       "2016-01-06  954.855967  898.713163  1298.070114\n",
       "2016-01-07  949.250614  894.920447  1279.576812"
      ]
     },
     "execution_count": 43,
     "metadata": {},
     "output_type": "execute_result"
    }
   ],
   "source": [
    "df.loc['2016':].head()"
   ]
  },
  {
   "cell_type": "markdown",
   "metadata": {},
   "source": [
    "## 月でスライス"
   ]
  },
  {
   "cell_type": "code",
   "execution_count": 44,
   "metadata": {
    "ExecuteTime": {
     "end_time": "2016-09-03T16:46:16.414979",
     "start_time": "2016-09-03T16:46:16.385980"
    },
    "collapsed": false
   },
   "outputs": [
    {
     "data": {
      "text/html": [
       "<div>\n",
       "<table border=\"1\" class=\"dataframe\">\n",
       "  <thead>\n",
       "    <tr style=\"text-align: right;\">\n",
       "      <th></th>\n",
       "      <th>price1</th>\n",
       "      <th>price2</th>\n",
       "      <th>price3</th>\n",
       "    </tr>\n",
       "  </thead>\n",
       "  <tbody>\n",
       "    <tr>\n",
       "      <th>2015-05-01</th>\n",
       "      <td>981.722125</td>\n",
       "      <td>1060.829235</td>\n",
       "      <td>1052.096227</td>\n",
       "    </tr>\n",
       "    <tr>\n",
       "      <th>2015-05-04</th>\n",
       "      <td>978.932719</td>\n",
       "      <td>1076.242850</td>\n",
       "      <td>1043.481328</td>\n",
       "    </tr>\n",
       "    <tr>\n",
       "      <th>2015-05-05</th>\n",
       "      <td>971.127689</td>\n",
       "      <td>1095.724766</td>\n",
       "      <td>1041.635060</td>\n",
       "    </tr>\n",
       "    <tr>\n",
       "      <th>2015-05-06</th>\n",
       "      <td>975.725451</td>\n",
       "      <td>1110.442598</td>\n",
       "      <td>1039.745143</td>\n",
       "    </tr>\n",
       "    <tr>\n",
       "      <th>2015-05-07</th>\n",
       "      <td>971.693684</td>\n",
       "      <td>1102.250021</td>\n",
       "      <td>1038.702108</td>\n",
       "    </tr>\n",
       "  </tbody>\n",
       "</table>\n",
       "</div>"
      ],
      "text/plain": [
       "                price1       price2       price3\n",
       "2015-05-01  981.722125  1060.829235  1052.096227\n",
       "2015-05-04  978.932719  1076.242850  1043.481328\n",
       "2015-05-05  971.127689  1095.724766  1041.635060\n",
       "2015-05-06  975.725451  1110.442598  1039.745143\n",
       "2015-05-07  971.693684  1102.250021  1038.702108"
      ]
     },
     "execution_count": 44,
     "metadata": {},
     "output_type": "execute_result"
    }
   ],
   "source": [
    "df.loc['2015-5'].head()"
   ]
  },
  {
   "cell_type": "code",
   "execution_count": 45,
   "metadata": {
    "ExecuteTime": {
     "end_time": "2016-09-03T16:46:16.446982",
     "start_time": "2016-09-03T16:46:16.418979"
    },
    "collapsed": false
   },
   "outputs": [
    {
     "data": {
      "text/html": [
       "<div>\n",
       "<table border=\"1\" class=\"dataframe\">\n",
       "  <thead>\n",
       "    <tr style=\"text-align: right;\">\n",
       "      <th></th>\n",
       "      <th>price1</th>\n",
       "      <th>price2</th>\n",
       "      <th>price3</th>\n",
       "    </tr>\n",
       "  </thead>\n",
       "  <tbody>\n",
       "    <tr>\n",
       "      <th>2015-12-01</th>\n",
       "      <td>966.286338</td>\n",
       "      <td>898.841293</td>\n",
       "      <td>1230.877763</td>\n",
       "    </tr>\n",
       "    <tr>\n",
       "      <th>2015-12-02</th>\n",
       "      <td>970.860557</td>\n",
       "      <td>902.354652</td>\n",
       "      <td>1221.094154</td>\n",
       "    </tr>\n",
       "    <tr>\n",
       "      <th>2015-12-03</th>\n",
       "      <td>964.816665</td>\n",
       "      <td>896.747886</td>\n",
       "      <td>1215.334564</td>\n",
       "    </tr>\n",
       "    <tr>\n",
       "      <th>2015-12-04</th>\n",
       "      <td>963.688257</td>\n",
       "      <td>901.265408</td>\n",
       "      <td>1235.356666</td>\n",
       "    </tr>\n",
       "    <tr>\n",
       "      <th>2015-12-07</th>\n",
       "      <td>971.087418</td>\n",
       "      <td>905.246729</td>\n",
       "      <td>1232.976556</td>\n",
       "    </tr>\n",
       "    <tr>\n",
       "      <th>...</th>\n",
       "      <td>...</td>\n",
       "      <td>...</td>\n",
       "      <td>...</td>\n",
       "    </tr>\n",
       "    <tr>\n",
       "      <th>2016-01-25</th>\n",
       "      <td>916.800479</td>\n",
       "      <td>899.423313</td>\n",
       "      <td>1218.158618</td>\n",
       "    </tr>\n",
       "    <tr>\n",
       "      <th>2016-01-26</th>\n",
       "      <td>906.860148</td>\n",
       "      <td>910.270047</td>\n",
       "      <td>1205.339786</td>\n",
       "    </tr>\n",
       "    <tr>\n",
       "      <th>2016-01-27</th>\n",
       "      <td>918.045539</td>\n",
       "      <td>899.918835</td>\n",
       "      <td>1227.858712</td>\n",
       "    </tr>\n",
       "    <tr>\n",
       "      <th>2016-01-28</th>\n",
       "      <td>918.510109</td>\n",
       "      <td>902.926637</td>\n",
       "      <td>1222.551561</td>\n",
       "    </tr>\n",
       "    <tr>\n",
       "      <th>2016-01-29</th>\n",
       "      <td>925.023548</td>\n",
       "      <td>904.054937</td>\n",
       "      <td>1216.536652</td>\n",
       "    </tr>\n",
       "  </tbody>\n",
       "</table>\n",
       "<p>44 rows × 3 columns</p>\n",
       "</div>"
      ],
      "text/plain": [
       "                price1      price2       price3\n",
       "2015-12-01  966.286338  898.841293  1230.877763\n",
       "2015-12-02  970.860557  902.354652  1221.094154\n",
       "2015-12-03  964.816665  896.747886  1215.334564\n",
       "2015-12-04  963.688257  901.265408  1235.356666\n",
       "2015-12-07  971.087418  905.246729  1232.976556\n",
       "...                ...         ...          ...\n",
       "2016-01-25  916.800479  899.423313  1218.158618\n",
       "2016-01-26  906.860148  910.270047  1205.339786\n",
       "2016-01-27  918.045539  899.918835  1227.858712\n",
       "2016-01-28  918.510109  902.926637  1222.551561\n",
       "2016-01-29  925.023548  904.054937  1216.536652\n",
       "\n",
       "[44 rows x 3 columns]"
      ]
     },
     "execution_count": 45,
     "metadata": {},
     "output_type": "execute_result"
    }
   ],
   "source": [
    "df.loc['2015-12':'2016-01']"
   ]
  },
  {
   "cell_type": "markdown",
   "metadata": {},
   "source": [
    "## インデックスに含まれていないタイムスタンプを範囲に含めることもできる"
   ]
  },
  {
   "cell_type": "code",
   "execution_count": 46,
   "metadata": {
    "ExecuteTime": {
     "end_time": "2016-09-03T16:46:16.481976",
     "start_time": "2016-09-03T16:46:16.452982"
    },
    "collapsed": false
   },
   "outputs": [
    {
     "data": {
      "text/html": [
       "<div>\n",
       "<table border=\"1\" class=\"dataframe\">\n",
       "  <thead>\n",
       "    <tr style=\"text-align: right;\">\n",
       "      <th></th>\n",
       "      <th>price1</th>\n",
       "      <th>price2</th>\n",
       "      <th>price3</th>\n",
       "    </tr>\n",
       "  </thead>\n",
       "  <tbody>\n",
       "    <tr>\n",
       "      <th>2016-01-04</th>\n",
       "      <td>954.732071</td>\n",
       "      <td>899.142614</td>\n",
       "      <td>1294.928149</td>\n",
       "    </tr>\n",
       "    <tr>\n",
       "      <th>2016-01-05</th>\n",
       "      <td>953.386341</td>\n",
       "      <td>872.398471</td>\n",
       "      <td>1320.877688</td>\n",
       "    </tr>\n",
       "    <tr>\n",
       "      <th>2016-01-06</th>\n",
       "      <td>954.855967</td>\n",
       "      <td>898.713163</td>\n",
       "      <td>1298.070114</td>\n",
       "    </tr>\n",
       "    <tr>\n",
       "      <th>2016-01-07</th>\n",
       "      <td>949.250614</td>\n",
       "      <td>894.920447</td>\n",
       "      <td>1279.576812</td>\n",
       "    </tr>\n",
       "    <tr>\n",
       "      <th>2016-01-08</th>\n",
       "      <td>947.600444</td>\n",
       "      <td>897.714045</td>\n",
       "      <td>1264.694257</td>\n",
       "    </tr>\n",
       "  </tbody>\n",
       "</table>\n",
       "</div>"
      ],
      "text/plain": [
       "                price1      price2       price3\n",
       "2016-01-04  954.732071  899.142614  1294.928149\n",
       "2016-01-05  953.386341  872.398471  1320.877688\n",
       "2016-01-06  954.855967  898.713163  1298.070114\n",
       "2016-01-07  949.250614  894.920447  1279.576812\n",
       "2016-01-08  947.600444  897.714045  1264.694257"
      ]
     },
     "execution_count": 46,
     "metadata": {},
     "output_type": "execute_result"
    }
   ],
   "source": [
    "df.loc['2016-01-02':'2016-01-10']"
   ]
  },
  {
   "cell_type": "markdown",
   "metadata": {},
   "source": [
    "## datetime.time型で参照"
   ]
  },
  {
   "cell_type": "code",
   "execution_count": 47,
   "metadata": {
    "ExecuteTime": {
     "end_time": "2016-09-03T16:46:16.495975",
     "start_time": "2016-09-03T16:46:16.484982"
    },
    "collapsed": false
   },
   "outputs": [],
   "source": [
    "# 1時間頻度のデータを100個作成\n",
    "ser = pd.Series(generate_stock_price(100, 0.2, 0, 0.2, 100, 1).T[0],\n",
    "               index=pd.date_range('2016-01-01', periods=100, freq='H'))"
   ]
  },
  {
   "cell_type": "code",
   "execution_count": 48,
   "metadata": {
    "ExecuteTime": {
     "end_time": "2016-09-03T16:46:16.529978",
     "start_time": "2016-09-03T16:46:16.499979"
    },
    "collapsed": false
   },
   "outputs": [
    {
     "data": {
      "text/plain": [
       "2016-01-01 00:00:00     94.615663\n",
       "2016-01-01 01:00:00    101.019134\n",
       "2016-01-01 02:00:00     99.712458\n",
       "2016-01-01 03:00:00    103.307695\n",
       "2016-01-01 04:00:00     91.217281\n",
       "Freq: H, dtype: float64"
      ]
     },
     "execution_count": 48,
     "metadata": {},
     "output_type": "execute_result"
    }
   ],
   "source": [
    "ser.head()"
   ]
  },
  {
   "cell_type": "markdown",
   "metadata": {},
   "source": [
    "### datetime.timeで参照すると指定した時刻を抜き出すことができる"
   ]
  },
  {
   "cell_type": "code",
   "execution_count": 49,
   "metadata": {
    "ExecuteTime": {
     "end_time": "2016-09-03T16:46:16.557976",
     "start_time": "2016-09-03T16:46:16.534979"
    },
    "collapsed": false
   },
   "outputs": [
    {
     "data": {
      "text/plain": [
       "2016-01-01 09:00:00    112.509958\n",
       "2016-01-02 09:00:00    106.277985\n",
       "2016-01-03 09:00:00    102.816285\n",
       "2016-01-04 09:00:00     82.912921\n",
       "Freq: 24H, dtype: float64"
      ]
     },
     "execution_count": 49,
     "metadata": {},
     "output_type": "execute_result"
    }
   ],
   "source": [
    "ser[datetime.time(9, 0)]"
   ]
  },
  {
   "cell_type": "markdown",
   "metadata": {},
   "source": [
    "### 内部では.at_time()メソッドが動作している"
   ]
  },
  {
   "cell_type": "code",
   "execution_count": 50,
   "metadata": {
    "ExecuteTime": {
     "end_time": "2016-09-03T16:46:16.609975",
     "start_time": "2016-09-03T16:46:16.560977"
    },
    "collapsed": false
   },
   "outputs": [
    {
     "data": {
      "text/plain": [
       "2016-01-01 09:00:00    112.509958\n",
       "2016-01-02 09:00:00    106.277985\n",
       "2016-01-03 09:00:00    102.816285\n",
       "2016-01-04 09:00:00     82.912921\n",
       "Freq: 24H, dtype: float64"
      ]
     },
     "execution_count": 50,
     "metadata": {},
     "output_type": "execute_result"
    }
   ],
   "source": [
    "ser.at_time(datetime.time(9, 0))"
   ]
  },
  {
   "cell_type": "markdown",
   "metadata": {},
   "source": [
    "### .between_time()メソッドを使うと、時刻の範囲を指定できる"
   ]
  },
  {
   "cell_type": "code",
   "execution_count": 51,
   "metadata": {
    "ExecuteTime": {
     "end_time": "2016-09-03T16:46:16.637977",
     "start_time": "2016-09-03T16:46:16.612984"
    },
    "collapsed": false
   },
   "outputs": [
    {
     "data": {
      "text/plain": [
       "2016-01-01 09:00:00    112.509958\n",
       "2016-01-01 10:00:00    101.140886\n",
       "2016-01-01 11:00:00     87.446858\n",
       "2016-01-01 12:00:00    109.157271\n",
       "2016-01-02 09:00:00    106.277985\n",
       "                          ...    \n",
       "2016-01-03 12:00:00    103.503862\n",
       "2016-01-04 09:00:00     82.912921\n",
       "2016-01-04 10:00:00     98.854999\n",
       "2016-01-04 11:00:00    110.028523\n",
       "2016-01-04 12:00:00    108.376573\n",
       "dtype: float64"
      ]
     },
     "execution_count": 51,
     "metadata": {},
     "output_type": "execute_result"
    }
   ],
   "source": [
    "ser.between_time(datetime.time(9, 0), datetime.time(12, 0))"
   ]
  },
  {
   "cell_type": "markdown",
   "metadata": {},
   "source": [
    "# Case2-2: 四本値を作成、範囲を変換\n",
    "---"
   ]
  },
  {
   "cell_type": "markdown",
   "metadata": {},
   "source": [
    "## .resample()メソッドを使って月足に変換"
   ]
  },
  {
   "cell_type": "code",
   "execution_count": 52,
   "metadata": {
    "ExecuteTime": {
     "end_time": "2016-09-03T16:46:16.678978",
     "start_time": "2016-09-03T16:46:16.640980"
    },
    "collapsed": false
   },
   "outputs": [
    {
     "data": {
      "text/html": [
       "<div>\n",
       "<table border=\"1\" class=\"dataframe\">\n",
       "  <thead>\n",
       "    <tr style=\"text-align: right;\">\n",
       "      <th></th>\n",
       "      <th>open</th>\n",
       "      <th>high</th>\n",
       "      <th>low</th>\n",
       "      <th>close</th>\n",
       "    </tr>\n",
       "  </thead>\n",
       "  <tbody>\n",
       "    <tr>\n",
       "      <th>2015-01-31</th>\n",
       "      <td>1001.986297</td>\n",
       "      <td>1018.922534</td>\n",
       "      <td>966.951961</td>\n",
       "      <td>1006.589074</td>\n",
       "    </tr>\n",
       "    <tr>\n",
       "      <th>2015-02-28</th>\n",
       "      <td>1008.180142</td>\n",
       "      <td>1048.923425</td>\n",
       "      <td>978.924985</td>\n",
       "      <td>1013.558120</td>\n",
       "    </tr>\n",
       "    <tr>\n",
       "      <th>2015-03-31</th>\n",
       "      <td>1014.498947</td>\n",
       "      <td>1059.981738</td>\n",
       "      <td>1014.498947</td>\n",
       "      <td>1021.730032</td>\n",
       "    </tr>\n",
       "    <tr>\n",
       "      <th>2015-04-30</th>\n",
       "      <td>1037.939397</td>\n",
       "      <td>1037.939397</td>\n",
       "      <td>971.140629</td>\n",
       "      <td>971.140629</td>\n",
       "    </tr>\n",
       "    <tr>\n",
       "      <th>2015-05-31</th>\n",
       "      <td>981.722125</td>\n",
       "      <td>981.722125</td>\n",
       "      <td>947.484479</td>\n",
       "      <td>962.249187</td>\n",
       "    </tr>\n",
       "    <tr>\n",
       "      <th>...</th>\n",
       "      <td>...</td>\n",
       "      <td>...</td>\n",
       "      <td>...</td>\n",
       "      <td>...</td>\n",
       "    </tr>\n",
       "    <tr>\n",
       "      <th>2016-08-31</th>\n",
       "      <td>896.280304</td>\n",
       "      <td>952.424363</td>\n",
       "      <td>891.787996</td>\n",
       "      <td>936.649680</td>\n",
       "    </tr>\n",
       "    <tr>\n",
       "      <th>2016-09-30</th>\n",
       "      <td>935.431969</td>\n",
       "      <td>935.431969</td>\n",
       "      <td>892.034835</td>\n",
       "      <td>914.854900</td>\n",
       "    </tr>\n",
       "    <tr>\n",
       "      <th>2016-10-31</th>\n",
       "      <td>914.456067</td>\n",
       "      <td>941.053802</td>\n",
       "      <td>900.699948</td>\n",
       "      <td>934.165120</td>\n",
       "    </tr>\n",
       "    <tr>\n",
       "      <th>2016-11-30</th>\n",
       "      <td>942.303887</td>\n",
       "      <td>942.303887</td>\n",
       "      <td>889.384129</td>\n",
       "      <td>921.059061</td>\n",
       "    </tr>\n",
       "    <tr>\n",
       "      <th>2016-12-31</th>\n",
       "      <td>918.126975</td>\n",
       "      <td>1040.998759</td>\n",
       "      <td>918.126975</td>\n",
       "      <td>1014.684427</td>\n",
       "    </tr>\n",
       "  </tbody>\n",
       "</table>\n",
       "<p>24 rows × 4 columns</p>\n",
       "</div>"
      ],
      "text/plain": [
       "                   open         high          low        close\n",
       "2015-01-31  1001.986297  1018.922534   966.951961  1006.589074\n",
       "2015-02-28  1008.180142  1048.923425   978.924985  1013.558120\n",
       "2015-03-31  1014.498947  1059.981738  1014.498947  1021.730032\n",
       "2015-04-30  1037.939397  1037.939397   971.140629   971.140629\n",
       "2015-05-31   981.722125   981.722125   947.484479   962.249187\n",
       "...                 ...          ...          ...          ...\n",
       "2016-08-31   896.280304   952.424363   891.787996   936.649680\n",
       "2016-09-30   935.431969   935.431969   892.034835   914.854900\n",
       "2016-10-31   914.456067   941.053802   900.699948   934.165120\n",
       "2016-11-30   942.303887   942.303887   889.384129   921.059061\n",
       "2016-12-31   918.126975  1040.998759   918.126975  1014.684427\n",
       "\n",
       "[24 rows x 4 columns]"
      ]
     },
     "execution_count": 52,
     "metadata": {},
     "output_type": "execute_result"
    }
   ],
   "source": [
    "df['price1'].resample('M').ohlc()"
   ]
  },
  {
   "cell_type": "markdown",
   "metadata": {},
   "source": [
    "## 既にある四本値のデータを変換してみる"
   ]
  },
  {
   "cell_type": "markdown",
   "metadata": {},
   "source": [
    "### [Yahoo Finance](https://finance.yahoo.com \"yahoo finance\")からS&P指数の四本値を取ってくる"
   ]
  },
  {
   "cell_type": "code",
   "execution_count": 53,
   "metadata": {
    "ExecuteTime": {
     "end_time": "2016-09-03T16:46:16.708980",
     "start_time": "2016-09-03T16:46:16.681978"
    },
    "collapsed": true
   },
   "outputs": [],
   "source": [
    "from pandas_datareader import data\n",
    "try:\n",
    "    gspc = data.DataReader(\"^GSPC\", 'yahoo', datetime.datetime(2006, 1, 1), datetime.datetime(2015, 12, 31))\n",
    "except Exception:\n",
    "    gspc = pd.read_msgpack('data/^GSPC.mpack')"
   ]
  },
  {
   "cell_type": "code",
   "execution_count": 54,
   "metadata": {
    "ExecuteTime": {
     "end_time": "2016-09-03T16:46:16.741980",
     "start_time": "2016-09-03T16:46:16.712986"
    },
    "collapsed": false
   },
   "outputs": [
    {
     "data": {
      "text/html": [
       "<div>\n",
       "<table border=\"1\" class=\"dataframe\">\n",
       "  <thead>\n",
       "    <tr style=\"text-align: right;\">\n",
       "      <th></th>\n",
       "      <th>Open</th>\n",
       "      <th>High</th>\n",
       "      <th>Low</th>\n",
       "      <th>Close</th>\n",
       "      <th>Volume</th>\n",
       "      <th>Adj Close</th>\n",
       "    </tr>\n",
       "    <tr>\n",
       "      <th>Date</th>\n",
       "      <th></th>\n",
       "      <th></th>\n",
       "      <th></th>\n",
       "      <th></th>\n",
       "      <th></th>\n",
       "      <th></th>\n",
       "    </tr>\n",
       "  </thead>\n",
       "  <tbody>\n",
       "    <tr>\n",
       "      <th>2006-01-03</th>\n",
       "      <td>1248.290039</td>\n",
       "      <td>1270.219971</td>\n",
       "      <td>1245.739990</td>\n",
       "      <td>1268.800049</td>\n",
       "      <td>2554570000</td>\n",
       "      <td>1268.800049</td>\n",
       "    </tr>\n",
       "    <tr>\n",
       "      <th>2006-01-04</th>\n",
       "      <td>1268.800049</td>\n",
       "      <td>1275.369995</td>\n",
       "      <td>1267.739990</td>\n",
       "      <td>1273.459961</td>\n",
       "      <td>2515330000</td>\n",
       "      <td>1273.459961</td>\n",
       "    </tr>\n",
       "    <tr>\n",
       "      <th>2006-01-05</th>\n",
       "      <td>1273.459961</td>\n",
       "      <td>1276.910034</td>\n",
       "      <td>1270.300049</td>\n",
       "      <td>1273.479980</td>\n",
       "      <td>2433340000</td>\n",
       "      <td>1273.479980</td>\n",
       "    </tr>\n",
       "    <tr>\n",
       "      <th>2006-01-06</th>\n",
       "      <td>1273.479980</td>\n",
       "      <td>1286.089966</td>\n",
       "      <td>1273.479980</td>\n",
       "      <td>1285.449951</td>\n",
       "      <td>2446560000</td>\n",
       "      <td>1285.449951</td>\n",
       "    </tr>\n",
       "    <tr>\n",
       "      <th>2006-01-09</th>\n",
       "      <td>1285.449951</td>\n",
       "      <td>1290.780029</td>\n",
       "      <td>1284.819946</td>\n",
       "      <td>1290.150024</td>\n",
       "      <td>2301490000</td>\n",
       "      <td>1290.150024</td>\n",
       "    </tr>\n",
       "  </tbody>\n",
       "</table>\n",
       "</div>"
      ],
      "text/plain": [
       "                   Open         High          Low        Close      Volume  \\\n",
       "Date                                                                         \n",
       "2006-01-03  1248.290039  1270.219971  1245.739990  1268.800049  2554570000   \n",
       "2006-01-04  1268.800049  1275.369995  1267.739990  1273.459961  2515330000   \n",
       "2006-01-05  1273.459961  1276.910034  1270.300049  1273.479980  2433340000   \n",
       "2006-01-06  1273.479980  1286.089966  1273.479980  1285.449951  2446560000   \n",
       "2006-01-09  1285.449951  1290.780029  1284.819946  1290.150024  2301490000   \n",
       "\n",
       "              Adj Close  \n",
       "Date                     \n",
       "2006-01-03  1268.800049  \n",
       "2006-01-04  1273.459961  \n",
       "2006-01-05  1273.479980  \n",
       "2006-01-06  1285.449951  \n",
       "2006-01-09  1290.150024  "
      ]
     },
     "execution_count": 54,
     "metadata": {},
     "output_type": "execute_result"
    }
   ],
   "source": [
    "gspc.head()"
   ]
  },
  {
   "cell_type": "markdown",
   "metadata": {},
   "source": [
    "### 普通にresample().ohlc()を実行すると・・・"
   ]
  },
  {
   "cell_type": "code",
   "execution_count": 55,
   "metadata": {
    "ExecuteTime": {
     "end_time": "2016-09-03T16:46:16.906980",
     "start_time": "2016-09-03T16:46:16.744980"
    },
    "collapsed": false,
    "scrolled": false
   },
   "outputs": [
    {
     "data": {
      "text/html": [
       "<div>\n",
       "<table border=\"1\" class=\"dataframe\">\n",
       "  <thead>\n",
       "    <tr>\n",
       "      <th></th>\n",
       "      <th colspan=\"4\" halign=\"left\">Open</th>\n",
       "      <th colspan=\"4\" halign=\"left\">High</th>\n",
       "      <th colspan=\"2\" halign=\"left\">Low</th>\n",
       "      <th>...</th>\n",
       "      <th colspan=\"2\" halign=\"left\">Close</th>\n",
       "      <th colspan=\"4\" halign=\"left\">Volume</th>\n",
       "      <th colspan=\"4\" halign=\"left\">Adj Close</th>\n",
       "    </tr>\n",
       "    <tr>\n",
       "      <th></th>\n",
       "      <th>open</th>\n",
       "      <th>high</th>\n",
       "      <th>low</th>\n",
       "      <th>close</th>\n",
       "      <th>open</th>\n",
       "      <th>high</th>\n",
       "      <th>low</th>\n",
       "      <th>close</th>\n",
       "      <th>open</th>\n",
       "      <th>high</th>\n",
       "      <th>...</th>\n",
       "      <th>low</th>\n",
       "      <th>close</th>\n",
       "      <th>open</th>\n",
       "      <th>high</th>\n",
       "      <th>low</th>\n",
       "      <th>close</th>\n",
       "      <th>open</th>\n",
       "      <th>high</th>\n",
       "      <th>low</th>\n",
       "      <th>close</th>\n",
       "    </tr>\n",
       "    <tr>\n",
       "      <th>Date</th>\n",
       "      <th></th>\n",
       "      <th></th>\n",
       "      <th></th>\n",
       "      <th></th>\n",
       "      <th></th>\n",
       "      <th></th>\n",
       "      <th></th>\n",
       "      <th></th>\n",
       "      <th></th>\n",
       "      <th></th>\n",
       "      <th></th>\n",
       "      <th></th>\n",
       "      <th></th>\n",
       "      <th></th>\n",
       "      <th></th>\n",
       "      <th></th>\n",
       "      <th></th>\n",
       "      <th></th>\n",
       "      <th></th>\n",
       "      <th></th>\n",
       "      <th></th>\n",
       "    </tr>\n",
       "  </thead>\n",
       "  <tbody>\n",
       "    <tr>\n",
       "      <th>2006-01-08</th>\n",
       "      <td>1248.290039</td>\n",
       "      <td>1273.479980</td>\n",
       "      <td>1248.290039</td>\n",
       "      <td>1273.479980</td>\n",
       "      <td>1270.219971</td>\n",
       "      <td>1286.089966</td>\n",
       "      <td>1270.219971</td>\n",
       "      <td>1286.089966</td>\n",
       "      <td>1245.739990</td>\n",
       "      <td>1273.479980</td>\n",
       "      <td>...</td>\n",
       "      <td>1268.800049</td>\n",
       "      <td>1285.449951</td>\n",
       "      <td>2554570000</td>\n",
       "      <td>2554570000</td>\n",
       "      <td>2433340000</td>\n",
       "      <td>2446560000</td>\n",
       "      <td>1268.800049</td>\n",
       "      <td>1285.449951</td>\n",
       "      <td>1268.800049</td>\n",
       "      <td>1285.449951</td>\n",
       "    </tr>\n",
       "    <tr>\n",
       "      <th>2006-01-15</th>\n",
       "      <td>1285.449951</td>\n",
       "      <td>1294.180054</td>\n",
       "      <td>1285.449951</td>\n",
       "      <td>1286.060059</td>\n",
       "      <td>1290.780029</td>\n",
       "      <td>1294.900024</td>\n",
       "      <td>1288.959961</td>\n",
       "      <td>1288.959961</td>\n",
       "      <td>1284.819946</td>\n",
       "      <td>1288.119995</td>\n",
       "      <td>...</td>\n",
       "      <td>1286.060059</td>\n",
       "      <td>1287.609985</td>\n",
       "      <td>2301490000</td>\n",
       "      <td>2406130000</td>\n",
       "      <td>2206510000</td>\n",
       "      <td>2206510000</td>\n",
       "      <td>1290.150024</td>\n",
       "      <td>1294.180054</td>\n",
       "      <td>1286.060059</td>\n",
       "      <td>1287.609985</td>\n",
       "    </tr>\n",
       "    <tr>\n",
       "      <th>2006-01-22</th>\n",
       "      <td>1287.609985</td>\n",
       "      <td>1287.609985</td>\n",
       "      <td>1277.930054</td>\n",
       "      <td>1285.040039</td>\n",
       "      <td>1287.609985</td>\n",
       "      <td>1287.790039</td>\n",
       "      <td>1282.930054</td>\n",
       "      <td>1285.040039</td>\n",
       "      <td>1278.609985</td>\n",
       "      <td>1278.609985</td>\n",
       "      <td>...</td>\n",
       "      <td>1261.489990</td>\n",
       "      <td>1261.489990</td>\n",
       "      <td>2179970000</td>\n",
       "      <td>2845810000</td>\n",
       "      <td>2179970000</td>\n",
       "      <td>2845810000</td>\n",
       "      <td>1282.930054</td>\n",
       "      <td>1285.040039</td>\n",
       "      <td>1261.489990</td>\n",
       "      <td>1261.489990</td>\n",
       "    </tr>\n",
       "    <tr>\n",
       "      <th>2006-01-29</th>\n",
       "      <td>1261.489990</td>\n",
       "      <td>1273.829956</td>\n",
       "      <td>1261.489990</td>\n",
       "      <td>1273.829956</td>\n",
       "      <td>1268.189941</td>\n",
       "      <td>1286.380005</td>\n",
       "      <td>1268.189941</td>\n",
       "      <td>1286.380005</td>\n",
       "      <td>1261.489990</td>\n",
       "      <td>1273.829956</td>\n",
       "      <td>...</td>\n",
       "      <td>1263.819946</td>\n",
       "      <td>1283.719971</td>\n",
       "      <td>2256070000</td>\n",
       "      <td>2856780000</td>\n",
       "      <td>2256070000</td>\n",
       "      <td>2623620000</td>\n",
       "      <td>1263.819946</td>\n",
       "      <td>1283.719971</td>\n",
       "      <td>1263.819946</td>\n",
       "      <td>1283.719971</td>\n",
       "    </tr>\n",
       "    <tr>\n",
       "      <th>2006-02-05</th>\n",
       "      <td>1283.719971</td>\n",
       "      <td>1285.199951</td>\n",
       "      <td>1270.839966</td>\n",
       "      <td>1270.839966</td>\n",
       "      <td>1287.939941</td>\n",
       "      <td>1287.939941</td>\n",
       "      <td>1270.869995</td>\n",
       "      <td>1270.869995</td>\n",
       "      <td>1283.510010</td>\n",
       "      <td>1283.510010</td>\n",
       "      <td>...</td>\n",
       "      <td>1264.030029</td>\n",
       "      <td>1264.030029</td>\n",
       "      <td>2282730000</td>\n",
       "      <td>2708310000</td>\n",
       "      <td>2282210000</td>\n",
       "      <td>2282210000</td>\n",
       "      <td>1285.189941</td>\n",
       "      <td>1285.189941</td>\n",
       "      <td>1264.030029</td>\n",
       "      <td>1264.030029</td>\n",
       "    </tr>\n",
       "  </tbody>\n",
       "</table>\n",
       "<p>5 rows × 24 columns</p>\n",
       "</div>"
      ],
      "text/plain": [
       "                   Open                                                High  \\\n",
       "                   open         high          low        close         open   \n",
       "Date                                                                          \n",
       "2006-01-08  1248.290039  1273.479980  1248.290039  1273.479980  1270.219971   \n",
       "2006-01-15  1285.449951  1294.180054  1285.449951  1286.060059  1290.780029   \n",
       "2006-01-22  1287.609985  1287.609985  1277.930054  1285.040039  1287.609985   \n",
       "2006-01-29  1261.489990  1273.829956  1261.489990  1273.829956  1268.189941   \n",
       "2006-02-05  1283.719971  1285.199951  1270.839966  1270.839966  1287.939941   \n",
       "\n",
       "                                                           Low               \\\n",
       "                   high          low        close         open         high   \n",
       "Date                                                                          \n",
       "2006-01-08  1286.089966  1270.219971  1286.089966  1245.739990  1273.479980   \n",
       "2006-01-15  1294.900024  1288.959961  1288.959961  1284.819946  1288.119995   \n",
       "2006-01-22  1287.790039  1282.930054  1285.040039  1278.609985  1278.609985   \n",
       "2006-01-29  1286.380005  1268.189941  1286.380005  1261.489990  1273.829956   \n",
       "2006-02-05  1287.939941  1270.869995  1270.869995  1283.510010  1283.510010   \n",
       "\n",
       "               ...             Close                   Volume              \\\n",
       "               ...               low        close        open        high   \n",
       "Date           ...                                                          \n",
       "2006-01-08     ...       1268.800049  1285.449951  2554570000  2554570000   \n",
       "2006-01-15     ...       1286.060059  1287.609985  2301490000  2406130000   \n",
       "2006-01-22     ...       1261.489990  1261.489990  2179970000  2845810000   \n",
       "2006-01-29     ...       1263.819946  1283.719971  2256070000  2856780000   \n",
       "2006-02-05     ...       1264.030029  1264.030029  2282730000  2708310000   \n",
       "\n",
       "                                      Adj Close                            \\\n",
       "                   low       close         open         high          low   \n",
       "Date                                                                        \n",
       "2006-01-08  2433340000  2446560000  1268.800049  1285.449951  1268.800049   \n",
       "2006-01-15  2206510000  2206510000  1290.150024  1294.180054  1286.060059   \n",
       "2006-01-22  2179970000  2845810000  1282.930054  1285.040039  1261.489990   \n",
       "2006-01-29  2256070000  2623620000  1263.819946  1283.719971  1263.819946   \n",
       "2006-02-05  2282210000  2282210000  1285.189941  1285.189941  1264.030029   \n",
       "\n",
       "                         \n",
       "                  close  \n",
       "Date                     \n",
       "2006-01-08  1285.449951  \n",
       "2006-01-15  1287.609985  \n",
       "2006-01-22  1261.489990  \n",
       "2006-01-29  1283.719971  \n",
       "2006-02-05  1264.030029  \n",
       "\n",
       "[5 rows x 24 columns]"
      ]
     },
     "execution_count": 55,
     "metadata": {},
     "output_type": "execute_result"
    }
   ],
   "source": [
    "gspc.resample('W').ohlc().head()"
   ]
  },
  {
   "cell_type": "markdown",
   "metadata": {},
   "source": [
    "### 各列毎のohlcを集計してしまうので、四本値毎の集計した値から必要な値を持ってくる"
   ]
  },
  {
   "cell_type": "code",
   "execution_count": 56,
   "metadata": {
    "ExecuteTime": {
     "end_time": "2016-09-03T16:46:17.022976",
     "start_time": "2016-09-03T16:46:16.912979"
    },
    "collapsed": false
   },
   "outputs": [],
   "source": [
    "gspc_weekly_ohlc = gspc.resample('W').ohlc()[[('Open', 'open'), ('High', 'high'), ('Low', 'low'), ('Close', 'close')]]\n",
    "gspc_weekly_ohlc.columns = gspc_weekly_ohlc.columns.droplevel()"
   ]
  },
  {
   "cell_type": "code",
   "execution_count": 57,
   "metadata": {
    "ExecuteTime": {
     "end_time": "2016-09-03T16:46:17.048978",
     "start_time": "2016-09-03T16:46:17.025980"
    },
    "collapsed": false
   },
   "outputs": [
    {
     "data": {
      "text/html": [
       "<div>\n",
       "<table border=\"1\" class=\"dataframe\">\n",
       "  <thead>\n",
       "    <tr style=\"text-align: right;\">\n",
       "      <th></th>\n",
       "      <th>open</th>\n",
       "      <th>high</th>\n",
       "      <th>low</th>\n",
       "      <th>close</th>\n",
       "    </tr>\n",
       "    <tr>\n",
       "      <th>Date</th>\n",
       "      <th></th>\n",
       "      <th></th>\n",
       "      <th></th>\n",
       "      <th></th>\n",
       "    </tr>\n",
       "  </thead>\n",
       "  <tbody>\n",
       "    <tr>\n",
       "      <th>2006-01-08</th>\n",
       "      <td>1248.290039</td>\n",
       "      <td>1286.089966</td>\n",
       "      <td>1245.739990</td>\n",
       "      <td>1285.449951</td>\n",
       "    </tr>\n",
       "    <tr>\n",
       "      <th>2006-01-15</th>\n",
       "      <td>1285.449951</td>\n",
       "      <td>1294.900024</td>\n",
       "      <td>1282.780029</td>\n",
       "      <td>1287.609985</td>\n",
       "    </tr>\n",
       "    <tr>\n",
       "      <th>2006-01-22</th>\n",
       "      <td>1287.609985</td>\n",
       "      <td>1287.790039</td>\n",
       "      <td>1260.920044</td>\n",
       "      <td>1261.489990</td>\n",
       "    </tr>\n",
       "    <tr>\n",
       "      <th>2006-01-29</th>\n",
       "      <td>1261.489990</td>\n",
       "      <td>1286.380005</td>\n",
       "      <td>1259.420044</td>\n",
       "      <td>1283.719971</td>\n",
       "    </tr>\n",
       "    <tr>\n",
       "      <th>2006-02-05</th>\n",
       "      <td>1283.719971</td>\n",
       "      <td>1287.939941</td>\n",
       "      <td>1261.020020</td>\n",
       "      <td>1264.030029</td>\n",
       "    </tr>\n",
       "  </tbody>\n",
       "</table>\n",
       "</div>"
      ],
      "text/plain": [
       "                   open         high          low        close\n",
       "Date                                                          \n",
       "2006-01-08  1248.290039  1286.089966  1245.739990  1285.449951\n",
       "2006-01-15  1285.449951  1294.900024  1282.780029  1287.609985\n",
       "2006-01-22  1287.609985  1287.790039  1260.920044  1261.489990\n",
       "2006-01-29  1261.489990  1286.380005  1259.420044  1283.719971\n",
       "2006-02-05  1283.719971  1287.939941  1261.020020  1264.030029"
      ]
     },
     "execution_count": 57,
     "metadata": {},
     "output_type": "execute_result"
    }
   ],
   "source": [
    "gspc_weekly_ohlc.head()"
   ]
  },
  {
   "cell_type": "markdown",
   "metadata": {
    "collapsed": true
   },
   "source": [
    "## 番外編: HighChartsでローソク足を表示してみる"
   ]
  },
  {
   "cell_type": "markdown",
   "metadata": {},
   "source": [
    "### Python3の場合\n",
    "python-highchartsはPython3に対応していないので、forkしたリポジトリからインストール  \n",
    "  \n",
    "`git clone -b issue37-Python3 https://github.com/JrtPec/python-highcharts.git\n",
    "cd python-highcharts\n",
    "python setup.py install`"
   ]
  },
  {
   "cell_type": "code",
   "execution_count": 58,
   "metadata": {
    "ExecuteTime": {
     "end_time": "2016-09-03T16:46:17.124975",
     "start_time": "2016-09-03T16:46:17.052978"
    },
    "collapsed": false
   },
   "outputs": [
    {
     "data": {
      "text/html": [
       "<style>body{-moz-osx-font-smoothing:grayscale;-webkit-font-smoothing:antialiased;color:#555;font-family:sans-serif}\n",
       "small{font-weight:400;display:block;font-size:14px}\n",
       "code{background-color:#d3d3d3;border-radius:3px;font-family:monospace;padding:0 .5em}\n",
       ".icon.-facebook:before,.icon.-linkedin:before,.icon.-pinterest:before,.icon.-twitter:before{-moz-osx-font-smoothing:grayscale;-webkit-font-smoothing:antialiased;font-family:Post-Creator-Icons;font-style:normal;font-variant:normal;font-weight:400;line-height:1;speak:none;text-transform:none}\n",
       "@font-face{font-family:Post-Creator-Icons;src:url(fonts/Post-Creator-Icons.eot);src:url(fonts/Post-Creator-Icons.eot?#iefix) format('embedded-opentype'),url(fonts/Post-Creator-Icons.woff) format('woff'),url(fonts/Post-Creator-Icons.ttf) format('truetype'),url(fonts/Post-Creator-Icons.svg#Post-Creator-Icons) format('svg');font-weight:400;font-style:normal}\n",
       ".icon.-facebook:before{content:\"\\e001\"}\n",
       ".icon.-linkedin:before{content:\"\\e002\"}\n",
       ".icon.-pinterest:before{content:\"\\e003\"}\n",
       ".icon.-twitter:before{content:\"\\e004\"}\n",
       ".social-icons h4{display:inline-block;margin:20px 10px 0 0}\n",
       ".social-icons .icon{display:inline-block;margin:0 5px}\n",
       "body.modal-open{overflow:hidden}\n",
       ".jsoneditor table,.jsoneditor td,.jsoneditor td.tree,.jsoneditor tr{border:none;margin:0}</style>\n",
       "<link rel=\"stylesheet\" href=\"https://cdnjs.cloudflare.com/ajax/libs/selectize.js/0.12.1/css/selectize.default.min.css\"/>\n",
       "<link rel=\"stylesheet\" href=\"https://cdnjs.cloudflare.com/ajax/libs/jsoneditor/4.2.0/jsoneditor.min.css\"/>\n",
       "\n",
       "<div class=\"container-fluid\">\n",
       "    <div class=\"row\">\n",
       "        <div class=\"col-sm-10\">\n",
       "            <input type=\"text\" id=\"variable-selector\">\n",
       "        </div>\n",
       "        <div class=\"col-sm-2\">\n",
       "            <button class=\"btn btn-default pull-right\" type=\"submit\" id=\"settings-button\">Settings</button>\n",
       "        </div>\n",
       "    </div>\n",
       "\n",
       "    <div class=\"row\">\n",
       "        <div class=\"collapse col-xs-12\" id=\"settings-collapse\">\n",
       "            <div class=\"panel panel-default\" style=\"margin-top: 20px\">\n",
       "                <div class=\"panel-heading\"><h3 class=\"panel-title\">Adjust chart settings</h3></div>\n",
       "                <div class=\"panel-body\">\n",
       "                    <div class=\"row\">\n",
       "                        <div id=\"jsoneditor\" class=\"col-md-12\" style=\"height: 350px\"></div>\n",
       "                    </div>\n",
       "                    <div class=\"row\" style=\"margin-top: 10px\">\n",
       "                        <div class=\"col-sm-4\">\n",
       "                            <button type=\"button\" class=\"btn btn-primary\" id=\"save-settings\">\n",
       "                                Apply changes\n",
       "                            </button>\n",
       "                        </div>\n",
       "                        <div class=\"col-sm-8 text-right \">\n",
       "                            <form class=\"form-inline\">\n",
       "                                <div class=\"form-group\">\n",
       "                                    <div class=\"input-group\">\n",
       "                                        <input type=\"text\" class=\"form-control\" id=\"options-input\"\n",
       "                                               placeholder=\"settings\" style=\"text-align: right\">\n",
       "                                        <div class=\"input-group-addon\"><strong>.json</strong></div>\n",
       "                                    </div>\n",
       "                                </div>\n",
       "                                <button type=\"submit\" class=\"btn btn-primary\" id=\"options-button\">Save</button>\n",
       "                            </form>\n",
       "\n",
       "                        </div>\n",
       "                    </div>\n",
       "                </div>\n",
       "            </div>\n",
       "        </div>\n",
       "    </div>\n",
       "\n",
       "    <div class=\"row\">\n",
       "        <div id=\"chart-container\" style=\"min-width: 310px;\"></div>\n",
       "    </div>\n",
       "</div>\n",
       "\n",
       "\n",
       "<script src=\"https://cdnjs.cloudflare.com/ajax/libs/jquery/2.1.4/jquery.min.js\"></script>\n",
       "<script src=\"https://cdnjs.cloudflare.com/ajax/libs/require.js/2.1.18/require.min.js\"></script>\n",
       "\n",
       "\n",
       "\n",
       "\n",
       "\n",
       "\n",
       "<script>(function e(t,n,r){function s(o,u){if(!n[o]){if(!t[o]){var a=typeof require==\"function\"&&require;if(!u&&a)return a(o,!0);if(i)return i(o,!0);var f=new Error(\"Cannot find module '\"+o+\"'\");throw f.code=\"MODULE_NOT_FOUND\",f}var l=n[o]={exports:{}};t[o][0].call(l.exports,function(e){var n=t[o][1][e];return s(n?n:e)},l,l.exports,e,t,n,r)}return n[o].exports}var i=typeof require==\"function\"&&require;for(var o=0;o<r.length;o++)s(r[o]);return s})({1:[function(require,module,exports){\n",
       "//findIndex polyfill\n",
       "if (!Array.prototype.findIndex) {\n",
       "    Array.prototype.findIndex = function(predicate) {\n",
       "        if (this == null) {\n",
       "            throw new TypeError('Array.prototype.findIndex called on null or undefined');\n",
       "        }\n",
       "        if (typeof predicate !== 'function') {\n",
       "            throw new TypeError('predicate must be a function');\n",
       "        }\n",
       "        var list = Object(this);\n",
       "        var length = list.length >>> 0;\n",
       "        var thisArg = arguments[1];\n",
       "        var value;\n",
       "\n",
       "        for (var i = 0; i < length; i++) {\n",
       "            value = list[i];\n",
       "            if (predicate.call(thisArg, value, i, list)) {\n",
       "                return i;\n",
       "            }\n",
       "        }\n",
       "        return -1;\n",
       "    };\n",
       "}\n",
       "\n",
       "if (!Array.prototype.filter) {\n",
       "    Array.prototype.filter = function(fun/*, thisArg*/) {\n",
       "        'use strict';\n",
       "\n",
       "        if (this === void 0 || this === null) {\n",
       "            throw new TypeError();\n",
       "        }\n",
       "\n",
       "        var t = Object(this);\n",
       "        var len = t.length >>> 0;\n",
       "        if (typeof fun !== 'function') {\n",
       "            throw new TypeError();\n",
       "        }\n",
       "\n",
       "        var res = [];\n",
       "        var thisArg = arguments.length >= 2 ? arguments[1] : void 0;\n",
       "        for (var i = 0; i < len; i++) {\n",
       "            if (i in t) {\n",
       "                var val = t[i];\n",
       "\n",
       "                // NOTE: Technically this should Object.defineProperty at\n",
       "                //       the next index, as push can be affected by\n",
       "                //       properties on Object.prototype and Array.prototype.\n",
       "                //       But that method's new, and collisions should be\n",
       "                //       rare, so use the more-compatible alternative.\n",
       "                if (fun.call(thisArg, val, i, t)) {\n",
       "                    res.push(val);\n",
       "                }\n",
       "            }\n",
       "        }\n",
       "\n",
       "        return res;\n",
       "    };\n",
       "}\n",
       "\n",
       "function guid() {\n",
       "    function s4() {\n",
       "        return Math.floor((1 + Math.random()) * 0x10000)\n",
       "            .toString(16)\n",
       "            .substring(1);\n",
       "    }\n",
       "    return s4() + s4() + '-' + s4() + '-' + s4() + '-' +\n",
       "        s4() + '-' + s4() + s4() + s4();\n",
       "}\n",
       "\n",
       "Array.prototype.equals = function (array) {\n",
       "    // if the other array is a false value, return\n",
       "    if (!array)\n",
       "        return false;\n",
       "\n",
       "    // compare lengths - can save a lot of time\n",
       "    if (this.length != array.length)\n",
       "        return false;\n",
       "\n",
       "    for (var i = 0, l = this.length; i < l; i++) {\n",
       "        // Check if we have nested arrays\n",
       "        if (this[i] instanceof Array && array[i] instanceof Array) {\n",
       "            // recurse into the nested arrays\n",
       "            if (!this[i].equals(array[i]))\n",
       "                return false;\n",
       "        }\n",
       "        else if (this[i] != array[i]) {\n",
       "            // Warning - two different object instances will never be equal: {x:20} != {x:20}\n",
       "            return false;\n",
       "        }\n",
       "    }\n",
       "    return true;\n",
       "};\n",
       "\n",
       "},{}]},{},[1]);\n",
       "</script>\n",
       "<script>(function e(t,n,r){function s(o,u){if(!n[o]){if(!t[o]){var a=typeof require==\"function\"&&require;if(!u&&a)return a(o,!0);if(i)return i(o,!0);var f=new Error(\"Cannot find module '\"+o+\"'\");throw f.code=\"MODULE_NOT_FOUND\",f}var l=n[o]={exports:{}};t[o][0].call(l.exports,function(e){var n=t[o][1][e];return s(n?n:e)},l,l.exports,e,t,n,r)}return n[o].exports}var i=typeof require==\"function\"&&require;for(var o=0;o<r.length;o++)s(r[o]);return s})({1:[function(require,module,exports){\n",
       "\n",
       "\n",
       "requirejs.config({\n",
       "    \"paths\": {\n",
       "        \"highstock\": \"https://cdnjs.cloudflare.com/ajax/libs/highstock/2.1.5/highstock\",\n",
       "        \"export\": \"https://cdnjs.cloudflare.com/ajax/libs/highstock/2.1.5/modules/exporting\",\n",
       "        \"more\": \"https://cdnjs.cloudflare.com/ajax/libs/highstock/2.1.7/highcharts-more\",\n",
       "        \"jsoneditor\": \"https://cdnjs.cloudflare.com/ajax/libs/jsoneditor/4.2.0/jsoneditor.min\",\n",
       "        \"selectize\": \"https://cdnjs.cloudflare.com/ajax/libs/selectize.js/0.12.1/js/standalone/selectize.min\",\n",
       "        \"jquery\": \"https://cdnjs.cloudflare.com/ajax/libs/jquery/2.1.4/jquery.min\"\n",
       "    },\n",
       "    \"shim\": {\n",
       "        \"export\": [\"highstock\"],\n",
       "        \"more\": [\"highstock\"]\n",
       "    }\n",
       "});\n",
       "\n",
       "//Define jquery here to use the pre-loaded version\n",
       "define('jquery', [], function() {\n",
       "    return jQuery;\n",
       "});\n",
       "\n",
       "},{}]},{},[1]);\n",
       "</script>\n",
       "<script>(function e(t,n,r){function s(o,u){if(!n[o]){if(!t[o]){var a=typeof require==\"function\"&&require;if(!u&&a)return a(o,!0);if(i)return i(o,!0);var f=new Error(\"Cannot find module '\"+o+\"'\");throw f.code=\"MODULE_NOT_FOUND\",f}var l=n[o]={exports:{}};t[o][0].call(l.exports,function(e){var n=t[o][1][e];return s(n?n:e)},l,l.exports,e,t,n,r)}return n[o].exports}var i=typeof require==\"function\"&&require;for(var o=0;o<r.length;o++)s(r[o]);return s})({1:[function(require,module,exports){\n",
       "//Count the number of charts on the page\n",
       "if (window.counter == undefined) {\n",
       "    window.counter = 0;\n",
       "} else {\n",
       "    window.counter++;\n",
       "}\n",
       "\n",
       "requirejs([\n",
       "    'jquery',\n",
       "    'selectize',\n",
       "    'jsoneditor',\n",
       "    'highstock',\n",
       "    'export',\n",
       "    'more'\n",
       "], function ($, selectize, JSONEditor) {\n",
       "\n",
       "    function guid() {\n",
       "        function s4() {\n",
       "            return Math.floor((1 + Math.random()) * 0x10000)\n",
       "                .toString(16)\n",
       "                .substring(1);\n",
       "        }\n",
       "\n",
       "        return s4() + s4() + '-' + s4() + '-' + s4() + '-' +\n",
       "            s4() + '-' + s4() + s4() + s4();\n",
       "    }\n",
       "\n",
       "    var id = guid();\n",
       "    plot(id);\n",
       "\n",
       "    function plot(id) {\n",
       "        var series = [\n",
       "            {data: [1, 2, 4, 9], name: \"temperature 1\", display: true, color: '#2b908f'},\n",
       "            {data: [9, 4, 2, 1], name: \"temperature 2\", display: true},\n",
       "            {data: [0, 3, 5, 6], name: \"temperature 3\", display: false}\n",
       "        ];\n",
       "        var series = [{\"type\": \"candlestick\", \"display\": true, \"data\": [[1136246400000.0, 1248.290039, 1270.219971, 1245.73999, 1268.800049], [1136332800000.0, 1268.800049, 1275.369995, 1267.73999, 1273.459961], [1136419200000.0, 1273.459961, 1276.910034, 1270.300049, 1273.47998], [1136505600000.0, 1273.47998, 1286.089966, 1273.47998, 1285.449951], [1136764800000.0, 1285.449951, 1290.780029, 1284.819946, 1290.150024], [1136851200000.0, 1290.150024, 1290.150024, 1283.76001, 1289.689941], [1136937600000.0, 1289.719971, 1294.900024, 1288.119995, 1294.180054], [1137024000000.0, 1294.180054, 1294.180054, 1285.040039, 1286.060059], [1137110400000.0, 1286.060059, 1288.959961, 1282.780029, 1287.609985], [1137456000000.0, 1287.609985, 1287.609985, 1278.609985, 1282.930054], [1137542400000.0, 1282.930054, 1282.930054, 1272.079956, 1277.930054], [1137628800000.0, 1277.930054, 1287.790039, 1277.930054, 1285.040039], [1137715200000.0, 1285.040039, 1285.040039, 1260.920044, 1261.48999], [1137974400000.0, 1261.48999, 1268.189941, 1261.48999, 1263.819946], [1138060800000.0, 1263.819946, 1271.469971, 1263.819946, 1266.859985], [1138147200000.0, 1266.859985, 1271.869995, 1259.420044, 1264.680054], [1138233600000.0, 1264.680054, 1276.439941, 1264.680054, 1273.829956], [1138320000000.0, 1273.829956, 1286.380005, 1273.829956, 1283.719971], [1138579200000.0, 1283.719971, 1287.939941, 1283.51001, 1285.189941], [1138665600000.0, 1285.199951, 1285.199951, 1276.849976, 1280.079956], [1138752000000.0, 1280.079956, 1283.329956, 1277.569946, 1282.459961], [1138838400000.0, 1282.459961, 1282.459961, 1267.719971, 1270.839966], [1138924800000.0, 1270.839966, 1270.869995, 1261.02002, 1264.030029], [1139184000000.0, 1264.030029, 1267.040039, 1261.619995, 1265.02002], [1139270400000.0, 1265.02002, 1265.780029, 1253.609985, 1254.780029], [1139356800000.0, 1254.780029, 1266.469971, 1254.780029, 1265.650024], [1139443200000.0, 1265.650024, 1274.560059, 1262.800049, 1263.780029], [1139529600000.0, 1263.819946, 1269.890015, 1254.97998, 1266.98999], [1139788800000.0, 1266.98999, 1266.98999, 1258.339966, 1262.859985], [1139875200000.0, 1262.859985, 1278.209961, 1260.800049, 1275.530029], [1139961600000.0, 1275.530029, 1281.0, 1271.060059, 1280.0], [1140048000000.0, 1280.0, 1289.390015, 1280.0, 1289.380005], [1140134400000.0, 1289.380005, 1289.469971, 1284.069946, 1287.23999], [1140480000000.0, 1287.23999, 1291.920044, 1281.329956, 1283.030029], [1140566400000.0, 1283.030029, 1294.170044, 1283.030029, 1292.670044], [1140652800000.0, 1292.670044, 1293.839966, 1285.140015, 1287.790039], [1140739200000.0, 1287.790039, 1292.109985, 1285.619995, 1289.430054], [1140998400000.0, 1289.430054, 1297.569946, 1289.430054, 1294.119995], [1141084800000.0, 1294.119995, 1294.119995, 1278.660034, 1280.660034], [1141171200000.0, 1280.660034, 1291.800049, 1280.660034, 1291.23999], [1141257600000.0, 1291.23999, 1291.23999, 1283.209961, 1289.140015], [1141344000000.0, 1289.140015, 1297.329956, 1284.199951, 1287.22998], [1141603200000.0, 1287.22998, 1288.22998, 1275.670044, 1278.26001], [1141689600000.0, 1278.26001, 1278.26001, 1271.109985, 1275.880005], [1141776000000.0, 1275.880005, 1280.329956, 1268.420044, 1278.469971], [1141862400000.0, 1278.469971, 1282.73999, 1272.22998, 1272.22998], [1141948800000.0, 1272.22998, 1284.369995, 1271.109985, 1281.420044], [1142208000000.0, 1281.579956, 1287.369995, 1281.579956, 1284.130005], [1142294400000.0, 1284.130005, 1298.140015, 1282.670044, 1297.47998], [1142380800000.0, 1297.47998, 1304.400024, 1294.969971, 1303.02002], [1142467200000.0, 1303.02002, 1310.449951, 1303.02002, 1305.329956], [1142553600000.0, 1305.329956, 1309.790039, 1305.319946, 1307.25], [1142812800000.0, 1307.25, 1310.0, 1303.589966, 1305.079956], [1142899200000.0, 1305.079956, 1310.880005, 1295.819946, 1297.22998], [1142985600000.0, 1297.22998, 1305.969971, 1295.810059, 1305.040039], [1143072000000.0, 1305.040039, 1305.040039, 1298.109985, 1301.670044], [1143158400000.0, 1301.670044, 1306.530029, 1298.890015, 1302.949951], [1143417600000.0, 1302.949951, 1303.73999, 1299.089966, 1301.609985], [1143504000000.0, 1301.609985, 1306.23999, 1291.839966, 1293.22998], [1143590400000.0, 1293.22998, 1305.599976, 1293.22998, 1302.890015], [1143676800000.0, 1302.890015, 1310.150024, 1296.719971, 1300.25], [1143763200000.0, 1300.25, 1303.0, 1294.869995, 1294.869995], [1144022400000.0, 1302.880005, 1309.189941, 1296.650024, 1297.810059], [1144108800000.0, 1297.810059, 1307.550049, 1294.709961, 1305.930054], [1144195200000.0, 1305.930054, 1312.810059, 1304.819946, 1311.560059], [1144281600000.0, 1311.560059, 1311.98999, 1302.439941, 1309.040039], [1144368000000.0, 1309.040039, 1314.069946, 1294.180054, 1295.5], [1144627200000.0, 1295.51001, 1300.73999, 1293.170044, 1296.619995], [1144713600000.0, 1296.599976, 1300.709961, 1282.959961, 1286.569946], [1144800000000.0, 1286.569946, 1290.930054, 1286.449951, 1288.119995], [1144886400000.0, 1288.119995, 1292.089966, 1283.369995, 1289.119995], [1145232000000.0, 1289.119995, 1292.449951, 1280.73999, 1285.329956], [1145318400000.0, 1285.329956, 1309.02002, 1285.329956, 1307.280029], [1145404800000.0, 1307.650024, 1310.390015, 1302.790039, 1309.930054], [1145491200000.0, 1309.930054, 1318.160034, 1306.380005, 1311.459961], [1145577600000.0, 1311.459961, 1317.670044, 1306.589966, 1311.280029], [1145836800000.0, 1311.280029, 1311.280029, 1303.790039, 1308.109985], [1145923200000.0, 1308.109985, 1310.790039, 1299.170044, 1301.73999], [1146009600000.0, 1301.73999, 1310.969971, 1301.73999, 1305.410034], [1146096000000.0, 1305.410034, 1315.0, 1295.569946, 1309.719971], [1146182400000.0, 1309.719971, 1316.040039, 1306.160034, 1310.609985], [1146441600000.0, 1310.609985, 1317.209961, 1303.459961, 1305.189941], [1146528000000.0, 1305.189941, 1313.660034, 1305.189941, 1313.209961], [1146614400000.0, 1313.209961, 1313.469971, 1303.920044, 1308.119995], [1146700800000.0, 1307.849976, 1315.140015, 1307.849976, 1312.25], [1146787200000.0, 1312.25, 1326.530029, 1312.25, 1325.76001], [1147046400000.0, 1325.76001, 1326.699951, 1322.869995, 1324.660034], [1147132800000.0, 1324.660034, 1326.599976, 1322.47998, 1325.140015], [1147219200000.0, 1324.569946, 1325.51001, 1317.439941, 1322.849976], [1147305600000.0, 1322.630005, 1322.630005, 1303.449951, 1305.920044], [1147392000000.0, 1305.880005, 1305.880005, 1290.380005, 1291.23999], [1147651200000.0, 1291.189941, 1294.810059, 1284.51001, 1294.5], [1147737600000.0, 1294.5, 1297.880005, 1288.51001, 1292.079956], [1147824000000.0, 1291.72998, 1291.72998, 1267.310059, 1270.319946], [1147910400000.0, 1270.25, 1274.890015, 1261.75, 1261.810059], [1147996800000.0, 1261.810059, 1272.150024, 1256.280029, 1267.030029], [1148256000000.0, 1267.030029, 1268.77002, 1252.97998, 1262.069946], [1148342400000.0, 1262.060059, 1273.670044, 1256.150024, 1256.579956], [1148428800000.0, 1256.560059, 1264.530029, 1245.339966, 1258.569946], [1148515200000.0, 1258.410034, 1273.26001, 1258.410034, 1272.880005], [1148601600000.0, 1272.709961, 1280.540039, 1272.5, 1280.160034], [1148947200000.0, 1280.040039, 1280.040039, 1259.869995, 1259.869995], [1149033600000.0, 1259.380005, 1270.089966, 1259.380005, 1270.089966], [1149120000000.0, 1270.050049, 1285.709961, 1269.189941, 1285.709961], [1149206400000.0, 1285.709961, 1290.680054, 1280.219971, 1288.219971], [1149465600000.0, 1288.160034, 1288.160034, 1264.660034, 1265.290039], [1149552000000.0, 1265.22998, 1269.880005, 1254.459961, 1263.849976], [1149638400000.0, 1263.609985, 1272.469971, 1255.77002, 1256.150024], [1149724800000.0, 1256.079956, 1259.849976, 1235.180054, 1257.930054], [1149811200000.0, 1257.930054, 1262.579956, 1250.030029, 1252.300049], [1150070400000.0, 1252.27002, 1255.219971, 1236.430054, 1237.439941], [1150156800000.0, 1236.079956, 1243.369995, 1222.52002, 1223.689941], [1150243200000.0, 1223.660034, 1231.459961, 1219.290039, 1230.040039], [1150329600000.0, 1230.01001, 1258.640015, 1230.01001, 1256.160034], [1150416000000.0, 1256.160034, 1256.27002, 1246.329956, 1251.540039], [1150675200000.0, 1251.540039, 1255.930054, 1237.170044, 1240.130005], [1150761600000.0, 1240.119995, 1249.01001, 1238.869995, 1240.119995], [1150848000000.0, 1240.089966, 1257.959961, 1240.089966, 1252.199951], [1150934400000.0, 1251.920044, 1251.920044, 1241.530029, 1245.599976], [1151020800000.0, 1245.589966, 1253.130005, 1241.430054, 1244.5], [1151280000000.0, 1244.5, 1250.920044, 1243.680054, 1250.560059], [1151366400000.0, 1250.550049, 1253.369995, 1238.939941, 1239.199951], [1151452800000.0, 1238.98999, 1247.060059, 1237.589966, 1246.0], [1151539200000.0, 1245.939941, 1272.880005, 1245.939941, 1272.869995], [1151625600000.0, 1272.859985, 1276.300049, 1270.199951, 1270.199951], [1151884800000.0, 1270.060059, 1280.380005, 1270.060059, 1280.189941], [1152057600000.0, 1280.050049, 1280.050049, 1265.910034, 1270.910034], [1152144000000.0, 1270.579956, 1278.319946, 1270.579956, 1274.079956], [1152230400000.0, 1274.079956, 1275.380005, 1263.130005, 1265.47998], [1152489600000.0, 1265.459961, 1274.060059, 1264.459961, 1267.339966], [1152576000000.0, 1267.26001, 1273.640015, 1259.650024, 1272.430054], [1152662400000.0, 1272.390015, 1273.310059, 1257.290039, 1258.599976], [1152748800000.0, 1258.579956, 1258.579956, 1241.430054, 1242.280029], [1152835200000.0, 1242.290039, 1242.699951, 1228.449951, 1236.199951], [1153094400000.0, 1236.199951, 1240.069946, 1231.48999, 1234.48999], [1153180800000.0, 1234.47998, 1239.859985, 1224.540039, 1236.859985], [1153267200000.0, 1236.73999, 1261.810059, 1236.73999, 1259.810059], [1153353600000.0, 1259.810059, 1262.560059, 1249.130005, 1249.130005], [1153440000000.0, 1249.119995, 1250.959961, 1238.719971, 1240.290039], [1153699200000.0, 1240.25, 1262.5, 1240.25, 1260.910034], [1153785600000.0, 1260.910034, 1272.390015, 1257.189941, 1268.880005], [1153872000000.0, 1268.869995, 1273.890015, 1261.939941, 1268.400024], [1153958400000.0, 1268.199951, 1275.849976, 1261.920044, 1263.199951], [1154044800000.0, 1263.150024, 1280.420044, 1263.150024, 1278.550049], [1154304000000.0, 1278.530029, 1278.660034, 1274.310059, 1276.660034], [1154390400000.0, 1278.530029, 1278.660034, 1265.709961, 1270.920044], [1154476800000.0, 1270.72998, 1283.420044, 1270.72998, 1277.410034], [1154563200000.0, 1278.219971, 1283.959961, 1271.25, 1280.27002], [1154649600000.0, 1280.26001, 1292.920044, 1273.819946, 1279.359985], [1154908800000.0, 1279.310059, 1279.310059, 1273.0, 1275.77002], [1154995200000.0, 1275.670044, 1282.75, 1268.369995, 1271.47998], [1155081600000.0, 1271.130005, 1283.73999, 1264.72998, 1265.949951], [1155168000000.0, 1265.719971, 1272.550049, 1261.300049, 1271.810059], [1155254400000.0, 1271.640015, 1271.640015, 1262.079956, 1266.73999], [1155513600000.0, 1266.670044, 1278.900024, 1266.670044, 1268.209961], [1155600000000.0, 1268.189941, 1286.22998, 1268.189941, 1285.579956], [1155686400000.0, 1285.27002, 1296.209961, 1285.27002, 1295.430054], [1155772800000.0, 1295.369995, 1300.780029, 1292.709961, 1297.47998], [1155859200000.0, 1297.47998, 1302.300049, 1293.569946, 1302.300049], [1156118400000.0, 1302.300049, 1302.300049, 1295.51001, 1297.52002], [1156204800000.0, 1297.52002, 1302.48999, 1294.439941, 1298.819946], [1156291200000.0, 1298.72998, 1301.5, 1289.819946, 1292.98999], [1156377600000.0, 1292.969971, 1297.22998, 1291.400024, 1296.060059], [1156464000000.0, 1295.920044, 1298.880005, 1292.390015, 1295.089966], [1156723200000.0, 1295.089966, 1305.02002, 1293.969971, 1301.780029], [1156809600000.0, 1301.569946, 1305.02002, 1295.290039, 1304.280029], [1156896000000.0, 1303.699951, 1306.73999, 1302.150024, 1305.369995], [1156982400000.0, 1304.25, 1306.109985, 1302.449951, 1303.819946], [1157068800000.0, 1303.800049, 1312.030029, 1303.800049, 1311.01001], [1157414400000.0, 1310.939941, 1314.670044, 1308.819946, 1313.25], [1157500800000.0, 1313.040039, 1313.040039, 1299.280029, 1300.26001], [1157587200000.0, 1300.209961, 1301.25, 1292.130005, 1294.02002], [1157673600000.0, 1294.02002, 1300.140015, 1294.02002, 1298.920044], [1157932800000.0, 1298.859985, 1302.359985, 1290.930054, 1299.540039], [1158019200000.0, 1299.530029, 1314.280029, 1299.530029, 1313.0], [1158105600000.0, 1312.73999, 1319.920044, 1311.119995, 1318.069946], [1158192000000.0, 1318.0, 1318.0, 1313.25, 1316.280029], [1158278400000.0, 1316.280029, 1324.650024, 1316.280029, 1319.660034], [1158537600000.0, 1319.849976, 1324.869995, 1318.160034, 1321.180054], [1158624000000.0, 1321.170044, 1322.040039, 1312.170044, 1317.640015], [1158710400000.0, 1318.280029, 1328.530029, 1318.280029, 1325.180054], [1158796800000.0, 1324.890015, 1328.189941, 1315.449951, 1318.030029], [1158883200000.0, 1318.030029, 1318.030029, 1310.939941, 1314.780029], [1159142400000.0, 1314.780029, 1329.349976, 1311.579956, 1326.369995], [1159228800000.0, 1326.349976, 1336.599976, 1325.300049, 1336.349976], [1159315200000.0, 1336.119995, 1340.079956, 1333.540039, 1336.589966], [1159401600000.0, 1336.560059, 1340.280029, 1333.75, 1338.880005], [1159488000000.0, 1339.150024, 1339.880005, 1335.640015, 1335.849976], [1159747200000.0, 1335.819946, 1338.540039, 1330.280029, 1331.319946], [1159833600000.0, 1331.319946, 1338.310059, 1327.099976, 1334.109985], [1159920000000.0, 1333.810059, 1350.199951, 1331.47998, 1350.199951], [1160006400000.0, 1349.839966, 1353.790039, 1347.75, 1353.219971], [1160092800000.0, 1353.219971, 1353.219971, 1344.209961, 1349.589966], [1160352000000.0, 1349.579956, 1352.689941, 1346.550049, 1350.660034], [1160438400000.0, 1350.619995, 1354.22998, 1348.599976, 1353.420044], [1160524800000.0, 1353.280029, 1353.969971, 1343.569946, 1349.949951], [1160611200000.0, 1349.939941, 1363.76001, 1349.939941, 1362.829956], [1160697600000.0, 1362.819946, 1366.630005, 1360.5, 1365.619995], [1160956800000.0, 1365.609985, 1370.199951, 1364.47998, 1369.060059], [1161043200000.0, 1369.050049, 1369.050049, 1356.869995, 1364.050049], [1161129600000.0, 1363.930054, 1372.869995, 1360.949951, 1365.800049], [1161216000000.0, 1365.949951, 1368.089966, 1362.060059, 1366.959961], [1161302400000.0, 1366.939941, 1368.660034, 1362.099976, 1368.599976], [1161561600000.0, 1368.579956, 1377.400024, 1363.939941, 1377.02002], [1161648000000.0, 1377.02002, 1377.780029, 1372.420044, 1377.380005], [1161734400000.0, 1377.359985, 1383.609985, 1376.0, 1382.219971], [1161820800000.0, 1382.209961, 1389.449951, 1379.469971, 1389.079956], [1161907200000.0, 1388.890015, 1388.890015, 1375.849976, 1377.339966], [1162166400000.0, 1377.300049, 1381.219971, 1373.459961, 1377.930054], [1162252800000.0, 1377.930054, 1381.209961, 1372.189941, 1377.939941], [1162339200000.0, 1377.76001, 1381.949951, 1366.26001, 1367.810059], [1162425600000.0, 1367.439941, 1368.390015, 1362.209961, 1367.339966], [1162512000000.0, 1367.310059, 1371.680054, 1360.97998, 1364.300049], [1162771200000.0, 1364.27002, 1381.400024, 1364.27002, 1379.780029], [1162857600000.0, 1379.75, 1388.189941, 1379.189941, 1382.839966], [1162944000000.0, 1382.5, 1388.609985, 1379.329956, 1385.719971], [1163030400000.0, 1385.430054, 1388.920044, 1377.310059, 1378.329956], [1163116800000.0, 1378.329956, 1381.040039, 1375.599976, 1380.900024], [1163376000000.0, 1380.579956, 1387.609985, 1378.800049, 1384.420044], [1163462400000.0, 1384.359985, 1394.48999, 1379.069946, 1393.219971], [1163548800000.0, 1392.910034, 1401.349976, 1392.130005, 1396.569946], [1163635200000.0, 1396.530029, 1403.76001, 1396.530029, 1399.76001], [1163721600000.0, 1399.76001, 1401.209961, 1394.550049, 1401.199951], [1163980800000.0, 1401.170044, 1404.369995, 1397.849976, 1400.5], [1164067200000.0, 1400.430054, 1403.48999, 1399.98999, 1402.810059], [1164153600000.0, 1402.689941, 1407.890015, 1402.26001, 1406.089966], [1164326400000.0, 1405.939941, 1405.939941, 1399.25, 1400.949951], [1164585600000.0, 1400.949951, 1400.949951, 1381.439941, 1381.959961], [1164672000000.0, 1381.609985, 1387.910034, 1377.829956, 1386.719971], [1164758400000.0, 1386.109985, 1401.140015, 1386.109985, 1399.47998], [1164844800000.0, 1399.469971, 1406.300049, 1393.829956, 1400.630005], [1164931200000.0, 1400.630005, 1402.459961, 1385.930054, 1396.709961], [1165190400000.0, 1396.670044, 1411.22998, 1396.670044, 1409.119995], [1165276800000.0, 1409.099976, 1415.27002, 1408.780029, 1414.76001], [1165363200000.0, 1414.400024, 1415.930054, 1411.050049, 1412.900024], [1165449600000.0, 1412.859985, 1418.27002, 1406.800049, 1407.290039], [1165536000000.0, 1407.27002, 1414.089966, 1403.670044, 1409.839966], [1165795200000.0, 1409.810059, 1415.599976, 1408.560059, 1413.040039], [1165881600000.0, 1413.0, 1413.780029, 1404.75, 1411.560059], [1165968000000.0, 1411.319946, 1416.640015, 1411.050049, 1413.209961], [1166054400000.0, 1413.160034, 1427.22998, 1413.160034, 1425.48999], [1166140800000.0, 1425.47998, 1431.630005, 1425.47998, 1427.089966], [1166400000000.0, 1427.079956, 1431.810059, 1420.650024, 1422.47998], [1166486400000.0, 1422.420044, 1428.300049, 1414.880005, 1425.550049], [1166572800000.0, 1425.51001, 1429.050049, 1423.51001, 1423.530029], [1166659200000.0, 1423.199951, 1426.400024, 1415.900024, 1418.300049], [1166745600000.0, 1418.099976, 1418.819946, 1410.280029, 1410.76001], [1167091200000.0, 1410.75, 1417.910034, 1410.449951, 1416.900024], [1167177600000.0, 1416.630005, 1427.719971, 1416.630005, 1426.839966], [1167264000000.0, 1426.77002, 1427.26001, 1422.050049, 1424.72998], [1167350400000.0, 1424.709961, 1427.0, 1416.839966, 1418.300049], [1167782400000.0, 1418.030029, 1429.420044, 1407.859985, 1416.599976], [1167868800000.0, 1416.599976, 1421.839966, 1408.430054, 1418.339966], [1167955200000.0, 1418.339966, 1418.339966, 1405.75, 1409.709961], [1168214400000.0, 1409.26001, 1414.97998, 1403.969971, 1412.839966], [1168300800000.0, 1412.839966, 1415.609985, 1405.420044, 1412.109985], [1168387200000.0, 1408.699951, 1415.98999, 1405.319946, 1414.849976], [1168473600000.0, 1414.839966, 1427.119995, 1414.839966, 1423.819946], [1168560000000.0, 1423.819946, 1431.22998, 1422.579956, 1430.72998], [1168905600000.0, 1430.72998, 1433.930054, 1428.619995, 1431.900024], [1168992000000.0, 1431.77002, 1435.27002, 1428.569946, 1430.619995], [1169078400000.0, 1430.589966, 1432.959961, 1424.209961, 1426.369995], [1169164800000.0, 1426.349976, 1431.569946, 1425.189941, 1430.5], [1169424000000.0, 1430.469971, 1431.390015, 1420.400024, 1422.949951], [1169510400000.0, 1422.949951, 1431.329956, 1421.660034, 1427.98999], [1169596800000.0, 1427.959961, 1440.140015, 1427.959961, 1440.130005], [1169683200000.0, 1440.119995, 1440.689941, 1422.339966, 1423.900024], [1169769600000.0, 1423.900024, 1427.27002, 1416.959961, 1422.180054], [1170028800000.0, 1422.030029, 1426.939941, 1418.459961, 1420.619995], [1170115200000.0, 1420.609985, 1428.819946, 1420.609985, 1428.819946], [1170201600000.0, 1428.650024, 1441.609985, 1424.780029, 1438.23999], [1170288000000.0, 1437.900024, 1446.640015, 1437.900024, 1445.939941], [1170374400000.0, 1445.939941, 1449.329956, 1444.48999, 1448.390015], [1170633600000.0, 1448.329956, 1449.380005, 1443.849976, 1446.98999], [1170720000000.0, 1446.97998, 1450.189941, 1443.400024, 1448.0], [1170806400000.0, 1447.410034, 1452.98999, 1446.439941, 1450.02002], [1170892800000.0, 1449.98999, 1450.449951, 1442.810059, 1448.310059], [1170979200000.0, 1448.25, 1452.449951, 1433.439941, 1438.060059], [1171238400000.0, 1438.0, 1439.109985, 1431.439941, 1433.369995], [1171324800000.0, 1433.219971, 1444.410034, 1433.219971, 1444.26001], [1171411200000.0, 1443.910034, 1457.650024, 1443.910034, 1455.300049], [1171497600000.0, 1455.150024, 1457.969971, 1453.189941, 1456.810059], [1171584000000.0, 1456.77002, 1456.77002, 1451.569946, 1455.540039], [1171929600000.0, 1455.530029, 1460.530029, 1449.199951, 1459.680054], [1172016000000.0, 1459.599976, 1459.599976, 1452.02002, 1457.630005], [1172102400000.0, 1457.290039, 1461.569946, 1450.51001, 1456.380005], [1172188800000.0, 1456.219971, 1456.219971, 1448.359985, 1451.189941], [1172448000000.0, 1451.040039, 1456.949951, 1445.47998, 1449.369995], [1172534400000.0, 1449.25, 1449.25, 1389.420044, 1399.040039], [1172620800000.0, 1398.640015, 1415.890015, 1396.650024, 1406.819946], [1172707200000.0, 1406.800049, 1409.459961, 1380.869995, 1403.170044], [1172793600000.0, 1403.160034, 1403.400024, 1386.869995, 1387.170044], [1173052800000.0, 1387.109985, 1391.859985, 1373.969971, 1374.119995], [1173139200000.0, 1374.060059, 1397.900024, 1374.060059, 1395.410034], [1173225600000.0, 1395.02002, 1401.160034, 1390.640015, 1391.969971], [1173312000000.0, 1391.880005, 1407.930054, 1391.880005, 1401.890015], [1173398400000.0, 1401.890015, 1410.150024, 1397.300049, 1402.839966], [1173657600000.0, 1402.800049, 1409.339966, 1398.400024, 1406.599976], [1173744000000.0, 1406.22998, 1406.22998, 1377.709961, 1377.949951], [1173830400000.0, 1377.859985, 1388.089966, 1363.97998, 1387.170044], [1173916800000.0, 1387.109985, 1395.72998, 1385.160034, 1392.280029], [1174003200000.0, 1392.280029, 1397.51001, 1383.630005, 1386.949951], [1174262400000.0, 1386.949951, 1403.199951, 1386.949951, 1402.060059], [1174348800000.0, 1402.040039, 1411.530029, 1400.699951, 1410.939941], [1174435200000.0, 1410.920044, 1437.77002, 1409.75, 1435.040039], [1174521600000.0, 1435.040039, 1437.660034, 1429.880005, 1434.540039], [1174608000000.0, 1434.540039, 1438.890015, 1433.209961, 1436.109985], [1174867200000.0, 1436.109985, 1437.650024, 1423.280029, 1437.5], [1174953600000.0, 1437.48999, 1437.48999, 1425.540039, 1428.609985], [1175040000000.0, 1428.349976, 1428.349976, 1414.069946, 1417.22998], [1175126400000.0, 1417.170044, 1426.23999, 1413.27002, 1422.530029], [1175212800000.0, 1422.52002, 1429.219971, 1408.900024, 1420.859985], [1175472000000.0, 1420.829956, 1425.48999, 1416.369995, 1424.550049], [1175558400000.0, 1424.27002, 1440.569946, 1424.27002, 1437.77002], [1175644800000.0, 1437.75, 1440.160034, 1435.079956, 1439.369995], [1175731200000.0, 1438.939941, 1444.880005, 1436.670044, 1443.76001], [1176076800000.0, 1443.77002, 1448.099976, 1443.280029, 1444.609985], [1176163200000.0, 1444.579956, 1448.72998, 1443.98999, 1448.390015], [1176249600000.0, 1448.22998, 1448.390015, 1436.150024, 1438.869995], [1176336000000.0, 1438.869995, 1448.02002, 1433.910034, 1447.800049], [1176422400000.0, 1447.800049, 1453.109985, 1444.150024, 1452.849976], [1176681600000.0, 1452.839966, 1468.619995, 1452.839966, 1468.329956], [1176768000000.0, 1468.469971, 1474.349976, 1467.150024, 1471.47998], [1176854400000.0, 1471.469971, 1476.569946, 1466.410034, 1472.5], [1176940800000.0, 1472.47998, 1474.22998, 1464.469971, 1470.72998], [1177027200000.0, 1470.689941, 1484.73999, 1470.689941, 1484.349976], [1177286400000.0, 1484.329956, 1487.319946, 1480.189941, 1480.930054], [1177372800000.0, 1480.930054, 1483.819946, 1473.73999, 1480.410034], [1177459200000.0, 1480.280029, 1496.589966, 1480.280029, 1495.420044], [1177545600000.0, 1495.27002, 1498.02002, 1491.170044, 1494.25], [1177632000000.0, 1494.209961, 1497.319946, 1488.670044, 1494.069946], [1177891200000.0, 1494.069946, 1497.160034, 1482.290039, 1482.369995], [1177977600000.0, 1482.369995, 1487.27002, 1476.699951, 1486.300049], [1178064000000.0, 1486.130005, 1499.099976, 1486.130005, 1495.920044], [1178150400000.0, 1495.560059, 1503.339966, 1495.560059, 1502.390015], [1178236800000.0, 1502.349976, 1510.339966, 1501.800049, 1505.619995], [1178496000000.0, 1505.569946, 1511.0, 1505.540039, 1509.47998], [1178582400000.0, 1509.359985, 1509.359985, 1500.660034, 1507.719971], [1178668800000.0, 1507.319946, 1513.800049, 1503.77002, 1512.579956], [1178755200000.0, 1512.329956, 1512.329956, 1491.420044, 1491.469971], [1178841600000.0, 1491.469971, 1506.23999, 1491.469971, 1505.849976], [1179100800000.0, 1505.76001, 1510.900024, 1498.339966, 1503.150024], [1179187200000.0, 1503.109985, 1514.829956, 1500.430054, 1501.189941], [1179273600000.0, 1500.75, 1514.150024, 1500.75, 1514.140015], [1179360000000.0, 1514.01001, 1517.140015, 1509.290039, 1512.75], [1179446400000.0, 1512.73999, 1522.75, 1512.73999, 1522.75], [1179705600000.0, 1522.75, 1529.869995, 1522.709961, 1525.099976], [1179792000000.0, 1525.099976, 1529.23999, 1522.050049, 1524.119995], [1179878400000.0, 1524.089966, 1532.430054, 1521.900024, 1522.280029], [1179964800000.0, 1522.099976, 1529.310059, 1505.180054, 1507.51001], [1180051200000.0, 1507.5, 1517.410034, 1507.5, 1515.72998], [1180396800000.0, 1515.550049, 1521.800049, 1512.02002, 1518.109985], [1180483200000.0, 1517.599976, 1530.22998, 1510.060059, 1530.22998], [1180569600000.0, 1530.189941, 1535.560059, 1528.26001, 1530.619995], [1180656000000.0, 1530.619995, 1540.560059, 1530.619995, 1536.339966], [1180915200000.0, 1536.280029, 1540.530029, 1532.310059, 1539.180054], [1181001600000.0, 1539.119995, 1539.119995, 1525.619995, 1530.949951], [1181088000000.0, 1530.569946, 1530.569946, 1514.130005, 1517.380005], [1181174400000.0, 1517.359985, 1517.359985, 1490.369995, 1490.719971], [1181260800000.0, 1490.709961, 1507.76001, 1487.410034, 1507.670044], [1181520000000.0, 1507.640015, 1515.530029, 1503.349976, 1509.119995], [1181606400000.0, 1509.119995, 1511.329956, 1492.969971, 1493.0], [1181692800000.0, 1492.650024, 1515.699951, 1492.650024, 1515.670044], [1181779200000.0, 1515.579956, 1526.449951, 1515.579956, 1522.969971], [1181865600000.0, 1522.969971, 1538.709961, 1522.969971, 1532.910034], [1182124800000.0, 1532.900024, 1535.439941, 1529.310059, 1531.050049], [1182211200000.0, 1531.02002, 1535.849976, 1525.670044, 1533.699951], [1182297600000.0, 1533.680054, 1537.319946, 1512.359985, 1512.839966], [1182384000000.0, 1512.5, 1522.900024, 1504.75, 1522.189941], [1182470400000.0, 1522.189941, 1522.189941, 1500.73999, 1502.560059], [1182729600000.0, 1502.560059, 1514.290039, 1492.680054, 1497.73999], [1182816000000.0, 1497.680054, 1506.119995, 1490.540039, 1492.890015], [1182902400000.0, 1492.619995, 1506.800049, 1484.180054, 1506.339966], [1182988800000.0, 1506.319946, 1514.839966, 1503.410034, 1505.709961], [1183075200000.0, 1505.699951, 1517.530029, 1493.609985, 1503.349976], [1183334400000.0, 1504.660034, 1519.449951, 1504.660034, 1519.430054], [1183420800000.0, 1519.119995, 1526.01001, 1519.119995, 1524.869995], [1183593600000.0, 1524.859985, 1526.569946, 1517.719971, 1525.400024], [1183680000000.0, 1524.959961, 1532.400024, 1520.469971, 1530.439941], [1183939200000.0, 1530.430054, 1534.26001, 1527.449951, 1531.849976], [1184025600000.0, 1531.849976, 1531.849976, 1510.01001, 1510.119995], [1184112000000.0, 1509.930054, 1519.339966, 1506.099976, 1518.76001], [1184198400000.0, 1518.73999, 1547.920044, 1518.73999, 1547.699951], [1184284800000.0, 1547.680054, 1555.099976, 1544.849976, 1552.5], [1184544000000.0, 1552.5, 1555.900024, 1546.689941, 1549.52002], [1184630400000.0, 1549.52002, 1555.319946, 1547.73999, 1549.369995], [1184716800000.0, 1549.199951, 1549.199951, 1533.670044, 1546.170044], [1184803200000.0, 1546.130005, 1555.199951, 1546.130005, 1553.079956], [1184889600000.0, 1553.189941, 1553.189941, 1529.199951, 1534.099976], [1185148800000.0, 1534.060059, 1547.22998, 1534.060059, 1541.569946], [1185235200000.0, 1541.569946, 1541.569946, 1508.619995, 1511.040039], [1185321600000.0, 1511.030029, 1524.310059, 1503.72998, 1518.089966], [1185408000000.0, 1518.089966, 1518.089966, 1465.300049, 1482.660034], [1185494400000.0, 1482.439941, 1488.530029, 1458.949951, 1458.949951], [1185753600000.0, 1458.930054, 1477.880005, 1454.319946, 1473.910034], [1185840000000.0, 1473.900024, 1488.300049, 1454.25, 1455.27002], [1185926400000.0, 1455.180054, 1468.380005, 1439.589966, 1465.810059], [1186012800000.0, 1465.459961, 1476.430054, 1460.579956, 1472.199951], [1186099200000.0, 1472.180054, 1473.22998, 1432.800049, 1433.060059], [1186358400000.0, 1433.040039, 1467.670044, 1427.390015, 1467.670044], [1186444800000.0, 1467.619995, 1488.300049, 1455.800049, 1476.709961], [1186531200000.0, 1476.219971, 1503.890015, 1476.219971, 1497.48999], [1186617600000.0, 1497.209961, 1497.209961, 1453.089966, 1453.089966], [1186704000000.0, 1453.089966, 1462.02002, 1429.73999, 1453.640015], [1186963200000.0, 1453.420044, 1466.290039, 1451.540039, 1452.920044], [1187049600000.0, 1452.869995, 1456.73999, 1426.199951, 1426.540039], [1187136000000.0, 1426.150024, 1440.780029, 1404.359985, 1406.699951], [1187222400000.0, 1406.640015, 1415.969971, 1370.599976, 1411.27002], [1187308800000.0, 1411.26001, 1450.329956, 1411.26001, 1445.939941], [1187568000000.0, 1445.939941, 1451.75, 1430.540039, 1445.550049], [1187654400000.0, 1445.550049, 1455.319946, 1439.76001, 1447.119995], [1187740800000.0, 1447.030029, 1464.859985, 1447.030029, 1464.069946], [1187827200000.0, 1464.050049, 1472.060059, 1453.880005, 1462.5], [1187913600000.0, 1462.339966, 1479.400024, 1460.540039, 1479.369995], [1188172800000.0, 1479.359985, 1479.359985, 1465.97998, 1466.790039], [1188259200000.0, 1466.719971, 1466.719971, 1432.01001, 1432.359985], [1188345600000.0, 1432.01001, 1463.76001, 1432.01001, 1463.76001], [1188432000000.0, 1463.670044, 1468.430054, 1451.25, 1457.640015], [1188518400000.0, 1457.609985, 1481.469971, 1457.609985, 1473.98999], [1188864000000.0, 1473.959961, 1496.400024, 1472.150024, 1489.420044], [1188950400000.0, 1488.76001, 1488.76001, 1466.339966, 1472.290039], [1189036800000.0, 1472.030029, 1481.48999, 1467.410034, 1478.550049], [1189123200000.0, 1478.550049, 1478.550049, 1449.069946, 1453.550049], [1189382400000.0, 1453.5, 1462.25, 1439.290039, 1451.699951], [1189468800000.0, 1451.689941, 1472.47998, 1451.689941, 1471.48999], [1189555200000.0, 1471.099976, 1479.5, 1465.75, 1471.560059], [1189641600000.0, 1471.469971, 1489.579956, 1471.469971, 1483.949951], [1189728000000.0, 1483.949951, 1485.98999, 1473.180054, 1484.25], [1189987200000.0, 1484.23999, 1484.23999, 1471.819946, 1476.650024], [1190073600000.0, 1476.630005, 1519.890015, 1476.630005, 1519.780029], [1190160000000.0, 1519.75, 1538.73999, 1519.75, 1529.030029], [1190246400000.0, 1528.689941, 1529.140015, 1516.420044, 1518.75], [1190332800000.0, 1518.75, 1530.890015, 1518.75, 1525.75], [1190592000000.0, 1525.75, 1530.180054, 1516.150024, 1517.72998], [1190678400000.0, 1516.339966, 1518.27002, 1507.130005, 1517.209961], [1190764800000.0, 1518.619995, 1529.390015, 1518.619995, 1525.420044], [1190851200000.0, 1527.319946, 1532.459961, 1525.810059, 1531.380005], [1190937600000.0, 1531.23999, 1533.73999, 1521.98999, 1526.75], [1191196800000.0, 1527.290039, 1549.02002, 1527.25, 1547.040039], [1191283200000.0, 1546.959961, 1548.01001, 1540.369995, 1546.630005], [1191369600000.0, 1545.800049, 1545.839966, 1536.339966, 1539.589966], [1191456000000.0, 1539.910034, 1544.02002, 1537.630005, 1542.839966], [1191542400000.0, 1543.839966, 1561.910034, 1543.839966, 1557.589966], [1191801600000.0, 1556.51001, 1556.51001, 1549.0, 1552.579956], [1191888000000.0, 1553.180054, 1565.26001, 1551.819946, 1565.150024], [1191974400000.0, 1564.97998, 1565.420044, 1555.459961, 1562.469971], [1192060800000.0, 1564.719971, 1576.089966, 1546.719971, 1554.410034], [1192147200000.0, 1555.410034, 1563.030029, 1554.089966, 1561.800049], [1192406400000.0, 1562.25, 1564.73999, 1540.810059, 1548.709961], [1192492800000.0, 1547.810059, 1547.810059, 1536.290039, 1538.530029], [1192579200000.0, 1544.439941, 1550.660034, 1526.01001, 1541.23999], [1192665600000.0, 1539.290039, 1542.790039, 1531.76001, 1540.079956], [1192752000000.0, 1540.0, 1540.0, 1500.26001, 1500.630005], [1193011200000.0, 1497.790039, 1508.060059, 1490.400024, 1506.329956], [1193097600000.0, 1509.300049, 1520.01001, 1503.609985, 1519.589966], [1193184000000.0, 1516.609985, 1517.22998, 1489.560059, 1515.880005], [1193270400000.0, 1516.150024, 1523.23999, 1500.459961, 1514.400024], [1193356800000.0, 1522.170044, 1535.530029, 1520.180054, 1535.280029], [1193616000000.0, 1536.920044, 1544.670044, 1536.430054, 1540.97998], [1193702400000.0, 1539.420044, 1539.420044, 1529.550049, 1531.02002], [1193788800000.0, 1532.150024, 1552.76001, 1529.400024, 1549.380005], [1193875200000.0, 1545.790039, 1545.790039, 1506.660034, 1508.439941], [1193961600000.0, 1511.069946, 1513.150024, 1492.530029, 1509.650024], [1194220800000.0, 1505.609985, 1510.839966, 1489.949951, 1502.170044], [1194307200000.0, 1505.329956, 1520.77002, 1499.069946, 1520.27002], [1194393600000.0, 1515.459961, 1515.459961, 1475.040039, 1475.619995], [1194480000000.0, 1475.27002, 1482.5, 1450.310059, 1474.77002], [1194566400000.0, 1467.589966, 1474.089966, 1448.51001, 1453.699951], [1194825600000.0, 1453.660034, 1464.939941, 1438.530029, 1439.180054], [1194912000000.0, 1441.349976, 1481.369995, 1441.349976, 1481.050049], [1194998400000.0, 1483.400024, 1492.140015, 1466.469971, 1470.579956], [1195084800000.0, 1468.040039, 1472.670044, 1443.48999, 1451.150024], [1195171200000.0, 1453.089966, 1462.180054, 1443.98999, 1458.73999], [1195430400000.0, 1456.699951, 1456.699951, 1430.420044, 1433.27002], [1195516800000.0, 1434.51001, 1452.640015, 1419.280029, 1439.699951], [1195603200000.0, 1434.709961, 1436.400024, 1415.640015, 1416.77002], [1195776000000.0, 1417.619995, 1440.859985, 1417.619995, 1440.699951], [1196035200000.0, 1440.73999, 1446.089966, 1406.099976, 1407.219971], [1196121600000.0, 1409.589966, 1429.48999, 1407.430054, 1428.22998], [1196208000000.0, 1432.949951, 1471.619995, 1432.949951, 1469.02002], [1196294400000.0, 1467.410034, 1473.810059, 1458.359985, 1469.719971], [1196380800000.0, 1471.829956, 1488.939941, 1470.890015, 1481.140015], [1196640000000.0, 1479.630005, 1481.160034, 1470.079956, 1472.420044], [1196726400000.0, 1471.339966, 1471.339966, 1460.660034, 1462.790039], [1196812800000.0, 1465.219971, 1486.089966, 1465.219971, 1485.01001], [1196899200000.0, 1484.589966, 1508.02002, 1482.189941, 1507.339966], [1196985600000.0, 1508.599976, 1510.630005, 1502.660034, 1504.660034], [1197244800000.0, 1505.109985, 1518.27002, 1504.959961, 1515.959961], [1197331200000.0, 1516.680054, 1523.569946, 1475.98999, 1477.650024], [1197417600000.0, 1487.579956, 1511.959961, 1468.22998, 1486.589966], [1197504000000.0, 1483.27002, 1489.400024, 1469.209961, 1488.410034], [1197590400000.0, 1486.189941, 1486.670044, 1467.780029, 1467.949951], [1197849600000.0, 1465.050049, 1465.050049, 1445.430054, 1445.900024], [1197936000000.0, 1445.920044, 1460.160034, 1435.650024, 1454.97998], [1198022400000.0, 1454.699951, 1464.420044, 1445.310059, 1453.0], [1198108800000.0, 1456.420044, 1461.530029, 1447.219971, 1460.119995], [1198195200000.0, 1463.189941, 1485.400024, 1463.189941, 1484.459961], [1198454400000.0, 1484.550049, 1497.630005, 1484.550049, 1496.449951], [1198627200000.0, 1495.119995, 1498.849976, 1488.199951, 1497.660034], [1198713600000.0, 1495.050049, 1495.050049, 1475.859985, 1476.27002], [1198800000000.0, 1479.829956, 1488.01001, 1471.699951, 1478.48999], [1199059200000.0, 1475.25, 1475.829956, 1465.130005, 1468.359985], [1199232000000.0, 1467.969971, 1471.77002, 1442.069946, 1447.160034], [1199318400000.0, 1447.550049, 1456.800049, 1443.72998, 1447.160034], [1199404800000.0, 1444.01001, 1444.01001, 1411.189941, 1411.630005], [1199664000000.0, 1414.069946, 1423.869995, 1403.449951, 1416.180054], [1199750400000.0, 1415.709961, 1430.280029, 1388.300049, 1390.189941], [1199836800000.0, 1390.25, 1409.189941, 1378.699951, 1409.130005], [1199923200000.0, 1406.780029, 1429.089966, 1395.310059, 1420.329956], [1200009600000.0, 1419.910034, 1419.910034, 1394.829956, 1401.02002], [1200268800000.0, 1402.910034, 1417.890015, 1402.910034, 1416.25], [1200355200000.0, 1411.880005, 1411.880005, 1380.599976, 1380.949951], [1200441600000.0, 1377.410034, 1391.98999, 1364.27002, 1373.199951], [1200528000000.0, 1374.790039, 1377.719971, 1330.670044, 1333.25], [1200614400000.0, 1333.900024, 1350.280029, 1312.51001, 1325.189941], [1200960000000.0, 1312.939941, 1322.089966, 1274.290039, 1310.5], [1201046400000.0, 1310.410034, 1339.089966, 1270.050049, 1338.599976], [1201132800000.0, 1340.130005, 1355.150024, 1334.310059, 1352.069946], [1201219200000.0, 1357.319946, 1368.560059, 1327.5, 1330.609985], [1201478400000.0, 1330.699951, 1353.969971, 1322.26001, 1353.959961], [1201564800000.0, 1355.939941, 1364.930054, 1350.189941, 1362.300049], [1201651200000.0, 1362.219971, 1385.859985, 1352.949951, 1355.810059], [1201737600000.0, 1351.97998, 1385.619995, 1334.079956, 1378.550049], [1201824000000.0, 1378.599976, 1396.02002, 1375.930054, 1395.420044], [1202083200000.0, 1395.380005, 1395.380005, 1379.689941, 1380.819946], [1202169600000.0, 1380.280029, 1380.280029, 1336.640015, 1336.640015], [1202256000000.0, 1339.47998, 1351.959961, 1324.339966, 1326.449951], [1202342400000.0, 1324.01001, 1347.160034, 1316.75, 1336.910034], [1202428800000.0, 1336.880005, 1341.219971, 1321.060059, 1331.290039], [1202688000000.0, 1331.920044, 1341.400024, 1320.319946, 1339.130005], [1202774400000.0, 1340.550049, 1362.099976, 1339.359985, 1348.859985], [1202860800000.0, 1353.119995, 1369.22998, 1350.780029, 1367.209961], [1202947200000.0, 1367.329956, 1368.160034, 1347.310059, 1348.859985], [1203033600000.0, 1347.52002, 1350.0, 1338.130005, 1349.98999], [1203379200000.0, 1355.859985, 1367.280029, 1345.050049, 1348.780029], [1203465600000.0, 1348.390015, 1363.709961, 1336.550049, 1360.030029], [1203552000000.0, 1362.209961, 1367.939941, 1339.339966, 1342.530029], [1203638400000.0, 1344.219971, 1354.300049, 1327.040039, 1353.109985], [1203897600000.0, 1352.75, 1374.359985, 1346.030029, 1371.800049], [1203984000000.0, 1371.76001, 1387.339966, 1363.290039, 1381.290039], [1204070400000.0, 1378.949951, 1388.339966, 1372.0, 1380.02002], [1204156800000.0, 1378.160034, 1378.160034, 1363.160034, 1367.680054], [1204243200000.0, 1364.069946, 1364.069946, 1325.420044, 1330.630005], [1204502400000.0, 1330.449951, 1335.130005, 1320.040039, 1331.339966], [1204588800000.0, 1329.579956, 1331.030029, 1307.390015, 1326.75], [1204675200000.0, 1327.689941, 1344.189941, 1320.219971, 1333.699951], [1204761600000.0, 1332.199951, 1332.199951, 1303.420044, 1304.339966], [1204848000000.0, 1301.530029, 1313.23999, 1282.430054, 1293.369995], [1205107200000.0, 1293.160034, 1295.01001, 1272.660034, 1273.369995], [1205193600000.0, 1274.400024, 1320.650024, 1274.400024, 1320.650024], [1205280000000.0, 1321.130005, 1333.26001, 1307.859985, 1308.77002], [1205366400000.0, 1305.26001, 1321.680054, 1282.109985, 1315.47998], [1205452800000.0, 1316.050049, 1321.469971, 1274.859985, 1288.140015], [1205712000000.0, 1283.209961, 1287.5, 1256.97998, 1276.599976], [1205798400000.0, 1277.160034, 1330.73999, 1277.160034, 1330.73999], [1205884800000.0, 1330.969971, 1341.51001, 1298.420044, 1298.420044], [1205971200000.0, 1299.670044, 1330.670044, 1295.219971, 1329.51001], [1206316800000.0, 1330.290039, 1359.680054, 1330.290039, 1349.880005], [1206403200000.0, 1349.069946, 1357.469971, 1341.209961, 1352.98999], [1206489600000.0, 1352.449951, 1352.449951, 1336.410034, 1341.130005], [1206576000000.0, 1340.339966, 1345.619995, 1325.660034, 1325.76001], [1206662400000.0, 1327.02002, 1334.869995, 1312.949951, 1315.219971], [1206921600000.0, 1315.920044, 1328.52002, 1312.810059, 1322.699951], [1207008000000.0, 1326.410034, 1370.180054, 1326.410034, 1370.180054], [1207094400000.0, 1369.959961, 1377.949951, 1361.550049, 1367.530029], [1207180800000.0, 1365.689941, 1375.660034, 1358.680054, 1369.310059], [1207267200000.0, 1369.849976, 1380.910034, 1362.829956, 1370.400024], [1207526400000.0, 1373.689941, 1386.73999, 1369.02002, 1372.540039], [1207612800000.0, 1370.160034, 1370.160034, 1360.619995, 1365.540039], [1207699200000.0, 1365.5, 1368.390015, 1349.969971, 1354.48999], [1207785600000.0, 1355.369995, 1367.23999, 1350.109985, 1360.550049], [1207872000000.0, 1357.97998, 1357.97998, 1331.209961, 1332.829956], [1208131200000.0, 1332.199951, 1335.640015, 1326.160034, 1328.319946], [1208217600000.0, 1331.719971, 1337.719971, 1324.349976, 1334.430054], [1208304000000.0, 1337.02002, 1365.48999, 1337.02002, 1364.709961], [1208390400000.0, 1363.369995, 1368.599976, 1357.25, 1365.560059], [1208476800000.0, 1369.0, 1395.900024, 1369.0, 1390.329956], [1208736000000.0, 1387.719971, 1390.22998, 1379.25, 1388.170044], [1208822400000.0, 1386.430054, 1386.430054, 1369.839966, 1375.939941], [1208908800000.0, 1378.400024, 1387.869995, 1372.23999, 1379.930054], [1208995200000.0, 1380.52002, 1397.719971, 1371.089966, 1388.819946], [1209081600000.0, 1387.880005, 1399.109985, 1379.97998, 1397.839966], [1209340800000.0, 1397.959961, 1402.900024, 1394.400024, 1396.369995], [1209427200000.0, 1395.609985, 1397.0, 1386.699951, 1390.939941], [1209513600000.0, 1391.219971, 1404.569946, 1384.25, 1385.589966], [1209600000000.0, 1385.969971, 1410.069946, 1383.069946, 1409.339966], [1209686400000.0, 1409.160034, 1422.719971, 1406.25, 1413.900024], [1209945600000.0, 1415.339966, 1415.339966, 1404.369995, 1407.48999], [1210032000000.0, 1405.599976, 1421.569946, 1397.099976, 1418.26001], [1210118400000.0, 1417.48999, 1419.540039, 1391.160034, 1392.569946], [1210204800000.0, 1394.290039, 1402.349976, 1389.390015, 1397.680054], [1210291200000.0, 1394.900024, 1394.900024, 1384.109985, 1388.280029], [1210550400000.0, 1389.400024, 1404.060059, 1386.199951, 1403.579956], [1210636800000.0, 1404.400024, 1406.300049, 1396.26001, 1403.040039], [1210723200000.0, 1405.650024, 1420.189941, 1405.650024, 1408.660034], [1210809600000.0, 1408.359985, 1424.400024, 1406.869995, 1423.569946], [1210896000000.0, 1423.890015, 1425.819946, 1414.349976, 1425.349976], [1211155200000.0, 1425.280029, 1440.23999, 1421.630005, 1426.630005], [1211241600000.0, 1424.48999, 1424.48999, 1409.089966, 1413.400024], [1211328000000.0, 1414.060059, 1419.119995, 1388.810059, 1390.709961], [1211414400000.0, 1390.829956, 1399.069946, 1390.22998, 1394.349976], [1211500800000.0, 1392.199951, 1392.199951, 1373.719971, 1375.930054], [1211846400000.0, 1375.969971, 1387.400024, 1373.069946, 1385.349976], [1211932800000.0, 1386.540039, 1391.25, 1378.160034, 1390.839966], [1212019200000.0, 1390.5, 1406.319946, 1388.589966, 1398.26001], [1212105600000.0, 1398.359985, 1404.459961, 1398.079956, 1400.380005], [1212364800000.0, 1399.619995, 1399.619995, 1377.790039, 1385.670044], [1212451200000.0, 1386.420044, 1393.119995, 1370.119995, 1377.650024], [1212537600000.0, 1376.26001, 1388.180054, 1371.73999, 1377.199951], [1212624000000.0, 1377.47998, 1404.050049, 1377.47998, 1404.050049], [1212710400000.0, 1400.060059, 1400.060059, 1359.900024, 1360.680054], [1212969600000.0, 1360.829956, 1370.630005, 1350.619995, 1361.76001], [1213056000000.0, 1358.97998, 1366.839966, 1351.560059, 1358.439941], [1213142400000.0, 1357.089966, 1357.089966, 1335.469971, 1335.48999], [1213228800000.0, 1335.780029, 1353.030029, 1331.290039, 1339.869995], [1213315200000.0, 1341.810059, 1360.030029, 1341.709961, 1360.030029], [1213574400000.0, 1358.849976, 1364.699951, 1352.069946, 1360.140015], [1213660800000.0, 1360.709961, 1366.589966, 1350.540039, 1350.930054], [1213747200000.0, 1349.589966, 1349.589966, 1333.400024, 1337.810059], [1213833600000.0, 1336.890015, 1347.660034, 1330.5, 1342.829956], [1213920000000.0, 1341.02002, 1341.02002, 1314.459961, 1317.930054], [1214179200000.0, 1319.77002, 1323.780029, 1315.310059, 1318.0], [1214265600000.0, 1317.22998, 1326.02002, 1304.420044, 1314.290039], [1214352000000.0, 1314.540039, 1335.630005, 1314.540039, 1321.969971], [1214438400000.0, 1316.290039, 1316.290039, 1283.150024, 1283.150024], [1214524800000.0, 1283.599976, 1289.449951, 1272.0, 1278.380005], [1214784000000.0, 1278.060059, 1290.310059, 1274.859985, 1280.0], [1214870400000.0, 1276.689941, 1285.310059, 1260.680054, 1284.910034], [1214956800000.0, 1285.819946, 1292.170044, 1261.51001, 1261.52002], [1215043200000.0, 1262.959961, 1271.47998, 1252.01001, 1262.900024], [1215388800000.0, 1262.900024, 1273.949951, 1240.680054, 1252.310059], [1215475200000.0, 1251.839966, 1274.170044, 1242.839966, 1273.699951], [1215561600000.0, 1273.380005, 1277.359985, 1244.569946, 1244.689941], [1215648000000.0, 1245.25, 1257.650024, 1236.76001, 1253.390015], [1215734400000.0, 1248.660034, 1257.27002, 1225.349976, 1239.48999], [1215993600000.0, 1241.609985, 1253.5, 1225.01001, 1228.300049], [1216080000000.0, 1226.829956, 1234.349976, 1200.439941, 1214.910034], [1216166400000.0, 1214.650024, 1245.52002, 1211.390015, 1245.359985], [1216252800000.0, 1246.310059, 1262.310059, 1241.48999, 1260.319946], [1216339200000.0, 1258.219971, 1262.22998, 1251.810059, 1260.680054], [1216598400000.0, 1261.819946, 1267.73999, 1255.699951, 1260.0], [1216684800000.0, 1257.079956, 1277.420044, 1248.829956, 1277.0], [1216771200000.0, 1278.869995, 1291.170044, 1276.060059, 1282.189941], [1216857600000.0, 1283.219971, 1283.219971, 1251.47998, 1252.540039], [1216944000000.0, 1253.51001, 1263.22998, 1251.75, 1257.76001], [1217203200000.0, 1257.76001, 1260.089966, 1234.369995, 1234.369995], [1217289600000.0, 1236.380005, 1263.199951, 1236.380005, 1263.199951], [1217376000000.0, 1264.52002, 1284.329956, 1264.52002, 1284.26001], [1217462400000.0, 1281.369995, 1284.930054, 1265.969971, 1267.380005], [1217548800000.0, 1269.420044, 1270.52002, 1254.540039, 1260.310059], [1217808000000.0, 1253.27002, 1260.48999, 1247.449951, 1249.01001], [1217894400000.0, 1254.869995, 1284.880005, 1254.670044, 1284.880005], [1217980800000.0, 1283.98999, 1291.670044, 1276.0, 1289.189941], [1218067200000.0, 1286.51001, 1286.51001, 1264.290039, 1266.069946], [1218153600000.0, 1266.290039, 1297.849976, 1262.109985, 1296.319946], [1218412800000.0, 1294.420044, 1313.150024, 1291.410034, 1305.319946], [1218499200000.0, 1304.790039, 1304.790039, 1285.640015, 1289.589966], [1218585600000.0, 1288.640015, 1294.030029, 1274.859985, 1285.829956], [1218672000000.0, 1282.109985, 1300.109985, 1276.839966, 1292.930054], [1218758400000.0, 1293.849976, 1302.050049, 1290.73999, 1298.199951], [1219017600000.0, 1298.140015, 1300.219971, 1274.51001, 1278.599976], [1219104000000.0, 1276.650024, 1276.650024, 1263.109985, 1266.689941], [1219190400000.0, 1267.339966, 1276.01001, 1261.160034, 1274.540039], [1219276800000.0, 1271.069946, 1281.400024, 1265.219971, 1277.719971], [1219363200000.0, 1277.589966, 1293.089966, 1277.589966, 1292.199951], [1219622400000.0, 1290.469971, 1290.469971, 1264.869995, 1266.839966], [1219708800000.0, 1267.030029, 1275.650024, 1263.209961, 1271.51001], [1219795200000.0, 1271.290039, 1285.050049, 1270.030029, 1281.660034], [1219881600000.0, 1283.790039, 1300.680054, 1283.790039, 1300.680054], [1219968000000.0, 1296.48999, 1297.589966, 1282.73999, 1282.829956], [1220313600000.0, 1287.829956, 1303.040039, 1272.199951, 1277.579956], [1220400000000.0, 1276.609985, 1280.599976, 1265.589966, 1274.97998], [1220486400000.0, 1271.800049, 1271.800049, 1232.829956, 1236.829956], [1220572800000.0, 1233.209961, 1244.939941, 1217.22998, 1242.310059], [1220832000000.0, 1249.5, 1274.420044, 1247.119995, 1267.790039], [1220918400000.0, 1267.97998, 1268.660034, 1224.51001, 1224.51001], [1221004800000.0, 1227.5, 1243.900024, 1221.599976, 1232.040039], [1221091200000.0, 1229.040039, 1249.97998, 1211.540039, 1249.050049], [1221177600000.0, 1245.880005, 1255.089966, 1233.810059, 1251.699951], [1221436800000.0, 1250.920044, 1250.920044, 1192.699951, 1192.699951], [1221523200000.0, 1188.310059, 1214.839966, 1169.280029, 1213.599976], [1221609600000.0, 1210.339966, 1210.339966, 1155.880005, 1156.390015], [1221696000000.0, 1157.079956, 1211.140015, 1133.5, 1206.51001], [1221782400000.0, 1213.109985, 1265.119995, 1213.109985, 1255.079956], [1222041600000.0, 1255.369995, 1255.369995, 1205.609985, 1207.089966], [1222128000000.0, 1207.609985, 1221.150024, 1187.060059, 1188.219971], [1222214400000.0, 1188.790039, 1197.410034, 1179.790039, 1185.869995], [1222300800000.0, 1187.869995, 1220.030029, 1187.869995, 1209.180054], [1222387200000.0, 1204.469971, 1215.77002, 1187.540039, 1213.27002], [1222646400000.0, 1209.069946, 1209.069946, 1106.420044, 1106.420044], [1222732800000.0, 1113.780029, 1168.030029, 1113.780029, 1166.359985], [1222819200000.0, 1164.170044, 1167.030029, 1140.77002, 1161.060059], [1222905600000.0, 1160.640015, 1160.640015, 1111.430054, 1114.280029], [1222992000000.0, 1115.160034, 1153.819946, 1098.140015, 1099.22998], [1223251200000.0, 1097.560059, 1097.560059, 1007.9699710000001, 1056.890015], [1223337600000.0, 1057.599976, 1072.910034, 996.2299800000001, 996.2299800000001], [1223424000000.0, 988.909973, 1021.0599980000001, 970.9699710000001, 984.9400019999999], [1223510400000.0, 988.419983, 1005.25, 909.1900019999999, 909.919983], [1223596800000.0, 902.3099980000001, 936.3599849999999, 839.7999880000001, 899.2199710000001], [1223856000000.0, 912.75, 1006.929993, 912.75, 1003.349976], [1223942400000.0, 1009.9699710000001, 1044.310059, 972.070007, 998.01001], [1224028800000.0, 994.599976, 994.599976, 903.98999, 907.840027], [1224115200000.0, 909.5300289999999, 947.7100220000001, 865.830017, 946.429993], [1224201600000.0, 942.2899779999999, 984.6400150000001, 918.73999, 940.5499880000001], [1224460800000.0, 943.51001, 985.400024, 943.51001, 985.400024], [1224547200000.0, 980.400024, 985.4400019999999, 952.4699710000001, 955.0499880000001], [1224633600000.0, 951.669983, 951.669983, 875.8099980000001, 896.7800289999999], [1224720000000.0, 899.080017, 922.830017, 858.4400019999999, 908.1099849999999], [1224806400000.0, 895.2199710000001, 896.2999880000001, 852.849976, 876.7700199999999], [1225065600000.0, 874.2800289999999, 893.7800289999999, 846.75, 848.919983], [1225152000000.0, 848.919983, 940.51001, 845.2700199999999, 940.51001], [1225238400000.0, 939.51001, 969.9699710000001, 922.26001, 930.090027], [1225324800000.0, 939.3800050000001, 963.2299800000001, 928.5, 954.090027], [1225411200000.0, 953.1099849999999, 984.3800050000001, 944.590027, 968.75], [1225670400000.0, 968.669983, 975.570007, 958.820007, 966.2999880000001], [1225756800000.0, 971.3099980000001, 1007.51001, 971.3099980000001, 1005.75], [1225843200000.0, 1001.840027, 1001.840027, 949.8599849999999, 952.7700199999999], [1225929600000.0, 952.400024, 952.400024, 899.7299800000001, 904.8800050000001], [1226016000000.0, 907.4400019999999, 931.4600220000001, 906.900024, 930.98999], [1226275200000.0, 936.75, 951.9500119999999, 907.4699710000001, 919.2100220000001], [1226361600000.0, 917.150024, 917.150024, 884.900024, 898.9500119999999], [1226448000000.0, 893.3900150000001, 893.3900150000001, 850.4799800000001, 852.2999880000001], [1226534400000.0, 853.1300050000001, 913.01001, 818.6900019999999, 911.2899779999999], [1226620800000.0, 904.3599849999999, 916.8800050000001, 869.8800050000001, 873.2899779999999], [1226880000000.0, 873.2299800000001, 882.2899779999999, 848.9799800000001, 850.75], [1226966400000.0, 852.340027, 865.900024, 826.840027, 859.1199949999999], [1227052800000.0, 859.0300289999999, 864.570007, 806.179993, 806.580017], [1227139200000.0, 805.869995, 820.52002, 747.780029, 752.4400019999999], [1227225600000.0, 755.840027, 801.200012, 741.02002, 800.030029], [1227484800000.0, 801.200012, 865.599976, 801.200012, 851.8099980000001], [1227571200000.0, 853.400024, 868.9400019999999, 834.98999, 857.3900150000001], [1227657600000.0, 852.900024, 887.679993, 841.3699949999999, 887.679993], [1227830400000.0, 886.8900150000001, 896.25, 881.2100220000001, 896.23999], [1228089600000.0, 888.6099849999999, 888.6099849999999, 815.6900019999999, 816.210022], [1228176000000.0, 817.9400019999999, 850.5399779999999, 817.9400019999999, 848.8099980000001], [1228262400000.0, 843.599976, 873.1199949999999, 827.599976, 870.73999], [1228348800000.0, 869.75, 875.599976, 833.599976, 845.2199710000001], [1228435200000.0, 844.429993, 879.419983, 818.409973, 876.070007], [1228694400000.0, 882.7100220000001, 918.570007, 882.7100220000001, 909.7000119999999], [1228780800000.0, 906.4799800000001, 916.26001, 885.3800050000001, 888.669983], [1228867200000.0, 892.169983, 908.2700199999999, 885.4500119999999, 899.23999], [1228953600000.0, 898.349976, 904.6300050000001, 868.7299800000001, 873.590027], [1229040000000.0, 871.7899779999999, 883.23999, 851.349976, 879.7299800000001], [1229299200000.0, 881.070007, 884.6300050000001, 857.7199710000001, 868.570007], [1229385600000.0, 871.5300289999999, 914.659973, 871.5300289999999, 913.179993], [1229472000000.0, 908.159973, 918.849976, 895.9400019999999, 904.419983], [1229558400000.0, 905.9799800000001, 911.0200199999999, 877.4400019999999, 885.2800289999999], [1229644800000.0, 886.9600220000001, 905.4699710000001, 883.0200199999999, 887.8800050000001], [1229904000000.0, 887.2000119999999, 887.3699949999999, 857.090027, 871.6300050000001], [1229990400000.0, 874.3099980000001, 880.4400019999999, 860.099976, 863.159973], [1230076800000.0, 863.8699949999999, 869.7899779999999, 861.4400019999999, 868.150024], [1230249600000.0, 869.51001, 873.73999, 866.5200199999999, 872.7999880000001], [1230508800000.0, 872.3699949999999, 873.7000119999999, 857.070007, 869.419983], [1230595200000.0, 870.580017, 891.1199949999999, 870.580017, 890.6400150000001], [1230681600000.0, 890.590027, 910.320007, 889.669983, 903.25], [1230854400000.0, 902.98999, 934.7299800000001, 899.349976, 931.7999880000001], [1231113600000.0, 929.169983, 936.6300050000001, 919.5300289999999, 927.4500119999999], [1231200000000.0, 931.169983, 943.849976, 927.2800289999999, 934.7000119999999], [1231286400000.0, 927.4500119999999, 927.4500119999999, 902.3699949999999, 906.650024], [1231372800000.0, 905.7299800000001, 910.0, 896.8099980000001, 909.7299800000001], [1231459200000.0, 909.909973, 911.929993, 888.3099980000001, 890.349976], [1231718400000.0, 890.400024, 890.400024, 864.320007, 870.26001], [1231804800000.0, 869.7899779999999, 877.0200199999999, 862.0200199999999, 871.7899779999999], [1231891200000.0, 867.2800289999999, 867.2800289999999, 836.929993, 842.6199949999999], [1231977600000.0, 841.98999, 851.590027, 817.039978, 843.73999], [1232064000000.0, 844.4500119999999, 858.1300050000001, 830.659973, 850.1199949999999], [1232409600000.0, 849.6400150000001, 849.6400150000001, 804.469971, 805.219971], [1232496000000.0, 806.77002, 841.7199710000001, 804.299988, 840.23999], [1232582400000.0, 839.73999, 839.73999, 811.289978, 827.5], [1232668800000.0, 822.159973, 838.6099849999999, 806.070007, 831.950012], [1232928000000.0, 832.5, 852.5300289999999, 827.6900019999999, 836.570007], [1233014400000.0, 837.299988, 850.4500119999999, 835.400024, 845.7100220000001], [1233100800000.0, 845.7299800000001, 877.8599849999999, 845.7299800000001, 874.090027], [1233187200000.0, 868.8900150000001, 868.8900150000001, 844.150024, 845.1400150000001], [1233273600000.0, 845.6900019999999, 851.659973, 821.669983, 825.880005], [1233532800000.0, 823.090027, 830.780029, 812.869995, 825.4400019999999], [1233619200000.0, 825.6900019999999, 842.599976, 821.97998, 838.51001], [1233705600000.0, 837.77002, 851.849976, 829.179993, 832.22998], [1233792000000.0, 831.75, 850.5499880000001, 819.909973, 845.849976], [1233878400000.0, 846.090027, 870.75, 845.419983, 868.599976], [1234137600000.0, 868.23999, 875.01001, 861.650024, 869.8900150000001], [1234224000000.0, 866.8699949999999, 868.0499880000001, 822.98999, 827.159973], [1234310400000.0, 827.409973, 838.219971, 822.299988, 833.73999], [1234396800000.0, 829.909973, 835.47998, 808.0599980000001, 835.1900019999999], [1234483200000.0, 833.950012, 839.429993, 825.210022, 826.840027], [1234828800000.0, 818.6099849999999, 818.6099849999999, 789.169983, 789.169983], [1234915200000.0, 791.0599980000001, 796.169983, 780.429993, 788.419983], [1235001600000.0, 787.909973, 797.580017, 777.030029, 778.9400019999999], [1235088000000.0, 775.869995, 778.6900019999999, 754.25, 770.049988], [1235347200000.0, 773.25, 777.849976, 742.369995, 743.330017], [1235433600000.0, 744.6900019999999, 775.48999, 744.6900019999999, 773.1400150000001], [1235520000000.0, 770.6400150000001, 780.119995, 752.8900150000001, 764.900024], [1235606400000.0, 765.76001, 779.419983, 751.75, 752.830017], [1235692800000.0, 749.929993, 751.27002, 734.52002, 735.090027], [1235952000000.0, 729.570007, 729.570007, 699.700012, 700.820007], [1236038400000.0, 704.4400019999999, 711.669983, 692.299988, 696.330017], [1236124800000.0, 698.599976, 724.119995, 698.599976, 712.869995], [1236211200000.0, 708.27002, 708.27002, 677.929993, 682.549988], [1236297600000.0, 684.039978, 699.090027, 666.789978, 683.380005], [1236556800000.0, 680.76001, 695.27002, 672.880005, 676.530029], [1236643200000.0, 679.280029, 719.599976, 679.280029, 719.599976], [1236729600000.0, 719.590027, 731.919983, 713.849976, 721.3599849999999], [1236816000000.0, 720.8900150000001, 752.630005, 714.76001, 750.73999], [1236902400000.0, 751.969971, 758.289978, 742.460022, 756.549988], [1237161600000.0, 758.840027, 774.530029, 753.369995, 753.8900150000001], [1237248000000.0, 753.880005, 778.119995, 749.929993, 778.119995], [1237334400000.0, 776.01001, 803.039978, 765.6400150000001, 794.349976], [1237420800000.0, 797.919983, 803.23999, 781.820007, 784.039978], [1237507200000.0, 784.580017, 788.909973, 766.200012, 768.539978], [1237766400000.0, 772.3099980000001, 823.369995, 772.3099980000001, 822.919983], [1237852800000.0, 820.599976, 823.650024, 805.47998, 806.119995], [1237939200000.0, 806.8099980000001, 826.780029, 791.369995, 813.880005], [1238025600000.0, 814.0599980000001, 832.97998, 814.0599980000001, 832.8599849999999], [1238112000000.0, 828.679993, 828.679993, 813.429993, 815.9400019999999], [1238371200000.0, 809.070007, 809.070007, 779.8099980000001, 787.530029], [1238457600000.0, 790.880005, 810.47998, 790.880005, 797.869995], [1238544000000.0, 793.590027, 813.619995, 783.320007, 811.080017], [1238630400000.0, 814.530029, 845.6099849999999, 814.530029, 834.380005], [1238716800000.0, 835.130005, 842.5, 826.700012, 842.5], [1238976000000.0, 839.75, 839.75, 822.789978, 835.47998], [1239062400000.0, 834.119995, 834.119995, 814.530029, 815.549988], [1239148800000.0, 816.76001, 828.419983, 814.840027, 825.159973], [1239235200000.0, 829.289978, 856.909973, 829.289978, 856.5599980000001], [1239580800000.0, 855.330017, 864.3099980000001, 845.349976, 858.7299800000001], [1239667200000.0, 856.8800050000001, 856.8800050000001, 840.25, 841.5], [1239753600000.0, 839.4400019999999, 852.929993, 835.580017, 852.0599980000001], [1239840000000.0, 854.5399779999999, 870.349976, 847.0399779999999, 865.2999880000001], [1239926400000.0, 865.179993, 875.6300050000001, 860.8699949999999, 869.599976], [1240185600000.0, 868.2700199999999, 868.2700199999999, 832.3900150000001, 832.3900150000001], [1240272000000.0, 831.25, 850.090027, 826.830017, 850.080017], [1240358400000.0, 847.26001, 861.7800289999999, 840.570007, 843.5499880000001], [1240444800000.0, 844.6199949999999, 852.8699949999999, 835.450012, 851.919983], [1240531200000.0, 853.909973, 871.7999880000001, 853.909973, 866.2299800000001], [1240790400000.0, 862.820007, 868.830017, 854.650024, 857.51001], [1240876800000.0, 854.4799800000001, 864.4799800000001, 847.1199949999999, 855.159973], [1240963200000.0, 856.849976, 882.0599980000001, 856.849976, 873.6400150000001], [1241049600000.0, 876.590027, 888.7000119999999, 868.51001, 872.8099980000001], [1241136000000.0, 872.73999, 880.4799800000001, 866.099976, 877.5200199999999], [1241395200000.0, 879.2100220000001, 907.849976, 879.2100220000001, 907.23999], [1241481600000.0, 906.099976, 907.7000119999999, 897.340027, 903.7999880000001], [1241568000000.0, 903.9500119999999, 920.2800289999999, 903.9500119999999, 919.5300289999999], [1241654400000.0, 919.580017, 929.580017, 901.3599849999999, 907.3900150000001], [1241740800000.0, 909.0300289999999, 930.169983, 909.0300289999999, 929.2299800000001], [1242000000000.0, 922.98999, 922.98999, 908.679993, 909.23999], [1242086400000.0, 910.5200199999999, 915.570007, 896.4600220000001, 908.349976], [1242172800000.0, 905.400024, 905.400024, 882.7999880000001, 883.919983], [1242259200000.0, 884.23999, 898.3599849999999, 882.5200199999999, 893.070007], [1242345600000.0, 892.76001, 896.9699710000001, 878.9400019999999, 882.8800050000001], [1242604800000.0, 886.070007, 910.0, 886.070007, 909.7100220000001], [1242691200000.0, 909.669983, 916.3900150000001, 905.2199710000001, 908.1300050000001], [1242777600000.0, 908.6199949999999, 924.599976, 901.3699949999999, 903.4699710000001], [1242864000000.0, 900.419983, 900.419983, 879.6099849999999, 888.330017], [1242950400000.0, 888.679993, 896.650024, 883.75, 887.0], [1243296000000.0, 887.0, 911.76001, 881.4600220000001, 910.330017], [1243382400000.0, 909.9500119999999, 913.840027, 891.8699949999999, 893.0599980000001], [1243468800000.0, 892.9600220000001, 909.4500119999999, 887.599976, 906.830017], [1243555200000.0, 907.0200199999999, 920.0200199999999, 903.5599980000001, 919.1400150000001], [1243814400000.0, 923.26001, 947.7700199999999, 923.26001, 942.8699949999999], [1243900800000.0, 942.8699949999999, 949.3800050000001, 938.4600220000001, 944.73999], [1243987200000.0, 942.51001, 942.51001, 923.849976, 931.76001], [1244073600000.0, 932.48999, 942.4699710000001, 929.320007, 942.4600220000001], [1244160000000.0, 945.669983, 951.6900019999999, 934.1300050000001, 940.090027], [1244419200000.0, 938.1199949999999, 946.330017, 926.4400019999999, 939.1400150000001], [1244505600000.0, 940.349976, 946.919983, 936.150024, 942.429993], [1244592000000.0, 942.7299800000001, 949.7700199999999, 927.9699710000001, 939.150024], [1244678400000.0, 939.0399779999999, 956.2299800000001, 939.0399779999999, 944.8900150000001], [1244764800000.0, 943.4400019999999, 946.2999880000001, 935.659973, 946.2100220000001], [1245024000000.0, 942.4500119999999, 942.4500119999999, 919.650024, 923.7199710000001], [1245110400000.0, 925.599976, 928.0, 911.599976, 911.9699710000001], [1245196800000.0, 911.8900150000001, 918.4400019999999, 903.7800289999999, 910.7100220000001], [1245283200000.0, 910.8599849999999, 921.929993, 907.9400019999999, 918.3699949999999], [1245369600000.0, 919.9600220000001, 927.090027, 915.7999880000001, 921.2299800000001], [1245628800000.0, 918.1300050000001, 918.1300050000001, 893.0399779999999, 893.0399779999999], [1245715200000.0, 893.4600220000001, 898.6900019999999, 888.8599849999999, 895.099976], [1245801600000.0, 896.3099980000001, 910.849976, 896.3099980000001, 900.9400019999999], [1245888000000.0, 899.4500119999999, 921.419983, 896.2700199999999, 920.26001], [1245974400000.0, 918.840027, 922.0, 913.0300289999999, 918.900024], [1246233600000.0, 919.8599849999999, 927.98999, 916.179993, 927.2299800000001], [1246320000000.0, 927.150024, 930.01001, 912.8599849999999, 919.320007], [1246406400000.0, 920.820007, 931.919983, 920.820007, 923.330017], [1246492800000.0, 921.23999, 921.23999, 896.419983, 896.419983], [1246838400000.0, 894.2700199999999, 898.7199710000001, 886.3599849999999, 898.7199710000001], [1246924800000.0, 898.599976, 898.599976, 879.929993, 881.0300289999999], [1247011200000.0, 881.900024, 886.7999880000001, 869.320007, 879.5599980000001], [1247097600000.0, 881.2800289999999, 887.8599849999999, 878.4500119999999, 882.679993], [1247184000000.0, 880.0300289999999, 883.570007, 872.8099980000001, 879.1300050000001], [1247443200000.0, 879.570007, 901.0499880000001, 875.320007, 901.0499880000001], [1247529600000.0, 900.7700199999999, 905.840027, 896.5, 905.840027], [1247616000000.0, 910.150024, 933.9500119999999, 910.150024, 932.679993], [1247702400000.0, 930.169983, 943.9600220000001, 927.4500119999999, 940.73999], [1247788800000.0, 940.5599980000001, 941.8900150000001, 934.650024, 940.3800050000001], [1248048000000.0, 942.070007, 951.6199949999999, 940.98999, 951.1300050000001], [1248134400000.0, 951.9699710000001, 956.5300289999999, 943.2199710000001, 954.580017], [1248220800000.0, 953.400024, 959.830017, 947.75, 954.070007], [1248307200000.0, 954.070007, 979.419983, 953.2700199999999, 976.2899779999999], [1248393600000.0, 972.159973, 979.7899779999999, 965.9500119999999, 979.26001], [1248652800000.0, 978.6300050000001, 982.48999, 972.2899779999999, 982.179993], [1248739200000.0, 981.4799800000001, 982.349976, 969.349976, 979.6199949999999], [1248825600000.0, 977.659973, 977.76001, 968.650024, 975.150024], [1248912000000.0, 976.01001, 996.679993, 976.01001, 986.75], [1248998400000.0, 986.7999880000001, 993.179993, 982.849976, 987.4799800000001], [1249257600000.0, 990.2199710000001, 1003.6099849999999, 990.2199710000001, 1002.6300050000001], [1249344000000.0, 1001.409973, 1007.1199949999999, 996.679993, 1005.650024], [1249430400000.0, 1005.409973, 1006.6400150000001, 994.3099980000001, 1002.7199710000001], [1249516800000.0, 1004.0599980000001, 1008.0, 992.48999, 997.080017], [1249603200000.0, 999.830017, 1018.0, 999.830017, 1010.4799800000001], [1249862400000.0, 1008.8900150000001, 1010.1199949999999, 1000.98999, 1007.099976], [1249948800000.0, 1005.7700199999999, 1005.7700199999999, 992.400024, 994.349976], [1250035200000.0, 994.0, 1012.7800289999999, 993.3599849999999, 1005.8099980000001], [1250121600000.0, 1005.8599849999999, 1013.1400150000001, 1000.820007, 1012.7299800000001], [1250208000000.0, 1012.2299800000001, 1012.599976, 994.599976, 1004.090027], [1250467200000.0, 998.179993, 998.179993, 978.51001, 979.7299800000001], [1250553600000.0, 980.6199949999999, 991.2000119999999, 980.6199949999999, 989.669983], [1250640000000.0, 986.8800050000001, 999.6099849999999, 980.6199949999999, 996.4600220000001], [1250726400000.0, 996.409973, 1008.919983, 996.3900150000001, 1007.3699949999999], [1250812800000.0, 1009.0599980000001, 1027.589966, 1009.0599980000001, 1026.130005], [1251072000000.0, 1026.589966, 1035.819946, 1022.4799800000001, 1025.569946], [1251158400000.0, 1026.630005, 1037.75, 1026.209961, 1028.0], [1251244800000.0, 1027.349976, 1032.469971, 1021.570007, 1028.119995], [1251331200000.0, 1027.810059, 1033.329956, 1016.2000119999999, 1030.97998], [1251417600000.0, 1031.619995, 1039.469971, 1023.1300050000001, 1028.930054], [1251676800000.0, 1025.209961, 1025.209961, 1014.6199949999999, 1020.6199949999999], [1251763200000.0, 1019.5200199999999, 1028.449951, 996.2800289999999, 998.0399779999999], [1251849600000.0, 996.070007, 1000.340027, 991.9699710000001, 994.75], [1251936000000.0, 996.1199949999999, 1003.429993, 992.25, 1003.23999], [1252022400000.0, 1003.840027, 1016.4799800000001, 1001.650024, 1016.400024], [1252368000000.0, 1018.669983, 1026.069946, 1018.669983, 1025.390015], [1252454400000.0, 1025.359985, 1036.339966, 1023.9699710000001, 1033.369995], [1252540800000.0, 1032.98999, 1044.140015, 1028.040039, 1044.140015], [1252627200000.0, 1043.920044, 1048.180054, 1038.400024, 1042.72998], [1252886400000.0, 1040.150024, 1049.73999, 1035.0, 1049.339966], [1252972800000.0, 1049.030029, 1056.040039, 1043.420044, 1052.630005], [1253059200000.0, 1053.98999, 1068.76001, 1052.869995, 1068.76001], [1253145600000.0, 1067.869995, 1074.77002, 1061.199951, 1065.48999], [1253232000000.0, 1066.599976, 1071.52002, 1064.27002, 1068.300049], [1253491200000.0, 1067.140015, 1067.280029, 1057.459961, 1064.660034], [1253577600000.0, 1066.349976, 1073.810059, 1066.349976, 1071.660034], [1253664000000.0, 1072.689941, 1080.150024, 1060.390015, 1060.869995], [1253750400000.0, 1062.560059, 1066.290039, 1045.849976, 1050.780029], [1253836800000.0, 1049.47998, 1053.469971, 1041.170044, 1044.380005], [1254096000000.0, 1045.380005, 1065.130005, 1045.380005, 1062.97998], [1254182400000.0, 1063.689941, 1069.619995, 1057.829956, 1060.609985], [1254268800000.0, 1061.02002, 1063.400024, 1046.469971, 1057.079956], [1254355200000.0, 1054.910034, 1054.910034, 1029.449951, 1029.849976], [1254441600000.0, 1029.709961, 1030.599976, 1019.9500119999999, 1025.209961], [1254700800000.0, 1026.869995, 1042.579956, 1025.920044, 1040.459961], [1254787200000.0, 1042.02002, 1060.550049, 1042.02002, 1054.719971], [1254873600000.0, 1053.650024, 1058.02002, 1050.099976, 1057.579956], [1254960000000.0, 1060.030029, 1070.670044, 1060.030029, 1065.47998], [1255046400000.0, 1065.280029, 1071.51001, 1063.0, 1071.48999], [1255305600000.0, 1071.630005, 1079.459961, 1071.630005, 1076.189941], [1255392000000.0, 1074.959961, 1075.300049, 1066.709961, 1073.189941], [1255478400000.0, 1078.680054, 1093.170044, 1078.680054, 1092.02002], [1255564800000.0, 1090.359985, 1096.560059, 1086.410034, 1096.560059], [1255651200000.0, 1094.670044, 1094.670044, 1081.530029, 1087.680054], [1255910400000.0, 1088.219971, 1100.170044, 1086.47998, 1097.910034], [1255996800000.0, 1098.640015, 1098.640015, 1086.160034, 1091.060059], [1256083200000.0, 1090.359985, 1101.359985, 1080.77002, 1081.400024], [1256169600000.0, 1080.959961, 1095.209961, 1074.310059, 1092.910034], [1256256000000.0, 1095.619995, 1095.829956, 1075.48999, 1079.599976], [1256515200000.0, 1080.359985, 1091.75, 1065.22998, 1066.949951], [1256601600000.0, 1067.540039, 1072.47998, 1060.619995, 1063.410034], [1256688000000.0, 1061.51001, 1063.26001, 1042.189941, 1042.630005], [1256774400000.0, 1043.689941, 1066.829956, 1043.689941, 1066.109985], [1256860800000.0, 1065.410034, 1065.410034, 1033.380005, 1036.189941], [1257120000000.0, 1036.180054, 1052.180054, 1029.380005, 1042.880005], [1257206400000.0, 1040.920044, 1046.359985, 1033.939941, 1045.410034], [1257292800000.0, 1047.140015, 1061.0, 1045.150024, 1046.5], [1257379200000.0, 1047.300049, 1066.650024, 1047.300049, 1066.630005], [1257465600000.0, 1064.949951, 1071.47998, 1059.319946, 1069.300049], [1257724800000.0, 1072.310059, 1093.189941, 1072.310059, 1093.079956], [1257811200000.0, 1091.859985, 1096.420044, 1087.400024, 1093.01001], [1257897600000.0, 1096.040039, 1105.369995, 1093.810059, 1098.51001], [1257984000000.0, 1098.310059, 1101.969971, 1084.900024, 1087.23999], [1258070400000.0, 1087.589966, 1097.790039, 1085.329956, 1093.47998], [1258329600000.0, 1094.130005, 1113.689941, 1094.130005, 1109.300049], [1258416000000.0, 1109.219971, 1110.52002, 1102.189941, 1110.319946], [1258502400000.0, 1109.439941, 1111.099976, 1102.699951, 1109.800049], [1258588800000.0, 1106.439941, 1106.439941, 1088.400024, 1094.900024], [1258675200000.0, 1094.660034, 1094.660034, 1086.810059, 1091.380005], [1258934400000.0, 1094.859985, 1112.380005, 1094.859985, 1106.23999], [1259020800000.0, 1105.829956, 1107.560059, 1097.630005, 1105.650024], [1259107200000.0, 1106.48999, 1111.180054, 1104.75, 1110.630005], [1259280000000.0, 1105.469971, 1105.469971, 1083.73999, 1091.48999], [1259539200000.0, 1091.069946, 1097.23999, 1086.25, 1095.630005], [1259625600000.0, 1098.890015, 1112.280029, 1098.890015, 1108.859985], [1259712000000.0, 1109.030029, 1115.579956, 1105.290039, 1109.23999], [1259798400000.0, 1110.589966, 1117.280029, 1098.73999, 1099.920044], [1259884800000.0, 1100.430054, 1119.130005, 1096.52002, 1105.97998], [1260144000000.0, 1105.52002, 1110.719971, 1100.829956, 1103.25], [1260230400000.0, 1103.040039, 1103.040039, 1088.609985, 1091.939941], [1260316800000.0, 1091.069946, 1097.040039, 1085.890015, 1095.949951], [1260403200000.0, 1098.689941, 1106.25, 1098.689941, 1102.349976], [1260489600000.0, 1103.959961, 1108.5, 1101.339966, 1106.410034], [1260748800000.0, 1107.839966, 1114.76001, 1107.839966, 1114.109985], [1260835200000.0, 1114.109985, 1114.109985, 1105.349976, 1107.930054], [1260921600000.0, 1108.609985, 1116.209961, 1107.959961, 1109.180054], [1261008000000.0, 1106.359985, 1106.359985, 1095.880005, 1096.079956], [1261094400000.0, 1097.859985, 1103.73999, 1093.880005, 1102.469971], [1261353600000.0, 1105.310059, 1117.680054, 1105.310059, 1114.050049], [1261440000000.0, 1114.51001, 1120.27002, 1114.51001, 1118.02002], [1261526400000.0, 1118.839966, 1121.579956, 1116.0, 1120.589966], [1261612800000.0, 1121.079956, 1126.47998, 1121.079956, 1126.47998], [1261958400000.0, 1127.530029, 1130.380005, 1123.51001, 1127.780029], [1262044800000.0, 1128.550049, 1130.380005, 1126.079956, 1126.199951], [1262131200000.0, 1125.530029, 1126.420044, 1121.939941, 1126.420044], [1262217600000.0, 1126.599976, 1127.640015, 1114.810059, 1115.099976], [1262563200000.0, 1116.560059, 1133.869995, 1116.560059, 1132.98999], [1262649600000.0, 1132.660034, 1136.630005, 1129.660034, 1136.52002], [1262736000000.0, 1135.709961, 1139.189941, 1133.949951, 1137.140015], [1262822400000.0, 1136.27002, 1142.459961, 1131.319946, 1141.689941], [1262908800000.0, 1140.52002, 1145.390015, 1136.219971, 1144.97998], [1263168000000.0, 1145.959961, 1149.73999, 1142.02002, 1146.97998], [1263254400000.0, 1143.810059, 1143.810059, 1131.77002, 1136.219971], [1263340800000.0, 1137.310059, 1148.400024, 1133.180054, 1145.680054], [1263427200000.0, 1145.680054, 1150.410034, 1143.800049, 1148.459961], [1263513600000.0, 1147.719971, 1147.77002, 1131.390015, 1136.030029], [1263859200000.0, 1136.030029, 1150.449951, 1135.77002, 1150.22998], [1263945600000.0, 1147.949951, 1147.949951, 1129.25, 1138.040039], [1264032000000.0, 1138.680054, 1141.579956, 1114.839966, 1116.47998], [1264118400000.0, 1115.48999, 1115.48999, 1090.180054, 1091.76001], [1264377600000.0, 1092.400024, 1102.969971, 1092.400024, 1096.780029], [1264464000000.0, 1095.800049, 1103.689941, 1089.859985, 1092.170044], [1264550400000.0, 1091.939941, 1099.51001, 1083.109985, 1097.5], [1264636800000.0, 1096.930054, 1100.219971, 1078.459961, 1084.530029], [1264723200000.0, 1087.609985, 1096.449951, 1071.589966, 1073.869995], [1264982400000.0, 1073.890015, 1089.380005, 1073.890015, 1089.189941], [1265068800000.0, 1090.050049, 1104.72998, 1087.959961, 1103.319946], [1265155200000.0, 1100.670044, 1102.719971, 1093.969971, 1097.280029], [1265241600000.0, 1097.25, 1097.25, 1062.780029, 1063.109985], [1265328000000.0, 1064.119995, 1067.130005, 1044.5, 1066.189941], [1265587200000.0, 1065.51001, 1071.199951, 1056.51001, 1056.73999], [1265673600000.0, 1060.060059, 1079.280029, 1060.060059, 1070.52002], [1265760000000.0, 1069.680054, 1073.670044, 1059.339966, 1068.130005], [1265846400000.0, 1067.099976, 1080.040039, 1060.589966, 1078.469971], [1265932800000.0, 1075.949951, 1077.810059, 1062.969971, 1075.51001], [1266278400000.0, 1079.130005, 1095.670044, 1079.130005, 1094.869995], [1266364800000.0, 1096.140015, 1101.030029, 1094.719971, 1099.51001], [1266451200000.0, 1099.030029, 1108.23999, 1097.47998, 1106.75], [1266537600000.0, 1105.48999, 1112.420044, 1100.800049, 1109.170044], [1266796800000.0, 1110.0, 1112.290039, 1105.380005, 1108.01001], [1266883200000.0, 1107.48999, 1108.579956, 1092.180054, 1094.599976], [1266969600000.0, 1095.890015, 1106.420044, 1095.5, 1105.23999], [1267056000000.0, 1101.23999, 1103.5, 1086.02002, 1102.939941], [1267142400000.0, 1103.099976, 1107.23999, 1097.560059, 1104.48999], [1267401600000.0, 1105.359985, 1116.109985, 1105.359985, 1115.709961], [1267488000000.0, 1117.01001, 1123.459961, 1116.51001, 1118.310059], [1267574400000.0, 1119.359985, 1125.640015, 1116.579956, 1118.790039], [1267660800000.0, 1119.119995, 1123.72998, 1116.660034, 1122.969971], [1267747200000.0, 1125.119995, 1139.380005, 1125.119995, 1138.699951], [1268006400000.0, 1138.400024, 1141.050049, 1136.77002, 1138.5], [1268092800000.0, 1137.560059, 1145.369995, 1134.900024, 1140.449951], [1268179200000.0, 1140.219971, 1148.26001, 1140.089966, 1145.609985], [1268265600000.0, 1143.959961, 1150.23999, 1138.98999, 1150.23999], [1268352000000.0, 1151.709961, 1153.410034, 1146.969971, 1149.98999], [1268611200000.0, 1148.530029, 1150.97998, 1141.449951, 1150.51001], [1268697600000.0, 1150.829956, 1160.280029, 1150.349976, 1159.459961], [1268784000000.0, 1159.939941, 1169.839966, 1159.939941, 1166.209961], [1268870400000.0, 1166.130005, 1167.77002, 1161.160034, 1165.829956], [1268956800000.0, 1166.680054, 1169.199951, 1155.329956, 1159.900024], [1269216000000.0, 1157.25, 1167.819946, 1152.880005, 1165.810059], [1269302400000.0, 1166.469971, 1174.719971, 1163.829956, 1174.170044], [1269388800000.0, 1172.699951, 1173.040039, 1166.01001, 1167.719971], [1269475200000.0, 1170.030029, 1180.689941, 1165.089966, 1165.72998], [1269561600000.0, 1167.579956, 1173.930054, 1161.47998, 1166.589966], [1269820800000.0, 1167.709961, 1174.849976, 1167.709961, 1173.219971], [1269907200000.0, 1173.75, 1177.829956, 1168.920044, 1173.27002], [1269993600000.0, 1171.75, 1174.560059, 1165.77002, 1169.430054], [1270080000000.0, 1171.22998, 1181.430054, 1170.689941, 1178.099976], [1270425600000.0, 1178.709961, 1187.72998, 1178.709961, 1187.439941], [1270512000000.0, 1186.01001, 1191.800049, 1182.77002, 1189.439941], [1270598400000.0, 1188.22998, 1189.599976, 1177.25, 1182.449951], [1270684800000.0, 1181.75, 1188.550049, 1175.119995, 1186.439941], [1270771200000.0, 1187.469971, 1194.660034, 1187.150024, 1194.369995], [1271030400000.0, 1194.939941, 1199.199951, 1194.709961, 1196.47998], [1271116800000.0, 1195.939941, 1199.040039, 1188.819946, 1197.300049], [1271203200000.0, 1198.689941, 1210.650024, 1198.689941, 1210.650024], [1271289600000.0, 1210.77002, 1213.920044, 1208.5, 1211.670044], [1271376000000.0, 1210.170044, 1210.170044, 1186.77002, 1192.130005], [1271635200000.0, 1192.060059, 1197.869995, 1183.680054, 1197.52002], [1271721600000.0, 1199.040039, 1208.579956, 1199.040039, 1207.170044], [1271808000000.0, 1207.160034, 1210.98999, 1198.849976, 1205.939941], [1271894400000.0, 1202.52002, 1210.27002, 1190.189941, 1208.670044], [1271980800000.0, 1207.869995, 1217.280029, 1205.099976, 1217.280029], [1272240000000.0, 1217.069946, 1219.800049, 1211.069946, 1212.050049], [1272326400000.0, 1209.920044, 1211.380005, 1181.619995, 1183.709961], [1272412800000.0, 1184.589966, 1195.050049, 1181.810059, 1191.359985], [1272499200000.0, 1193.300049, 1209.359985, 1193.300049, 1206.780029], [1272585600000.0, 1206.77002, 1207.98999, 1186.319946, 1186.689941], [1272844800000.0, 1188.579956, 1205.130005, 1188.579956, 1202.26001], [1272931200000.0, 1197.5, 1197.5, 1168.119995, 1173.599976], [1273017600000.0, 1169.23999, 1175.949951, 1158.150024, 1165.869995], [1273104000000.0, 1164.380005, 1167.579956, 1065.790039, 1128.150024], [1273190400000.0, 1127.040039, 1135.130005, 1094.150024, 1110.880005], [1273449600000.0, 1122.27002, 1163.849976, 1122.27002, 1159.72998], [1273536000000.0, 1156.390015, 1170.47998, 1147.709961, 1155.790039], [1273622400000.0, 1155.430054, 1172.869995, 1155.430054, 1171.670044], [1273708800000.0, 1170.040039, 1173.569946, 1156.140015, 1157.439941], [1273795200000.0, 1157.189941, 1157.189941, 1126.140015, 1135.680054], [1274054400000.0, 1136.52002, 1141.880005, 1114.959961, 1136.939941], [1274140800000.0, 1138.780029, 1148.660034, 1117.199951, 1120.800049], [1274227200000.0, 1119.569946, 1124.27002, 1100.660034, 1115.050049], [1274313600000.0, 1107.339966, 1107.339966, 1071.579956, 1071.589966], [1274400000000.0, 1067.26001, 1090.160034, 1055.900024, 1087.689941], [1274659200000.0, 1084.780029, 1089.949951, 1072.699951, 1073.650024], [1274745600000.0, 1067.420044, 1074.75, 1040.780029, 1074.030029], [1274832000000.0, 1075.51001, 1090.75, 1065.589966, 1067.949951], [1274918400000.0, 1074.27002, 1103.52002, 1074.27002, 1103.060059], [1275004800000.0, 1102.589966, 1102.589966, 1084.780029, 1089.410034], [1275350400000.0, 1087.300049, 1094.77002, 1069.890015, 1070.709961], [1275436800000.0, 1073.01001, 1098.560059, 1072.030029, 1098.380005], [1275523200000.0, 1098.819946, 1105.670044, 1091.810059, 1102.829956], [1275609600000.0, 1098.430054, 1098.430054, 1060.5, 1064.880005], [1275868800000.0, 1065.839966, 1071.359985, 1049.859985, 1050.469971], [1275955200000.0, 1050.810059, 1063.150024, 1042.170044, 1062.0], [1276041600000.0, 1062.75, 1077.73999, 1052.25, 1055.689941], [1276128000000.0, 1058.77002, 1087.849976, 1058.77002, 1086.839966], [1276214400000.0, 1082.650024, 1092.25, 1077.119995, 1091.599976], [1276473600000.0, 1095.0, 1105.910034, 1089.030029, 1089.630005], [1276560000000.0, 1091.209961, 1115.589966, 1091.209961, 1115.22998], [1276646400000.0, 1114.02002, 1118.73999, 1107.130005, 1114.609985], [1276732800000.0, 1115.97998, 1117.719971, 1105.869995, 1116.040039], [1276819200000.0, 1116.160034, 1121.01001, 1113.930054, 1117.51001], [1277078400000.0, 1122.790039, 1131.22998, 1108.23999, 1113.199951], [1277164800000.0, 1113.900024, 1118.5, 1094.180054, 1095.310059], [1277251200000.0, 1095.569946, 1099.640015, 1085.310059, 1092.040039], [1277337600000.0, 1090.930054, 1090.930054, 1071.599976, 1073.689941], [1277424000000.0, 1075.099976, 1083.560059, 1067.890015, 1076.76001], [1277683200000.0, 1077.5, 1082.599976, 1071.449951, 1074.569946], [1277769600000.0, 1071.099976, 1071.099976, 1035.180054, 1041.23999], [1277856000000.0, 1040.560059, 1048.079956, 1028.329956, 1030.709961], [1277942400000.0, 1031.099976, 1033.579956, 1010.909973, 1027.369995], [1278028800000.0, 1027.650024, 1032.949951, 1015.929993, 1022.580017], [1278374400000.0, 1028.089966, 1042.5, 1018.349976, 1028.060059], [1278460800000.0, 1028.540039, 1060.890015, 1028.540039, 1060.27002], [1278547200000.0, 1062.920044, 1071.25, 1058.23999, 1070.25], [1278633600000.0, 1070.5, 1078.160034, 1068.099976, 1077.959961], [1278892800000.0, 1077.22998, 1080.780029, 1070.449951, 1078.75], [1278979200000.0, 1080.650024, 1099.459961, 1080.650024, 1095.339966], [1279065600000.0, 1095.609985, 1099.079956, 1087.680054, 1095.170044], [1279152000000.0, 1094.459961, 1098.660034, 1080.530029, 1096.47998], [1279238400000.0, 1093.849976, 1093.849976, 1063.319946, 1064.880005], [1279497600000.0, 1066.849976, 1074.699951, 1061.109985, 1071.25], [1279584000000.0, 1064.530029, 1083.939941, 1056.880005, 1083.47998], [1279670400000.0, 1086.670044, 1088.959961, 1065.25, 1069.589966], [1279756800000.0, 1072.140015, 1097.5, 1072.140015, 1093.670044], [1279843200000.0, 1092.170044, 1103.72998, 1087.880005, 1102.660034], [1280102400000.0, 1102.890015, 1115.01001, 1101.300049, 1115.01001], [1280188800000.0, 1117.359985, 1120.949951, 1109.780029, 1113.839966], [1280275200000.0, 1112.839966, 1114.660034, 1103.109985, 1106.130005], [1280361600000.0, 1108.069946, 1115.900024, 1092.819946, 1101.530029], [1280448000000.0, 1098.439941, 1106.439941, 1088.01001, 1101.599976], [1280707200000.0, 1107.530029, 1127.300049, 1107.530029, 1125.859985], [1280793600000.0, 1125.339966, 1125.439941, 1116.76001, 1120.459961], [1280880000000.0, 1121.060059, 1128.75, 1119.459961, 1127.23999], [1280966400000.0, 1125.780029, 1126.560059, 1118.810059, 1125.810059], [1281052800000.0, 1122.069946, 1123.060059, 1107.170044, 1121.640015], [1281312000000.0, 1122.800049, 1129.23999, 1120.910034, 1127.790039], [1281398400000.0, 1122.920044, 1127.160034, 1111.579956, 1121.060059], [1281484800000.0, 1116.890015, 1116.890015, 1088.550049, 1089.469971], [1281571200000.0, 1081.47998, 1086.719971, 1076.689941, 1083.609985], [1281657600000.0, 1082.219971, 1086.25, 1079.0, 1079.25], [1281916800000.0, 1077.48999, 1082.619995, 1069.48999, 1079.380005], [1282003200000.0, 1081.160034, 1100.140015, 1081.160034, 1092.540039], [1282089600000.0, 1092.079956, 1099.77002, 1085.76001, 1094.160034], [1282176000000.0, 1092.439941, 1092.439941, 1070.660034, 1075.630005], [1282262400000.0, 1075.630005, 1075.630005, 1063.910034, 1071.689941], [1282521600000.0, 1073.359985, 1081.579956, 1067.079956, 1067.359985], [1282608000000.0, 1063.199951, 1063.199951, 1046.680054, 1051.869995], [1282694400000.0, 1048.97998, 1059.380005, 1039.829956, 1055.329956], [1282780800000.0, 1056.280029, 1061.449951, 1045.400024, 1047.219971], [1282867200000.0, 1049.27002, 1065.209961, 1039.699951, 1064.589966], [1283126400000.0, 1062.900024, 1064.400024, 1048.790039, 1048.920044], [1283212800000.0, 1046.880005, 1055.140015, 1040.880005, 1049.329956], [1283299200000.0, 1049.719971, 1081.300049, 1049.719971, 1080.290039], [1283385600000.0, 1080.660034, 1090.099976, 1080.390015, 1090.099976], [1283472000000.0, 1093.609985, 1105.099976, 1093.609985, 1104.51001], [1283817600000.0, 1102.599976, 1102.599976, 1091.150024, 1091.839966], [1283904000000.0, 1092.359985, 1103.26001, 1092.359985, 1098.869995], [1283990400000.0, 1101.150024, 1110.27002, 1101.150024, 1104.180054], [1284076800000.0, 1104.569946, 1110.880005, 1103.920044, 1109.550049], [1284336000000.0, 1113.380005, 1123.869995, 1113.380005, 1121.900024], [1284422400000.0, 1121.160034, 1127.359985, 1115.579956, 1121.099976], [1284508800000.0, 1119.430054, 1126.459961, 1114.630005, 1125.069946], [1284595200000.0, 1123.890015, 1125.439941, 1118.880005, 1124.660034], [1284681600000.0, 1126.390015, 1131.469971, 1122.430054, 1125.589966], [1284940800000.0, 1126.569946, 1144.859985, 1126.569946, 1142.709961], [1285027200000.0, 1142.819946, 1148.589966, 1136.219971, 1139.780029], [1285113600000.0, 1139.48999, 1144.380005, 1131.579956, 1134.280029], [1285200000000.0, 1131.099976, 1136.77002, 1122.790039, 1124.829956], [1285286400000.0, 1131.689941, 1148.900024, 1131.689941, 1148.670044], [1285545600000.0, 1148.640015, 1149.920044, 1142.0, 1142.160034], [1285632000000.0, 1142.310059, 1150.0, 1132.089966, 1147.699951], [1285718400000.0, 1146.75, 1148.630005, 1140.26001, 1144.72998], [1285804800000.0, 1145.969971, 1157.160034, 1136.079956, 1141.199951], [1285891200000.0, 1143.48999, 1150.300049, 1139.420044, 1146.23999], [1286150400000.0, 1144.959961, 1148.160034, 1131.869995, 1137.030029], [1286236800000.0, 1140.680054, 1162.76001, 1140.680054, 1160.75], [1286323200000.0, 1159.810059, 1162.329956, 1154.849976, 1159.969971], [1286409600000.0, 1161.569946, 1163.869995, 1151.410034, 1158.060059], [1286496000000.0, 1158.359985, 1167.72998, 1155.579956, 1165.150024], [1286755200000.0, 1165.319946, 1168.680054, 1162.02002, 1165.319946], [1286841600000.0, 1164.280029, 1172.579956, 1155.709961, 1169.77002], [1286928000000.0, 1171.319946, 1184.380005, 1171.319946, 1178.099976], [1287014400000.0, 1177.819946, 1178.890015, 1166.709961, 1173.810059], [1287100800000.0, 1177.469971, 1181.199951, 1167.119995, 1176.189941], [1287360000000.0, 1176.829956, 1185.530029, 1174.550049, 1184.709961], [1287446400000.0, 1178.640015, 1178.640015, 1159.709961, 1165.900024], [1287532800000.0, 1166.73999, 1182.939941, 1166.73999, 1178.170044], [1287619200000.0, 1179.819946, 1189.430054, 1171.170044, 1180.26001], [1287705600000.0, 1180.52002, 1183.930054, 1178.98999, 1183.079956], [1287964800000.0, 1184.73999, 1196.140015, 1184.73999, 1185.619995], [1288051200000.0, 1184.880005, 1187.109985, 1177.719971, 1185.640015], [1288137600000.0, 1183.839966, 1183.839966, 1171.699951, 1182.449951], [1288224000000.0, 1184.469971, 1189.530029, 1177.099976, 1183.780029], [1288310400000.0, 1183.869995, 1185.459961, 1179.699951, 1183.26001], [1288569600000.0, 1185.709961, 1195.810059, 1177.650024, 1184.380005], [1288656000000.0, 1187.859985, 1195.880005, 1187.859985, 1193.569946], [1288742400000.0, 1193.790039, 1198.300049, 1183.560059, 1197.959961], [1288828800000.0, 1198.339966, 1221.25, 1198.339966, 1221.060059], [1288915200000.0, 1221.199951, 1227.079956, 1220.290039, 1225.849976], [1289174400000.0, 1223.23999, 1224.569946, 1217.550049, 1223.25], [1289260800000.0, 1223.589966, 1226.839966, 1208.939941, 1213.400024], [1289347200000.0, 1213.140015, 1218.75, 1204.329956, 1218.709961], [1289433600000.0, 1213.040039, 1215.449951, 1204.48999, 1213.540039], [1289520000000.0, 1209.069946, 1210.5, 1194.079956, 1199.209961], [1289779200000.0, 1200.439941, 1207.430054, 1197.150024, 1197.75], [1289865600000.0, 1194.790039, 1194.790039, 1173.0, 1178.339966], [1289952000000.0, 1178.329956, 1183.560059, 1175.819946, 1178.589966], [1290038400000.0, 1183.75, 1200.290039, 1183.75, 1196.689941], [1290124800000.0, 1196.119995, 1199.969971, 1189.439941, 1199.72998], [1290384000000.0, 1198.069946, 1198.939941, 1184.579956, 1197.839966], [1290470400000.0, 1192.51001, 1192.51001, 1176.910034, 1180.72998], [1290556800000.0, 1183.699951, 1198.619995, 1183.699951, 1198.349976], [1290729600000.0, 1194.160034, 1194.160034, 1186.930054, 1189.400024], [1290988800000.0, 1189.079956, 1190.339966, 1173.640015, 1187.76001], [1291075200000.0, 1182.959961, 1187.400024, 1174.140015, 1180.550049], [1291161600000.0, 1186.599976, 1207.609985, 1186.599976, 1206.069946], [1291248000000.0, 1206.810059, 1221.890015, 1206.810059, 1221.530029], [1291334400000.0, 1219.930054, 1225.569946, 1216.819946, 1224.709961], [1291593600000.0, 1223.869995, 1225.800049, 1220.670044, 1223.119995], [1291680000000.0, 1227.25, 1235.050049, 1223.25, 1223.75], [1291766400000.0, 1225.02002, 1228.930054, 1219.5, 1228.280029], [1291852800000.0, 1230.140015, 1234.709961, 1226.849976, 1233.0], [1291939200000.0, 1233.849976, 1240.400024, 1232.579956, 1240.400024], [1292198400000.0, 1242.52002, 1246.72998, 1240.339966, 1240.459961], [1292284800000.0, 1241.839966, 1246.589966, 1238.170044, 1241.589966], [1292371200000.0, 1241.579956, 1244.25, 1234.01001, 1235.22998], [1292457600000.0, 1236.339966, 1243.75, 1232.849976, 1242.869995], [1292544000000.0, 1243.630005, 1245.810059, 1239.869995, 1243.910034], [1292803200000.0, 1245.76001, 1250.199951, 1241.51001, 1247.079956], [1292889600000.0, 1249.430054, 1255.819946, 1249.430054, 1254.599976], [1292976000000.0, 1254.939941, 1259.390015, 1254.939941, 1258.839966], [1293062400000.0, 1257.530029, 1258.589966, 1254.050049, 1256.77002], [1293408000000.0, 1254.660034, 1258.430054, 1251.47998, 1257.540039], [1293494400000.0, 1259.099976, 1259.900024, 1256.219971, 1258.51001], [1293580800000.0, 1258.780029, 1262.599976, 1258.780029, 1259.780029], [1293667200000.0, 1259.439941, 1261.089966, 1256.319946, 1257.880005], [1293753600000.0, 1256.76001, 1259.339966, 1254.189941, 1257.640015], [1294012800000.0, 1257.619995, 1276.170044, 1257.619995, 1271.869995], [1294099200000.0, 1272.949951, 1274.119995, 1262.660034, 1270.199951], [1294185600000.0, 1268.780029, 1277.630005, 1265.359985, 1276.560059], [1294272000000.0, 1276.290039, 1278.170044, 1270.430054, 1273.849976], [1294358400000.0, 1274.410034, 1276.829956, 1261.699951, 1271.5], [1294617600000.0, 1270.839966, 1271.52002, 1262.180054, 1269.75], [1294704000000.0, 1272.579956, 1277.25, 1269.619995, 1274.47998], [1294790400000.0, 1275.650024, 1286.869995, 1275.650024, 1285.959961], [1294876800000.0, 1285.780029, 1286.699951, 1280.469971, 1283.76001], [1294963200000.0, 1282.900024, 1293.23999, 1281.23999, 1293.23999], [1295308800000.0, 1293.219971, 1296.060059, 1290.160034, 1295.02002], [1295395200000.0, 1294.52002, 1294.599976, 1278.920044, 1281.920044], [1295481600000.0, 1280.849976, 1283.349976, 1271.26001, 1280.26001], [1295568000000.0, 1283.630005, 1291.209961, 1282.069946, 1283.349976], [1295827200000.0, 1283.290039, 1291.930054, 1282.469971, 1290.839966], [1295913600000.0, 1288.170044, 1291.26001, 1281.069946, 1291.180054], [1296000000000.0, 1291.969971, 1299.73999, 1291.969971, 1296.630005], [1296086400000.0, 1297.51001, 1301.290039, 1294.410034, 1299.540039], [1296172800000.0, 1299.630005, 1302.670044, 1275.099976, 1276.339966], [1296432000000.0, 1276.5, 1287.170044, 1276.5, 1286.119995], [1296518400000.0, 1289.140015, 1308.859985, 1289.140015, 1307.589966], [1296604800000.0, 1305.910034, 1307.609985, 1302.619995, 1304.030029], [1296691200000.0, 1302.77002, 1308.599976, 1294.829956, 1307.099976], [1296777600000.0, 1307.01001, 1311.0, 1301.670044, 1310.869995], [1297036800000.0, 1311.849976, 1322.849976, 1311.849976, 1319.050049], [1297123200000.0, 1318.76001, 1324.869995, 1316.030029, 1324.569946], [1297209600000.0, 1322.47998, 1324.540039, 1314.890015, 1320.880005], [1297296000000.0, 1318.130005, 1322.780029, 1311.73999, 1321.869995], [1297382400000.0, 1318.660034, 1330.790039, 1316.079956, 1329.150024], [1297641600000.0, 1328.72998, 1332.959961, 1326.900024, 1332.319946], [1297728000000.0, 1330.430054, 1330.430054, 1324.609985, 1328.01001], [1297814400000.0, 1329.51001, 1337.609985, 1329.51001, 1336.319946], [1297900800000.0, 1334.369995, 1341.5, 1331.0, 1340.430054], [1297987200000.0, 1340.380005, 1344.069946, 1338.119995, 1343.01001], [1298332800000.0, 1338.910034, 1338.910034, 1312.329956, 1315.439941], [1298419200000.0, 1315.439941, 1317.910034, 1299.550049, 1307.400024], [1298505600000.0, 1307.089966, 1310.910034, 1294.26001, 1306.099976], [1298592000000.0, 1307.339966, 1320.609985, 1307.339966, 1319.880005], [1298851200000.0, 1321.609985, 1329.380005, 1320.550049, 1327.219971], [1298937600000.0, 1328.640015, 1332.089966, 1306.140015, 1306.329956], [1299024000000.0, 1305.469971, 1314.189941, 1302.579956, 1308.439941], [1299110400000.0, 1312.369995, 1332.280029, 1312.369995, 1330.969971], [1299196800000.0, 1330.72998, 1331.079956, 1312.589966, 1321.150024], [1299456000000.0, 1322.719971, 1327.680054, 1303.98999, 1310.130005], [1299542400000.0, 1311.050049, 1325.73999, 1306.859985, 1321.819946], [1299628800000.0, 1319.920044, 1323.209961, 1312.27002, 1320.02002], [1299715200000.0, 1315.719971, 1315.719971, 1294.209961, 1295.109985], [1299801600000.0, 1293.430054, 1308.349976, 1291.98999, 1304.280029], [1300060800000.0, 1301.189941, 1301.189941, 1286.369995, 1296.390015], [1300147200000.0, 1288.459961, 1288.459961, 1261.119995, 1281.869995], [1300233600000.0, 1279.459961, 1280.910034, 1249.050049, 1256.880005], [1300320000000.0, 1261.609985, 1278.880005, 1261.609985, 1273.719971], [1300406400000.0, 1276.709961, 1288.880005, 1276.180054, 1279.209961], [1300665600000.0, 1281.650024, 1300.579956, 1281.650024, 1298.380005], [1300752000000.0, 1298.290039, 1299.349976, 1292.699951, 1293.77002], [1300838400000.0, 1292.189941, 1300.51001, 1284.050049, 1297.540039], [1300924800000.0, 1300.609985, 1311.339966, 1297.73999, 1309.660034], [1301011200000.0, 1311.800049, 1319.180054, 1310.150024, 1313.800049], [1301270400000.0, 1315.449951, 1319.73999, 1310.189941, 1310.189941], [1301356800000.0, 1309.369995, 1319.449951, 1305.26001, 1319.439941], [1301443200000.0, 1321.890015, 1331.73999, 1321.890015, 1328.26001], [1301529600000.0, 1327.439941, 1329.77002, 1325.030029, 1325.829956], [1301616000000.0, 1329.47998, 1337.849976, 1328.890015, 1332.410034], [1301875200000.0, 1333.560059, 1336.73999, 1329.099976, 1332.869995], [1301961600000.0, 1332.030029, 1338.209961, 1330.030029, 1332.630005], [1302048000000.0, 1335.939941, 1339.380005, 1331.089966, 1335.540039], [1302134400000.0, 1334.819946, 1338.800049, 1326.560059, 1333.51001], [1302220800000.0, 1336.160034, 1339.459961, 1322.939941, 1328.170044], [1302480000000.0, 1329.01001, 1333.77002, 1321.060059, 1324.459961], [1302566400000.0, 1321.959961, 1321.959961, 1309.51001, 1314.160034], [1302652800000.0, 1314.030029, 1321.349976, 1309.189941, 1314.410034], [1302739200000.0, 1311.130005, 1316.790039, 1302.420044, 1314.52002], [1302825600000.0, 1314.540039, 1322.880005, 1313.680054, 1319.680054], [1303084800000.0, 1313.349976, 1313.349976, 1294.699951, 1305.140015], [1303171200000.0, 1305.98999, 1312.699951, 1303.969971, 1312.619995], [1303257600000.0, 1319.119995, 1332.660034, 1319.119995, 1330.359985], [1303344000000.0, 1333.22998, 1337.48999, 1332.829956, 1337.380005], [1303689600000.0, 1337.140015, 1337.550049, 1331.469971, 1335.25], [1303776000000.0, 1336.75, 1349.550049, 1336.75, 1347.23999], [1303862400000.0, 1348.430054, 1357.48999, 1344.25, 1355.660034], [1303948800000.0, 1353.859985, 1361.709961, 1353.599976, 1360.47998], [1304035200000.0, 1360.140015, 1364.560059, 1358.689941, 1363.609985], [1304294400000.0, 1365.209961, 1370.579956, 1358.589966, 1361.219971], [1304380800000.0, 1359.76001, 1360.839966, 1349.52002, 1356.619995], [1304467200000.0, 1355.900024, 1355.900024, 1341.5, 1347.319946], [1304553600000.0, 1344.160034, 1348.0, 1329.170044, 1335.099976], [1304640000000.0, 1340.23999, 1354.359985, 1335.579956, 1340.199951], [1304899200000.0, 1340.199951, 1349.439941, 1338.640015, 1346.290039], [1304985600000.0, 1348.339966, 1359.439941, 1348.339966, 1357.160034], [1305072000000.0, 1354.51001, 1354.51001, 1336.359985, 1342.079956], [1305158400000.0, 1339.390015, 1351.050049, 1332.030029, 1348.650024], [1305244800000.0, 1348.689941, 1350.469971, 1333.359985, 1337.77002], [1305504000000.0, 1334.77002, 1343.329956, 1327.319946, 1329.469971], [1305590400000.0, 1326.099976, 1330.420044, 1318.51001, 1328.97998], [1305676800000.0, 1328.540039, 1341.819946, 1326.589966, 1340.680054], [1305763200000.0, 1342.400024, 1346.819946, 1336.359985, 1343.599976], [1305849600000.0, 1342.0, 1342.0, 1330.670044, 1333.27002], [1306108800000.0, 1333.069946, 1333.069946, 1312.880005, 1317.369995], [1306195200000.0, 1317.699951, 1323.719971, 1313.869995, 1316.280029], [1306281600000.0, 1316.359985, 1325.859985, 1311.800049, 1320.469971], [1306368000000.0, 1320.640015, 1328.51001, 1314.410034, 1325.689941], [1306454400000.0, 1325.689941, 1334.619995, 1325.689941, 1331.099976], [1306800000000.0, 1331.099976, 1345.199951, 1331.099976, 1345.199951], [1306886400000.0, 1345.199951, 1345.199951, 1313.709961, 1314.550049], [1306972800000.0, 1314.550049, 1318.030029, 1305.609985, 1312.939941], [1307059200000.0, 1312.939941, 1312.939941, 1297.900024, 1300.160034], [1307318400000.0, 1300.26001, 1300.26001, 1284.719971, 1286.170044], [1307404800000.0, 1286.310059, 1296.219971, 1284.73999, 1284.939941], [1307491200000.0, 1284.630005, 1287.040039, 1277.420044, 1279.560059], [1307577600000.0, 1279.630005, 1294.540039, 1279.630005, 1289.0], [1307664000000.0, 1288.599976, 1288.599976, 1268.280029, 1270.97998], [1307923200000.0, 1271.310059, 1277.040039, 1265.640015, 1271.829956], [1308009600000.0, 1272.219971, 1292.5, 1272.219971, 1287.869995], [1308096000000.0, 1287.869995, 1287.869995, 1261.900024, 1265.420044], [1308182400000.0, 1265.530029, 1274.109985, 1258.069946, 1267.640015], [1308268800000.0, 1268.579956, 1279.819946, 1267.400024, 1271.5], [1308528000000.0, 1271.5, 1280.420044, 1267.560059, 1278.359985], [1308614400000.0, 1278.400024, 1297.619995, 1278.400024, 1295.52002], [1308700800000.0, 1295.47998, 1298.609985, 1286.790039, 1287.140015], [1308787200000.0, 1286.599976, 1286.599976, 1262.869995, 1283.5], [1308873600000.0, 1283.040039, 1283.930054, 1267.23999, 1268.449951], [1309132800000.0, 1268.439941, 1284.910034, 1267.530029, 1280.099976], [1309219200000.0, 1280.209961, 1296.800049, 1280.209961, 1296.670044], [1309305600000.0, 1296.849976, 1309.209961, 1296.849976, 1307.410034], [1309392000000.0, 1307.640015, 1321.969971, 1307.640015, 1320.640015], [1309478400000.0, 1320.640015, 1341.01001, 1318.180054, 1339.670044], [1309824000000.0, 1339.589966, 1340.890015, 1334.300049, 1337.880005], [1309910400000.0, 1337.560059, 1340.939941, 1330.920044, 1339.219971], [1309996800000.0, 1339.619995, 1356.47998, 1339.619995, 1353.219971], [1310083200000.0, 1352.390015, 1352.390015, 1333.709961, 1343.800049], [1310342400000.0, 1343.310059, 1343.310059, 1316.420044, 1319.48999], [1310428800000.0, 1319.609985, 1327.170044, 1313.329956, 1313.640015], [1310515200000.0, 1314.449951, 1331.47998, 1314.449951, 1317.719971], [1310601600000.0, 1317.73999, 1326.880005, 1306.51001, 1308.869995], [1310688000000.0, 1308.869995, 1317.699951, 1307.52002, 1316.140015], [1310947200000.0, 1315.939941, 1315.939941, 1295.920044, 1305.439941], [1311033600000.0, 1307.069946, 1328.140015, 1307.069946, 1326.72998], [1311120000000.0, 1328.660034, 1330.430054, 1323.650024, 1325.839966], [1311206400000.0, 1325.650024, 1347.0, 1325.650024, 1343.800049], [1311292800000.0, 1343.800049, 1346.099976, 1336.949951, 1345.02002], [1311552000000.0, 1344.319946, 1344.319946, 1331.089966, 1337.430054], [1311638400000.0, 1337.390015, 1338.51001, 1329.589966, 1331.939941], [1311724800000.0, 1331.910034, 1331.910034, 1303.48999, 1304.890015], [1311811200000.0, 1304.839966, 1316.319946, 1299.160034, 1300.670044], [1311897600000.0, 1300.119995, 1304.160034, 1282.859985, 1292.280029], [1312156800000.0, 1292.589966, 1307.380005, 1274.72998, 1286.939941], [1312243200000.0, 1286.560059, 1286.560059, 1254.030029, 1254.050049], [1312329600000.0, 1254.25, 1261.199951, 1234.560059, 1260.339966], [1312416000000.0, 1260.22998, 1260.22998, 1199.540039, 1200.069946], [1312502400000.0, 1200.280029, 1218.109985, 1168.089966, 1199.380005], [1312761600000.0, 1198.47998, 1198.47998, 1119.280029, 1119.459961], [1312848000000.0, 1120.22998, 1172.880005, 1101.540039, 1172.530029], [1312934400000.0, 1171.77002, 1171.77002, 1118.01001, 1120.76001], [1313020800000.0, 1121.300049, 1186.290039, 1121.300049, 1172.640015], [1313107200000.0, 1172.869995, 1189.040039, 1170.73999, 1178.810059], [1313366400000.0, 1178.859985, 1204.48999, 1178.859985, 1204.48999], [1313452800000.0, 1204.219971, 1204.219971, 1180.530029, 1192.76001], [1313539200000.0, 1192.890015, 1208.469971, 1184.359985, 1193.890015], [1313625600000.0, 1189.619995, 1189.619995, 1131.030029, 1140.650024], [1313712000000.0, 1140.469971, 1154.540039, 1122.050049, 1123.530029], [1313971200000.0, 1123.550049, 1145.48999, 1121.089966, 1123.819946], [1314057600000.0, 1124.359985, 1162.349976, 1124.359985, 1162.349976], [1314144000000.0, 1162.160034, 1178.560059, 1156.300049, 1177.599976], [1314230400000.0, 1176.689941, 1190.680054, 1155.469971, 1159.27002], [1314316800000.0, 1158.849976, 1181.22998, 1135.910034, 1176.800049], [1314576000000.0, 1177.910034, 1210.280029, 1177.910034, 1210.079956], [1314662400000.0, 1209.76001, 1220.099976, 1195.77002, 1212.920044], [1314748800000.0, 1213.0, 1230.709961, 1209.349976, 1218.890015], [1314835200000.0, 1219.119995, 1229.290039, 1203.849976, 1204.420044], [1314921600000.0, 1203.900024, 1203.900024, 1170.560059, 1173.969971], [1315267200000.0, 1173.969971, 1173.969971, 1140.130005, 1165.23999], [1315353600000.0, 1165.849976, 1198.619995, 1165.849976, 1198.619995], [1315440000000.0, 1197.97998, 1204.400024, 1183.339966, 1185.900024], [1315526400000.0, 1185.369995, 1185.369995, 1148.369995, 1154.22998], [1315785600000.0, 1153.5, 1162.52002, 1136.069946, 1162.27002], [1315872000000.0, 1162.589966, 1176.410034, 1157.439941, 1172.869995], [1315958400000.0, 1173.319946, 1202.380005, 1162.72998, 1188.680054], [1316044800000.0, 1189.439941, 1209.109985, 1189.439941, 1209.109985], [1316131200000.0, 1209.209961, 1220.060059, 1204.459961, 1216.01001], [1316390400000.0, 1214.98999, 1214.98999, 1188.359985, 1204.089966], [1316476800000.0, 1204.5, 1220.390015, 1201.290039, 1202.089966], [1316563200000.0, 1203.630005, 1206.300049, 1166.209961, 1166.76001], [1316649600000.0, 1164.550049, 1164.550049, 1114.219971, 1129.560059], [1316736000000.0, 1128.819946, 1141.719971, 1121.359985, 1136.430054], [1316995200000.0, 1136.910034, 1164.189941, 1131.069946, 1162.949951], [1317081600000.0, 1163.319946, 1195.859985, 1163.319946, 1175.380005], [1317168000000.0, 1175.390015, 1184.709961, 1150.400024, 1151.060059], [1317254400000.0, 1151.73999, 1175.869995, 1139.930054, 1160.400024], [1317340800000.0, 1159.930054, 1159.930054, 1131.339966, 1131.420044], [1317600000000.0, 1131.209961, 1138.98999, 1098.920044, 1099.22998], [1317686400000.0, 1097.420044, 1125.119995, 1074.77002, 1123.949951], [1317772800000.0, 1124.030029, 1146.069946, 1115.680054, 1144.030029], [1317859200000.0, 1144.109985, 1165.550049, 1134.949951, 1164.969971], [1317945600000.0, 1165.030029, 1171.400024, 1150.26001, 1155.459961], [1318204800000.0, 1158.150024, 1194.910034, 1158.150024, 1194.890015], [1318291200000.0, 1194.599976, 1199.23999, 1187.300049, 1195.540039], [1318377600000.0, 1196.189941, 1220.25, 1196.189941, 1207.25], [1318464000000.0, 1206.959961, 1207.459961, 1190.579956, 1203.660034], [1318550400000.0, 1205.650024, 1224.609985, 1205.650024, 1224.579956], [1318809600000.0, 1224.469971, 1224.469971, 1198.550049, 1200.859985], [1318896000000.0, 1200.75, 1233.099976, 1191.47998, 1225.380005], [1318982400000.0, 1223.459961, 1229.640015, 1206.310059, 1209.880005], [1319068800000.0, 1209.920044, 1219.530029, 1197.339966, 1215.390015], [1319155200000.0, 1215.390015, 1239.030029, 1215.390015, 1238.25], [1319414400000.0, 1238.719971, 1256.550049, 1238.719971, 1254.189941], [1319500800000.0, 1254.189941, 1254.189941, 1226.790039, 1229.050049], [1319587200000.0, 1229.170044, 1246.280029, 1221.060059, 1242.0], [1319673600000.0, 1243.969971, 1292.660034, 1243.969971, 1284.589966], [1319760000000.0, 1284.390015, 1287.079956, 1277.01001, 1285.089966], [1320019200000.0, 1284.959961, 1284.959961, 1253.160034, 1253.300049], [1320105600000.0, 1251.0, 1251.0, 1215.420044, 1218.280029], [1320192000000.0, 1219.619995, 1242.47998, 1219.619995, 1237.900024], [1320278400000.0, 1238.25, 1263.209961, 1234.810059, 1261.150024], [1320364800000.0, 1260.819946, 1260.819946, 1238.920044, 1253.22998], [1320624000000.0, 1253.209961, 1261.699951, 1240.75, 1261.119995], [1320710400000.0, 1261.119995, 1277.550049, 1254.98999, 1275.920044], [1320796800000.0, 1275.180054, 1275.180054, 1226.640015, 1229.099976], [1320883200000.0, 1229.589966, 1246.219971, 1227.699951, 1239.699951], [1320969600000.0, 1240.119995, 1266.97998, 1240.119995, 1263.849976], [1321228800000.0, 1263.849976, 1263.849976, 1246.680054, 1251.780029], [1321315200000.0, 1251.699951, 1264.25, 1244.339966, 1257.810059], [1321401600000.0, 1257.810059, 1259.609985, 1235.670044, 1236.910034], [1321488000000.0, 1236.560059, 1237.72998, 1209.430054, 1216.130005], [1321574400000.0, 1216.189941, 1223.51001, 1211.359985, 1215.650024], [1321833600000.0, 1215.619995, 1215.619995, 1183.160034, 1192.97998], [1321920000000.0, 1192.97998, 1196.810059, 1181.650024, 1188.040039], [1322006400000.0, 1187.47998, 1187.47998, 1161.790039, 1161.790039], [1322179200000.0, 1161.410034, 1172.660034, 1158.660034, 1158.670044], [1322438400000.0, 1158.670044, 1197.349976, 1158.670044, 1192.550049], [1322524800000.0, 1192.560059, 1203.670044, 1191.800049, 1195.189941], [1322611200000.0, 1196.719971, 1247.109985, 1196.719971, 1246.959961], [1322697600000.0, 1246.910034, 1251.089966, 1239.72998, 1244.579956], [1322784000000.0, 1246.030029, 1260.079956, 1243.349976, 1244.280029], [1323043200000.0, 1244.329956, 1266.72998, 1244.329956, 1257.079956], [1323129600000.0, 1257.189941, 1266.030029, 1253.030029, 1258.469971], [1323216000000.0, 1258.140015, 1267.060059, 1244.800049, 1261.01001], [1323302400000.0, 1260.869995, 1260.869995, 1231.469971, 1234.349976], [1323388800000.0, 1234.47998, 1258.25, 1234.47998, 1255.189941], [1323648000000.0, 1255.050049, 1255.050049, 1227.25, 1236.469971], [1323734400000.0, 1236.829956, 1249.859985, 1219.430054, 1225.72998], [1323820800000.0, 1225.72998, 1225.72998, 1209.469971, 1211.819946], [1323907200000.0, 1212.119995, 1225.599976, 1212.119995, 1215.75], [1323993600000.0, 1216.089966, 1231.040039, 1215.199951, 1219.660034], [1324252800000.0, 1219.73999, 1224.569946, 1202.369995, 1205.349976], [1324339200000.0, 1205.719971, 1242.819946, 1205.719971, 1241.300049], [1324425600000.0, 1241.25, 1245.089966, 1229.51001, 1243.719971], [1324512000000.0, 1243.719971, 1255.219971, 1243.719971, 1254.0], [1324598400000.0, 1254.0, 1265.420044, 1254.0, 1265.329956], [1324944000000.0, 1265.02002, 1269.369995, 1262.300049, 1265.430054], [1325030400000.0, 1265.380005, 1265.849976, 1248.640015, 1249.640015], [1325116800000.0, 1249.75, 1263.540039, 1249.75, 1263.02002], [1325203200000.0, 1262.819946, 1264.119995, 1257.459961, 1257.599976], [1325548800000.0, 1258.859985, 1284.619995, 1258.859985, 1277.060059], [1325635200000.0, 1277.030029, 1278.72998, 1268.099976, 1277.300049], [1325721600000.0, 1277.300049, 1283.050049, 1265.26001, 1281.060059], [1325808000000.0, 1280.930054, 1281.839966, 1273.339966, 1277.810059], [1326067200000.0, 1277.829956, 1281.98999, 1274.550049, 1280.699951], [1326153600000.0, 1280.77002, 1296.459961, 1280.77002, 1292.079956], [1326240000000.0, 1292.02002, 1293.800049, 1285.410034, 1292.47998], [1326326400000.0, 1292.47998, 1296.819946, 1285.77002, 1295.5], [1326412800000.0, 1294.819946, 1294.819946, 1277.579956, 1289.089966], [1326758400000.0, 1290.219971, 1303.0, 1290.219971, 1293.670044], [1326844800000.0, 1293.650024, 1308.109985, 1290.98999, 1308.040039], [1326931200000.0, 1308.069946, 1315.48999, 1308.069946, 1314.5], [1327017600000.0, 1314.48999, 1315.380005, 1309.170044, 1315.380005], [1327276800000.0, 1315.290039, 1322.280029, 1309.890015, 1316.0], [1327363200000.0, 1315.959961, 1315.959961, 1306.060059, 1314.650024], [1327449600000.0, 1314.400024, 1328.300049, 1307.650024, 1326.060059], [1327536000000.0, 1326.280029, 1333.469971, 1313.599976, 1318.430054], [1327622400000.0, 1318.25, 1320.060059, 1311.719971, 1316.329956], [1327881600000.0, 1316.160034, 1316.160034, 1300.48999, 1313.01001], [1327968000000.0, 1313.530029, 1321.410034, 1306.689941, 1312.410034], [1328054400000.0, 1312.449951, 1330.52002, 1312.449951, 1324.089966], [1328140800000.0, 1324.23999, 1329.189941, 1321.569946, 1325.540039], [1328227200000.0, 1326.209961, 1345.339966, 1326.209961, 1344.900024], [1328486400000.0, 1344.319946, 1344.359985, 1337.52002, 1344.329956], [1328572800000.0, 1344.329956, 1349.23999, 1335.920044, 1347.050049], [1328659200000.0, 1347.040039, 1351.0, 1341.949951, 1349.959961], [1328745600000.0, 1349.969971, 1354.319946, 1344.630005, 1351.949951], [1328832000000.0, 1351.209961, 1351.209961, 1337.349976, 1342.640015], [1329091200000.0, 1343.060059, 1353.349976, 1343.060059, 1351.77002], [1329177600000.0, 1351.300049, 1351.300049, 1340.829956, 1350.5], [1329264000000.0, 1350.52002, 1355.869995, 1340.800049, 1343.22998], [1329350400000.0, 1342.609985, 1359.02002, 1341.219971, 1358.040039], [1329436800000.0, 1358.060059, 1363.400024, 1357.23999, 1361.22998], [1329782400000.0, 1361.219971, 1367.76001, 1358.109985, 1362.209961], [1329868800000.0, 1362.109985, 1362.699951, 1355.530029, 1357.660034], [1329955200000.0, 1357.530029, 1364.23999, 1352.280029, 1363.459961], [1330041600000.0, 1363.459961, 1368.920044, 1363.459961, 1365.73999], [1330300800000.0, 1365.199951, 1371.939941, 1354.920044, 1367.589966], [1330387200000.0, 1367.560059, 1373.089966, 1365.969971, 1372.180054], [1330473600000.0, 1372.199951, 1378.040039, 1363.810059, 1365.680054], [1330560000000.0, 1365.900024, 1376.170044, 1365.900024, 1374.089966], [1330646400000.0, 1374.089966, 1374.530029, 1366.420044, 1369.630005], [1330905600000.0, 1369.589966, 1369.589966, 1359.130005, 1364.329956], [1330992000000.0, 1363.630005, 1363.630005, 1340.030029, 1343.359985], [1331078400000.0, 1343.390015, 1354.849976, 1343.390015, 1352.630005], [1331164800000.0, 1352.650024, 1368.719971, 1352.650024, 1365.910034], [1331251200000.0, 1365.969971, 1374.76001, 1365.969971, 1370.869995], [1331510400000.0, 1370.780029, 1373.040039, 1366.689941, 1371.089966], [1331596800000.0, 1371.920044, 1396.130005, 1371.920044, 1395.949951], [1331683200000.0, 1395.949951, 1399.420044, 1389.969971, 1394.280029], [1331769600000.0, 1394.170044, 1402.630005, 1392.780029, 1402.599976], [1331856000000.0, 1402.550049, 1405.880005, 1401.469971, 1404.170044], [1332115200000.0, 1404.170044, 1414.0, 1402.430054, 1409.75], [1332201600000.0, 1409.589966, 1409.589966, 1397.680054, 1405.52002], [1332288000000.0, 1405.52002, 1407.75, 1400.640015, 1402.890015], [1332374400000.0, 1402.890015, 1402.890015, 1388.72998, 1392.780029], [1332460800000.0, 1392.780029, 1399.180054, 1386.869995, 1397.109985], [1332720000000.0, 1397.109985, 1416.579956, 1397.109985, 1416.51001], [1332806400000.0, 1416.550049, 1419.150024, 1411.949951, 1412.52002], [1332892800000.0, 1412.52002, 1413.650024, 1397.199951, 1405.540039], [1332979200000.0, 1405.390015, 1405.390015, 1391.560059, 1403.280029], [1333065600000.0, 1403.310059, 1410.890015, 1401.420044, 1408.469971], [1333324800000.0, 1408.469971, 1422.380005, 1404.459961, 1419.040039], [1333411200000.0, 1418.97998, 1419.0, 1404.619995, 1413.380005], [1333497600000.0, 1413.089966, 1413.089966, 1394.089966, 1398.959961], [1333584000000.0, 1398.790039, 1401.599976, 1392.920044, 1398.079956], [1333929600000.0, 1397.449951, 1397.449951, 1378.23999, 1382.199951], [1334016000000.0, 1382.180054, 1383.01001, 1357.380005, 1358.589966], [1334102400000.0, 1358.97998, 1374.709961, 1358.97998, 1368.709961], [1334188800000.0, 1368.77002, 1388.130005, 1368.77002, 1387.569946], [1334275200000.0, 1387.609985, 1387.609985, 1369.849976, 1370.26001], [1334534400000.0, 1370.27002, 1379.660034, 1365.380005, 1369.569946], [1334620800000.0, 1369.569946, 1392.76001, 1369.569946, 1390.780029], [1334707200000.0, 1390.780029, 1390.780029, 1383.290039, 1385.140015], [1334793600000.0, 1385.079956, 1390.459961, 1370.300049, 1376.920044], [1334880000000.0, 1376.959961, 1387.400024, 1376.959961, 1378.530029], [1335139200000.0, 1378.530029, 1378.530029, 1358.790039, 1366.939941], [1335225600000.0, 1366.969971, 1375.569946, 1366.819946, 1371.969971], [1335312000000.0, 1372.109985, 1391.369995, 1372.109985, 1390.689941], [1335398400000.0, 1390.640015, 1402.089966, 1387.280029, 1399.97998], [1335484800000.0, 1400.189941, 1406.640015, 1397.310059, 1403.359985], [1335744000000.0, 1403.26001, 1403.26001, 1394.0, 1397.910034], [1335830400000.0, 1397.859985, 1415.319946, 1395.72998, 1405.819946], [1335916800000.0, 1405.5, 1405.5, 1393.920044, 1402.310059], [1336003200000.0, 1402.319946, 1403.069946, 1388.709961, 1391.569946], [1336089600000.0, 1391.51001, 1391.51001, 1367.959961, 1369.099976], [1336348800000.0, 1368.790039, 1373.910034, 1363.939941, 1369.579956], [1336435200000.0, 1369.160034, 1369.160034, 1347.75, 1363.719971], [1336521600000.0, 1363.199951, 1363.72998, 1343.130005, 1354.579956], [1336608000000.0, 1354.579956, 1365.880005, 1354.579956, 1357.98999], [1336694400000.0, 1358.109985, 1365.660034, 1348.890015, 1353.390015], [1336953600000.0, 1351.930054, 1351.930054, 1336.609985, 1338.349976], [1337040000000.0, 1338.359985, 1344.939941, 1328.410034, 1330.660034], [1337126400000.0, 1330.780029, 1341.780029, 1324.790039, 1324.800049], [1337212800000.0, 1324.819946, 1326.359985, 1304.859985, 1304.859985], [1337299200000.0, 1305.050049, 1312.23999, 1291.97998, 1295.219971], [1337558400000.0, 1295.72998, 1316.390015, 1295.72998, 1315.98999], [1337644800000.0, 1316.089966, 1328.48999, 1310.040039, 1316.630005], [1337731200000.0, 1316.02002, 1320.709961, 1296.530029, 1318.859985], [1337817600000.0, 1318.719971, 1324.140015, 1310.5, 1320.680054], [1337904000000.0, 1320.810059, 1324.199951, 1314.22998, 1317.819946], [1338249600000.0, 1318.900024, 1334.930054, 1318.900024, 1332.420044], [1338336000000.0, 1331.25, 1331.25, 1310.76001, 1313.319946], [1338422400000.0, 1313.089966, 1319.73999, 1298.900024, 1310.329956], [1338508800000.0, 1309.869995, 1309.869995, 1277.25, 1278.040039], [1338768000000.0, 1278.290039, 1282.550049, 1266.73999, 1278.180054], [1338854400000.0, 1277.819946, 1287.619995, 1274.160034, 1285.5], [1338940800000.0, 1285.609985, 1315.130005, 1285.609985, 1315.130005], [1339027200000.0, 1316.150024, 1329.050049, 1312.680054, 1314.98999], [1339113600000.0, 1314.98999, 1325.810059, 1307.77002, 1325.660034], [1339372800000.0, 1325.719971, 1335.52002, 1307.72998, 1308.930054], [1339459200000.0, 1309.400024, 1324.310059, 1306.619995, 1324.180054], [1339545600000.0, 1324.02002, 1327.280029, 1310.51001, 1314.880005], [1339632000000.0, 1314.880005, 1333.680054, 1314.140015, 1329.099976], [1339718400000.0, 1329.189941, 1343.319946, 1329.189941, 1342.839966], [1339977600000.0, 1342.420044, 1348.219971, 1334.459961, 1344.780029], [1340064000000.0, 1344.829956, 1363.459961, 1344.829956, 1357.97998], [1340150400000.0, 1358.040039, 1361.569946, 1346.449951, 1355.689941], [1340236800000.0, 1355.430054, 1358.27002, 1324.410034, 1325.51001], [1340323200000.0, 1325.920044, 1337.819946, 1325.920044, 1335.02002], [1340582400000.0, 1334.900024, 1334.900024, 1309.27002, 1313.719971], [1340668800000.0, 1314.089966, 1324.23999, 1310.300049, 1319.98999], [1340755200000.0, 1320.709961, 1334.400024, 1320.709961, 1331.849976], [1340841600000.0, 1331.52002, 1331.52002, 1313.290039, 1329.040039], [1340928000000.0, 1330.119995, 1362.170044, 1330.119995, 1362.160034], [1341187200000.0, 1362.329956, 1366.349976, 1355.699951, 1365.51001], [1341273600000.0, 1365.75, 1374.810059, 1363.530029, 1374.02002], [1341446400000.0, 1373.719971, 1373.849976, 1363.02002, 1367.579956], [1341532800000.0, 1367.089966, 1367.089966, 1348.030029, 1354.680054], [1341792000000.0, 1354.660034, 1354.869995, 1346.650024, 1352.459961], [1341878400000.0, 1352.959961, 1361.540039, 1336.27002, 1341.469971], [1341964800000.0, 1341.400024, 1345.0, 1333.25, 1341.449951], [1342051200000.0, 1341.290039, 1341.290039, 1325.410034, 1334.76001], [1342137600000.0, 1334.810059, 1357.699951, 1334.810059, 1356.780029], [1342396800000.0, 1356.5, 1357.26001, 1348.51001, 1353.640015], [1342483200000.0, 1353.680054, 1365.359985, 1345.069946, 1363.670044], [1342569600000.0, 1363.579956, 1375.26001, 1358.959961, 1372.780029], [1342656000000.0, 1373.01001, 1380.390015, 1371.209961, 1376.51001], [1342742400000.0, 1376.51001, 1376.51001, 1362.189941, 1362.660034], [1343001600000.0, 1362.339966, 1362.339966, 1337.560059, 1350.52002], [1343088000000.0, 1350.52002, 1351.530029, 1329.23999, 1338.310059], [1343174400000.0, 1338.349976, 1343.97998, 1331.5, 1337.890015], [1343260800000.0, 1338.170044, 1363.130005, 1338.170044, 1360.02002], [1343347200000.0, 1360.050049, 1389.189941, 1360.050049, 1385.969971], [1343606400000.0, 1385.939941, 1391.73999, 1381.369995, 1385.300049], [1343692800000.0, 1385.27002, 1387.160034, 1379.170044, 1379.319946], [1343779200000.0, 1379.319946, 1385.030029, 1373.349976, 1375.319946], [1343865600000.0, 1375.130005, 1375.130005, 1354.650024, 1365.0], [1343952000000.0, 1365.449951, 1394.160034, 1365.449951, 1390.98999], [1344211200000.0, 1391.040039, 1399.630005, 1391.040039, 1394.22998], [1344297600000.0, 1394.459961, 1407.140015, 1394.459961, 1401.349976], [1344384000000.0, 1401.22998, 1404.140015, 1396.130005, 1402.219971], [1344470400000.0, 1402.26001, 1405.949951, 1398.800049, 1402.800049], [1344556800000.0, 1402.579956, 1405.97998, 1395.619995, 1405.869995], [1344816000000.0, 1405.869995, 1405.869995, 1397.319946, 1404.109985], [1344902400000.0, 1404.359985, 1410.030029, 1400.599976, 1403.930054], [1344988800000.0, 1403.890015, 1407.72998, 1401.829956, 1405.530029], [1345075200000.0, 1405.569946, 1417.439941, 1404.150024, 1415.51001], [1345161600000.0, 1415.839966, 1418.709961, 1414.670044, 1418.160034], [1345420800000.0, 1417.849976, 1418.130005, 1412.119995, 1418.130005], [1345507200000.0, 1418.130005, 1426.680054, 1410.859985, 1413.170044], [1345593600000.0, 1413.089966, 1416.119995, 1406.780029, 1413.48999], [1345680000000.0, 1413.48999, 1413.48999, 1400.5, 1402.079956], [1345766400000.0, 1401.98999, 1413.459961, 1398.040039, 1411.130005], [1346025600000.0, 1411.130005, 1416.170044, 1409.109985, 1410.439941], [1346112000000.0, 1410.439941, 1413.630005, 1405.589966, 1409.300049], [1346198400000.0, 1409.319946, 1413.949951, 1406.569946, 1410.48999], [1346284800000.0, 1410.079956, 1410.079956, 1397.01001, 1399.47998], [1346371200000.0, 1400.069946, 1413.089966, 1398.959961, 1406.579956], [1346716800000.0, 1406.540039, 1409.310059, 1396.560059, 1404.939941], [1346803200000.0, 1404.939941, 1408.810059, 1401.25, 1403.439941], [1346889600000.0, 1403.73999, 1432.119995, 1403.73999, 1432.119995], [1346976000000.0, 1432.119995, 1437.920044, 1431.449951, 1437.920044], [1347235200000.0, 1437.920044, 1438.73999, 1428.97998, 1429.079956], [1347321600000.0, 1429.130005, 1437.76001, 1429.130005, 1433.560059], [1347408000000.0, 1433.560059, 1439.150024, 1432.98999, 1436.560059], [1347494400000.0, 1436.560059, 1463.76001, 1435.339966, 1459.98999], [1347580800000.0, 1460.069946, 1474.51001, 1460.069946, 1465.77002], [1347840000000.0, 1465.420044, 1465.630005, 1457.550049, 1461.189941], [1347926400000.0, 1461.189941, 1461.469971, 1456.130005, 1459.319946], [1348012800000.0, 1459.5, 1465.150024, 1457.880005, 1461.050049], [1348099200000.0, 1461.050049, 1461.22998, 1449.97998, 1460.26001], [1348185600000.0, 1460.339966, 1467.069946, 1459.51001, 1460.150024], [1348444800000.0, 1459.76001, 1460.719971, 1452.060059, 1456.890015], [1348531200000.0, 1456.939941, 1463.23999, 1441.589966, 1441.589966], [1348617600000.0, 1441.599976, 1441.599976, 1430.530029, 1433.319946], [1348704000000.0, 1433.359985, 1450.199951, 1433.359985, 1447.150024], [1348790400000.0, 1447.130005, 1447.130005, 1435.599976, 1440.670044], [1349049600000.0, 1440.900024, 1457.140015, 1440.900024, 1444.48999], [1349136000000.0, 1444.98999, 1451.52002, 1439.01001, 1445.75], [1349222400000.0, 1446.050049, 1454.300049, 1441.98999, 1450.98999], [1349308800000.0, 1451.079956, 1463.140015, 1451.079956, 1461.400024], [1349395200000.0, 1461.400024, 1470.959961, 1456.890015, 1460.930054], [1349654400000.0, 1460.930054, 1460.930054, 1453.099976, 1455.880005], [1349740800000.0, 1455.900024, 1455.900024, 1441.180054, 1441.47998], [1349827200000.0, 1441.47998, 1442.52002, 1430.640015, 1432.560059], [1349913600000.0, 1432.819946, 1443.900024, 1432.819946, 1432.839966], [1350000000000.0, 1432.839966, 1438.430054, 1425.530029, 1428.589966], [1350259200000.0, 1428.75, 1441.310059, 1427.23999, 1440.130005], [1350345600000.0, 1440.310059, 1455.51001, 1440.310059, 1454.920044], [1350432000000.0, 1454.219971, 1462.199951, 1453.349976, 1460.910034], [1350518400000.0, 1460.939941, 1464.02002, 1452.630005, 1457.339966], [1350604800000.0, 1457.339966, 1457.339966, 1429.849976, 1433.189941], [1350864000000.0, 1433.209961, 1435.459961, 1422.060059, 1433.819946], [1350950400000.0, 1433.73999, 1433.73999, 1407.560059, 1413.109985], [1351036800000.0, 1413.199951, 1420.040039, 1407.099976, 1408.75], [1351123200000.0, 1409.73999, 1421.119995, 1405.140015, 1412.969971], [1351209600000.0, 1412.969971, 1417.089966, 1403.280029, 1411.939941], [1351641600000.0, 1410.98999, 1418.76001, 1405.949951, 1412.160034], [1351728000000.0, 1412.199951, 1428.349976, 1412.199951, 1427.589966], [1351814400000.0, 1427.589966, 1434.27002, 1412.910034, 1414.199951], [1352073600000.0, 1414.02002, 1419.900024, 1408.130005, 1417.26001], [1352160000000.0, 1417.26001, 1433.380005, 1417.26001, 1428.390015], [1352246400000.0, 1428.27002, 1428.27002, 1388.140015, 1394.530029], [1352332800000.0, 1394.530029, 1401.22998, 1377.51001, 1377.51001], [1352419200000.0, 1377.550049, 1391.390015, 1373.030029, 1379.849976], [1352678400000.0, 1379.859985, 1384.869995, 1377.189941, 1380.030029], [1352764800000.0, 1380.030029, 1388.810059, 1371.390015, 1374.530029], [1352851200000.0, 1374.640015, 1380.130005, 1352.5, 1355.48999], [1352937600000.0, 1355.410034, 1360.619995, 1348.050049, 1353.329956], [1353024000000.0, 1353.359985, 1362.030029, 1343.349976, 1359.880005], [1353283200000.0, 1359.880005, 1386.890015, 1359.880005, 1386.890015], [1353369600000.0, 1386.819946, 1389.77002, 1377.040039, 1387.810059], [1353456000000.0, 1387.790039, 1391.25, 1386.390015, 1391.030029], [1353628800000.0, 1391.030029, 1409.160034, 1391.030029, 1409.150024], [1353888000000.0, 1409.150024, 1409.150024, 1397.680054, 1406.290039], [1353974400000.0, 1406.290039, 1409.01001, 1398.030029, 1398.939941], [1354060800000.0, 1398.77002, 1410.310059, 1385.430054, 1409.930054], [1354147200000.0, 1409.959961, 1419.699951, 1409.040039, 1415.949951], [1354233600000.0, 1415.949951, 1418.859985, 1411.630005, 1416.180054], [1354492800000.0, 1416.339966, 1423.72998, 1408.459961, 1409.459961], [1354579200000.0, 1409.459961, 1413.140015, 1403.650024, 1407.050049], [1354665600000.0, 1407.050049, 1415.560059, 1398.22998, 1409.280029], [1354752000000.0, 1409.430054, 1413.949951, 1405.930054, 1413.939941], [1354838400000.0, 1413.949951, 1420.339966, 1410.900024, 1418.069946], [1355097600000.0, 1418.069946, 1421.640015, 1415.640015, 1418.550049], [1355184000000.0, 1418.550049, 1434.27002, 1418.550049, 1427.839966], [1355270400000.0, 1427.839966, 1438.589966, 1426.76001, 1428.47998], [1355356800000.0, 1428.47998, 1431.359985, 1416.0, 1419.449951], [1355443200000.0, 1419.449951, 1419.449951, 1411.880005, 1413.579956], [1355702400000.0, 1413.540039, 1430.670044, 1413.540039, 1430.359985], [1355788800000.0, 1430.469971, 1448.0, 1430.469971, 1446.790039], [1355875200000.0, 1446.790039, 1447.75, 1435.800049, 1435.810059], [1355961600000.0, 1435.810059, 1443.699951, 1432.819946, 1443.689941], [1356048000000.0, 1443.670044, 1443.670044, 1422.579956, 1430.150024], [1356307200000.0, 1430.150024, 1430.150024, 1424.660034, 1426.660034], [1356480000000.0, 1426.660034, 1429.420044, 1416.430054, 1419.829956], [1356566400000.0, 1419.829956, 1422.800049, 1401.800049, 1418.099976], [1356652800000.0, 1418.099976, 1418.099976, 1401.579956, 1402.430054], [1356912000000.0, 1402.430054, 1426.73999, 1398.109985, 1426.189941], [1357084800000.0, 1426.189941, 1462.430054, 1426.189941, 1462.420044], [1357171200000.0, 1462.420044, 1465.469971, 1455.530029, 1459.369995], [1357257600000.0, 1459.369995, 1467.939941, 1458.98999, 1466.469971], [1357516800000.0, 1466.469971, 1466.469971, 1456.619995, 1461.890015], [1357603200000.0, 1461.890015, 1461.890015, 1451.640015, 1457.150024], [1357689600000.0, 1457.150024, 1464.72998, 1457.150024, 1461.02002], [1357776000000.0, 1461.02002, 1472.300049, 1461.02002, 1472.119995], [1357862400000.0, 1472.119995, 1472.75, 1467.579956, 1472.050049], [1358121600000.0, 1472.050049, 1472.050049, 1465.689941, 1470.680054], [1358208000000.0, 1470.670044, 1473.310059, 1463.76001, 1472.339966], [1358294400000.0, 1472.329956, 1473.959961, 1467.599976, 1472.630005], [1358380800000.0, 1472.630005, 1485.160034, 1472.630005, 1480.939941], [1358467200000.0, 1480.949951, 1485.97998, 1475.810059, 1485.97998], [1358812800000.0, 1485.97998, 1492.560059, 1481.160034, 1492.560059], [1358899200000.0, 1492.560059, 1496.130005, 1489.900024, 1494.810059], [1358985600000.0, 1494.810059, 1502.27002, 1489.459961, 1494.819946], [1359072000000.0, 1494.819946, 1503.26001, 1494.819946, 1502.959961], [1359331200000.0, 1502.959961, 1503.22998, 1496.329956, 1500.180054], [1359417600000.0, 1500.180054, 1509.349976, 1498.089966, 1507.839966], [1359504000000.0, 1507.839966, 1509.939941, 1500.109985, 1501.959961], [1359590400000.0, 1501.959961, 1504.189941, 1496.76001, 1498.109985], [1359676800000.0, 1498.109985, 1514.410034, 1498.109985, 1513.170044], [1359936000000.0, 1513.170044, 1513.170044, 1495.02002, 1495.709961], [1360022400000.0, 1495.709961, 1514.959961, 1495.709961, 1511.290039], [1360108800000.0, 1511.290039, 1512.530029, 1504.709961, 1512.119995], [1360195200000.0, 1512.119995, 1512.900024, 1498.48999, 1509.390015], [1360281600000.0, 1509.390015, 1518.310059, 1509.390015, 1517.930054], [1360540800000.0, 1517.930054, 1518.310059, 1513.609985, 1517.01001], [1360627200000.0, 1517.01001, 1522.290039, 1515.609985, 1519.430054], [1360713600000.0, 1519.430054, 1524.689941, 1515.930054, 1520.329956], [1360800000000.0, 1520.329956, 1523.140015, 1514.02002, 1521.380005], [1360886400000.0, 1521.380005, 1524.23999, 1514.140015, 1519.790039], [1361232000000.0, 1519.790039, 1530.939941, 1519.790039, 1530.939941], [1361318400000.0, 1530.939941, 1530.939941, 1511.410034, 1511.949951], [1361404800000.0, 1511.949951, 1511.949951, 1497.290039, 1502.420044], [1361491200000.0, 1502.420044, 1515.640015, 1502.420044, 1515.599976], [1361750400000.0, 1515.599976, 1525.839966, 1487.849976, 1487.849976], [1361836800000.0, 1487.849976, 1498.98999, 1485.01001, 1496.939941], [1361923200000.0, 1496.939941, 1520.079956, 1494.880005, 1515.98999], [1362009600000.0, 1515.98999, 1525.339966, 1514.459961, 1514.680054], [1362096000000.0, 1514.680054, 1519.98999, 1501.47998, 1518.199951], [1362355200000.0, 1518.199951, 1525.27002, 1512.290039, 1525.199951], [1362441600000.0, 1525.199951, 1543.469971, 1525.199951, 1539.790039], [1362528000000.0, 1539.790039, 1545.25, 1538.109985, 1541.459961], [1362614400000.0, 1541.459961, 1545.780029, 1541.459961, 1544.26001], [1362700800000.0, 1544.26001, 1552.47998, 1542.939941, 1551.180054], [1362960000000.0, 1551.150024, 1556.27002, 1547.359985, 1556.219971], [1363046400000.0, 1556.219971, 1556.77002, 1548.23999, 1552.47998], [1363132800000.0, 1552.47998, 1556.390015, 1548.25, 1554.52002], [1363219200000.0, 1554.52002, 1563.319946, 1554.52002, 1563.22998], [1363305600000.0, 1563.209961, 1563.619995, 1555.73999, 1560.699951], [1363564800000.0, 1560.699951, 1560.699951, 1545.130005, 1552.099976], [1363651200000.0, 1552.099976, 1557.25, 1538.569946, 1548.339966], [1363737600000.0, 1548.339966, 1561.560059, 1548.339966, 1558.709961], [1363824000000.0, 1558.709961, 1558.709961, 1543.550049, 1545.800049], [1363910400000.0, 1545.900024, 1557.73999, 1545.900024, 1556.890015], [1364169600000.0, 1556.890015, 1564.910034, 1546.219971, 1551.689941], [1364256000000.0, 1551.689941, 1563.949951, 1551.689941, 1563.77002], [1364342400000.0, 1563.75, 1564.069946, 1551.900024, 1562.849976], [1364428800000.0, 1562.859985, 1570.280029, 1561.079956, 1569.189941], [1364774400000.0, 1569.180054, 1570.569946, 1558.469971, 1562.170044], [1364860800000.0, 1562.170044, 1573.660034, 1562.170044, 1570.25], [1364947200000.0, 1570.25, 1571.469971, 1549.800049, 1553.689941], [1365033600000.0, 1553.689941, 1562.599976, 1552.52002, 1559.97998], [1365120000000.0, 1559.97998, 1559.97998, 1539.5, 1553.280029], [1365379200000.0, 1553.26001, 1563.069946, 1548.630005, 1563.069946], [1365465600000.0, 1563.109985, 1573.890015, 1560.920044, 1568.609985], [1365552000000.0, 1568.609985, 1589.069946, 1568.609985, 1587.72998], [1365638400000.0, 1587.72998, 1597.349976, 1586.170044, 1593.369995], [1365724800000.0, 1593.300049, 1593.300049, 1579.969971, 1588.849976], [1365984000000.0, 1588.839966, 1588.839966, 1552.280029, 1552.359985], [1366070400000.0, 1552.359985, 1575.349976, 1552.359985, 1574.569946], [1366156800000.0, 1574.569946, 1574.569946, 1543.689941, 1552.01001], [1366243200000.0, 1552.030029, 1554.380005, 1536.030029, 1541.609985], [1366329600000.0, 1541.609985, 1555.890015, 1539.400024, 1555.25], [1366588800000.0, 1555.25, 1565.550049, 1548.189941, 1562.5], [1366675200000.0, 1562.5, 1579.579956, 1562.5, 1578.780029], [1366761600000.0, 1578.780029, 1583.0, 1575.800049, 1578.790039], [1366848000000.0, 1578.930054, 1592.640015, 1578.930054, 1585.160034], [1366934400000.0, 1585.160034, 1585.780029, 1577.560059, 1582.23999], [1367193600000.0, 1582.339966, 1596.650024, 1582.339966, 1593.609985], [1367280000000.0, 1593.579956, 1597.569946, 1586.5, 1597.569946], [1367366400000.0, 1597.550049, 1597.550049, 1581.280029, 1582.699951], [1367452800000.0, 1582.77002, 1598.599976, 1582.77002, 1597.589966], [1367539200000.0, 1597.599976, 1618.459961, 1597.599976, 1614.420044], [1367798400000.0, 1614.400024, 1619.77002, 1614.209961, 1617.5], [1367884800000.0, 1617.550049, 1626.030029, 1616.640015, 1625.959961], [1367971200000.0, 1625.949951, 1632.780029, 1622.699951, 1632.689941], [1368057600000.0, 1632.689941, 1635.01001, 1623.089966, 1626.670044], [1368144000000.0, 1626.689941, 1633.699951, 1623.709961, 1633.699951], [1368403200000.0, 1632.099976, 1636.0, 1626.73999, 1633.77002], [1368489600000.0, 1633.75, 1651.099976, 1633.75, 1650.339966], [1368576000000.0, 1649.130005, 1661.48999, 1646.680054, 1658.780029], [1368662400000.0, 1658.069946, 1660.51001, 1648.599976, 1650.469971], [1368748800000.0, 1652.449951, 1667.469971, 1652.449951, 1667.469971], [1369008000000.0, 1665.709961, 1672.839966, 1663.52002, 1666.290039], [1369094400000.0, 1666.199951, 1674.930054, 1662.670044, 1669.160034], [1369180800000.0, 1669.390015, 1687.180054, 1648.859985, 1655.349976], [1369267200000.0, 1651.619995, 1655.5, 1635.530029, 1650.51001], [1369353600000.0, 1646.670044, 1649.780029, 1636.880005, 1649.599976], [1369699200000.0, 1652.630005, 1674.209961, 1652.630005, 1660.060059], [1369785600000.0, 1656.569946, 1656.569946, 1640.050049, 1648.359985], [1369872000000.0, 1649.140015, 1661.910034, 1648.609985, 1654.410034], [1369958400000.0, 1652.130005, 1658.98999, 1630.73999, 1630.73999], [1370217600000.0, 1631.709961, 1640.420044, 1622.719971, 1640.420044], [1370304000000.0, 1640.72998, 1646.530029, 1623.619995, 1631.380005], [1370390400000.0, 1629.050049, 1629.310059, 1607.089966, 1608.900024], [1370476800000.0, 1609.290039, 1622.560059, 1598.22998, 1622.560059], [1370563200000.0, 1625.27002, 1644.400024, 1625.27002, 1643.380005], [1370822400000.0, 1644.670044, 1648.689941, 1639.26001, 1642.810059], [1370908800000.0, 1638.640015, 1640.130005, 1622.920044, 1626.130005], [1370995200000.0, 1629.939941, 1637.709961, 1610.920044, 1612.52002], [1371081600000.0, 1612.150024, 1639.25, 1608.069946, 1636.359985], [1371168000000.0, 1635.52002, 1640.800049, 1623.959961, 1626.72998], [1371427200000.0, 1630.640015, 1646.5, 1630.339966, 1639.040039], [1371513600000.0, 1639.77002, 1654.189941, 1639.77002, 1651.810059], [1371600000000.0, 1651.829956, 1652.449951, 1628.910034, 1628.930054], [1371686400000.0, 1624.619995, 1624.619995, 1584.319946, 1588.189941], [1371772800000.0, 1588.619995, 1599.189941, 1577.699951, 1592.430054], [1372032000000.0, 1588.77002, 1588.77002, 1560.329956, 1573.089966], [1372118400000.0, 1577.52002, 1593.790039, 1577.089966, 1588.030029], [1372204800000.0, 1592.27002, 1606.829956, 1592.27002, 1603.26001], [1372291200000.0, 1606.439941, 1620.069946, 1606.439941, 1613.199951], [1372377600000.0, 1611.119995, 1615.939941, 1601.060059, 1606.280029], [1372636800000.0, 1609.780029, 1626.609985, 1609.780029, 1614.959961], [1372723200000.0, 1614.290039, 1624.26001, 1606.77002, 1614.079956], [1372809600000.0, 1611.47998, 1618.969971, 1604.569946, 1615.410034], [1372982400000.0, 1618.650024, 1632.069946, 1614.709961, 1631.890015], [1373241600000.0, 1634.199951, 1644.680054, 1634.199951, 1640.459961], [1373328000000.0, 1642.890015, 1654.180054, 1642.890015, 1652.319946], [1373414400000.0, 1651.560059, 1657.920044, 1647.660034, 1652.619995], [1373500800000.0, 1657.410034, 1676.630005, 1657.410034, 1675.02002], [1373587200000.0, 1675.26001, 1680.189941, 1672.329956, 1680.189941], [1373846400000.0, 1679.589966, 1684.5100100000002, 1677.890015, 1682.5], [1373932800000.0, 1682.699951, 1683.72998, 1671.839966, 1676.26001], [1374019200000.0, 1677.910034, 1684.75, 1677.910034, 1680.910034], [1374105600000.0, 1681.050049, 1693.119995, 1681.050049, 1689.369995], [1374192000000.0, 1686.1500239999998, 1692.089966, 1684.0799559999998, 1692.089966], [1374451200000.0, 1694.410034, 1697.609985, 1690.6700440000002, 1695.530029], [1374537600000.0, 1696.630005, 1698.780029, 1691.130005, 1692.390015], [1374624000000.0, 1696.060059, 1698.380005, 1682.569946, 1685.939941], [1374710400000.0, 1685.209961, 1690.939941, 1680.069946, 1690.25], [1374796800000.0, 1687.310059, 1691.8499760000002, 1676.030029, 1691.6500239999998], [1375056000000.0, 1690.319946, 1690.9200440000002, 1681.859985, 1685.3299559999998], [1375142400000.0, 1687.9200440000002, 1693.189941, 1682.4200440000002, 1685.959961], [1375228800000.0, 1687.7600100000002, 1698.430054, 1684.939941, 1685.72998], [1375315200000.0, 1689.4200440000002, 1707.8499760000002, 1689.4200440000002, 1706.869995], [1375401600000.0, 1706.0999760000002, 1709.6700440000002, 1700.680054, 1709.6700440000002], [1375660800000.0, 1708.0100100000002, 1709.2399899999998, 1703.550049, 1707.140015], [1375747200000.0, 1705.790039, 1705.790039, 1693.290039, 1697.369995], [1375833600000.0, 1695.300049, 1695.300049, 1684.910034, 1690.910034], [1375920000000.0, 1693.3499760000002, 1700.180054, 1688.380005, 1697.47998], [1376006400000.0, 1696.0999760000002, 1699.4200440000002, 1686.02002, 1691.4200440000002], [1376265600000.0, 1688.369995, 1691.4899899999998, 1683.3499760000002, 1689.469971], [1376352000000.0, 1690.6500239999998, 1696.810059, 1682.619995, 1694.160034], [1376438400000.0, 1693.880005, 1695.52002, 1684.8299559999998, 1685.390015], [1376524800000.0, 1679.609985, 1679.609985, 1658.589966, 1661.319946], [1376611200000.0, 1661.219971, 1663.599976, 1652.609985, 1655.829956], [1376870400000.0, 1655.25, 1659.180054, 1645.839966, 1646.060059], [1376956800000.0, 1646.810059, 1658.920044, 1646.079956, 1652.349976], [1377043200000.0, 1650.660034, 1656.98999, 1639.430054, 1642.800049], [1377129600000.0, 1645.030029, 1659.550049, 1645.030029, 1656.959961], [1377216000000.0, 1659.920044, 1664.849976, 1654.810059, 1663.5], [1377475200000.0, 1664.290039, 1669.51001, 1656.02002, 1656.780029], [1377561600000.0, 1652.540039, 1652.540039, 1629.050049, 1630.47998], [1377648000000.0, 1630.25, 1641.180054, 1627.469971, 1634.959961], [1377734400000.0, 1633.5, 1646.410034, 1630.880005, 1638.170044], [1377820800000.0, 1638.890015, 1640.079956, 1628.050049, 1632.969971], [1378166400000.0, 1635.949951, 1651.349976, 1633.410034, 1639.77002], [1378252800000.0, 1640.719971, 1655.719971, 1637.410034, 1653.079956], [1378339200000.0, 1653.280029, 1659.170044, 1653.069946, 1655.079956], [1378425600000.0, 1657.439941, 1664.829956, 1640.619995, 1655.170044], [1378684800000.0, 1656.849976, 1672.400024, 1656.849976, 1671.709961], [1378771200000.0, 1675.109985, 1684.089966, 1675.109985, 1683.9899899999998], [1378857600000.0, 1681.040039, 1689.130005, 1678.699951, 1689.130005], [1378944000000.0, 1689.209961, 1689.969971, 1681.959961, 1683.4200440000002], [1379030400000.0, 1685.040039, 1688.72998, 1682.219971, 1687.9899899999998], [1379289600000.0, 1691.699951, 1704.949951, 1691.699951, 1697.5999760000002], [1379376000000.0, 1697.72998, 1705.52002, 1697.72998, 1704.7600100000002], [1379462400000.0, 1705.7399899999998, 1729.439941, 1700.3499760000002, 1725.52002], [1379548800000.0, 1727.339966, 1729.859985, 1720.199951, 1722.339966], [1379635200000.0, 1722.439941, 1725.22998, 1708.890015, 1709.910034], [1379894400000.0, 1711.439941, 1711.439941, 1697.0999760000002, 1701.839966], [1379980800000.0, 1702.5999760000002, 1707.630005, 1694.9000239999998, 1697.4200440000002], [1380067200000.0, 1698.02002, 1701.709961, 1691.880005, 1692.77002], [1380153600000.0, 1694.050049, 1703.8499760000002, 1693.109985, 1698.6700440000002], [1380240000000.0, 1695.52002, 1695.52002, 1687.109985, 1691.75], [1380499200000.0, 1687.2600100000002, 1687.2600100000002, 1674.98999, 1681.550049], [1380585600000.0, 1682.410034, 1696.550049, 1682.069946, 1695.0], [1380672000000.0, 1691.9000239999998, 1693.869995, 1680.339966, 1693.869995], [1380758400000.0, 1692.3499760000002, 1692.3499760000002, 1670.359985, 1678.660034], [1380844800000.0, 1678.790039, 1691.939941, 1677.329956, 1690.5], [1381104000000.0, 1687.1500239999998, 1687.1500239999998, 1674.699951, 1676.119995], [1381190400000.0, 1676.219971, 1676.790039, 1655.030029, 1655.449951], [1381276800000.0, 1656.98999, 1662.469971, 1646.469971, 1656.400024], [1381363200000.0, 1660.880005, 1692.560059, 1660.880005, 1692.560059], [1381449600000.0, 1691.089966, 1703.439941, 1688.52002, 1703.199951], [1381708800000.0, 1699.859985, 1711.030029, 1692.130005, 1710.140015], [1381795200000.0, 1709.1700440000002, 1711.569946, 1695.930054, 1698.060059], [1381881600000.0, 1700.4899899999998, 1721.7600100000002, 1700.4899899999998, 1721.540039], [1381968000000.0, 1720.1700440000002, 1733.449951, 1714.119995, 1733.1500239999998], [1382054400000.0, 1736.719971, 1745.310059, 1735.7399899999998, 1744.5], [1382313600000.0, 1745.199951, 1747.790039, 1740.6700440000002, 1744.660034], [1382400000000.0, 1746.47998, 1759.3299559999998, 1746.47998, 1754.6700440000002], [1382486400000.0, 1752.27002, 1752.27002, 1740.5, 1746.380005], [1382572800000.0, 1747.47998, 1753.939941, 1745.5, 1752.069946], [1382659200000.0, 1756.0100100000002, 1759.819946, 1752.449951, 1759.77002], [1382918400000.0, 1759.4200440000002, 1764.9899899999998, 1757.6700440000002, 1762.109985], [1383004800000.0, 1762.930054, 1772.089966, 1762.930054, 1771.949951], [1383091200000.0, 1772.27002, 1775.219971, 1757.2399899999998, 1763.310059], [1383177600000.0, 1763.2399899999998, 1768.530029, 1755.719971, 1756.540039], [1383264000000.0, 1758.699951, 1765.6700440000002, 1752.699951, 1761.640015], [1383523200000.0, 1763.4000239999998, 1768.780029, 1761.560059, 1767.930054], [1383609600000.0, 1765.6700440000002, 1767.030029, 1755.7600100000002, 1762.969971], [1383696000000.0, 1765.0, 1773.7399899999998, 1764.4000239999998, 1770.4899899999998], [1383782400000.0, 1770.7399899999998, 1774.540039, 1746.199951, 1747.1500239999998], [1383868800000.0, 1748.369995, 1770.780029, 1747.630005, 1770.609985], [1384128000000.0, 1769.959961, 1773.439941, 1767.8499760000002, 1771.890015], [1384214400000.0, 1769.5100100000002, 1771.780029, 1762.290039, 1767.689941], [1384300800000.0, 1764.369995, 1782.0, 1760.640015, 1782.0], [1384387200000.0, 1782.75, 1791.530029, 1780.219971, 1790.619995], [1384473600000.0, 1790.660034, 1798.219971, 1790.660034, 1798.180054], [1384732800000.0, 1798.819946, 1802.3299559999998, 1788.0, 1791.530029], [1384819200000.0, 1790.790039, 1795.5100100000002, 1784.719971, 1787.869995], [1384905600000.0, 1789.589966, 1795.72998, 1777.22998, 1781.369995], [1384992000000.0, 1783.52002, 1797.160034, 1783.52002, 1795.8499760000002], [1385078400000.0, 1797.209961, 1804.839966, 1794.699951, 1804.7600100000002], [1385337600000.0, 1806.3299559999998, 1808.0999760000002, 1800.5799559999998, 1802.47998], [1385424000000.0, 1802.869995, 1808.4200440000002, 1800.77002, 1802.75], [1385510400000.0, 1803.47998, 1808.27002, 1802.77002, 1807.22998], [1385683200000.0, 1808.689941, 1813.550049, 1803.97998, 1805.810059], [1385942400000.0, 1806.550049, 1810.02002, 1798.5999760000002, 1800.9000239999998], [1386028800000.0, 1800.0999760000002, 1800.0999760000002, 1787.8499760000002, 1795.1500239999998], [1386115200000.0, 1793.1500239999998, 1799.800049, 1779.089966, 1792.810059], [1386201600000.0, 1792.819946, 1792.819946, 1783.380005, 1785.030029], [1386288000000.0, 1788.359985, 1806.040039, 1788.359985, 1805.089966], [1386547200000.0, 1806.209961, 1811.52002, 1806.209961, 1808.369995], [1386633600000.0, 1807.5999760000002, 1808.52002, 1801.75, 1802.619995], [1386720000000.0, 1802.7600100000002, 1802.969971, 1780.089966, 1782.219971], [1386806400000.0, 1781.709961, 1782.9899899999998, 1772.280029, 1775.5], [1386892800000.0, 1777.97998, 1780.9200440000002, 1772.449951, 1775.319946], [1387152000000.0, 1777.47998, 1792.219971, 1777.47998, 1786.540039], [1387238400000.0, 1786.469971, 1786.77002, 1777.050049, 1781.0], [1387324800000.0, 1781.459961, 1811.0799559999998, 1767.9899899999998, 1810.6500239999998], [1387411200000.0, 1809.0, 1810.880005, 1801.3499760000002, 1809.5999760000002], [1387497600000.0, 1810.390015, 1823.75, 1810.25, 1818.319946], [1387756800000.0, 1822.9200440000002, 1829.75, 1822.9200440000002, 1827.9899899999998], [1387843200000.0, 1828.02002, 1833.319946, 1828.02002, 1833.319946], [1388016000000.0, 1834.959961, 1842.839966, 1834.959961, 1842.02002], [1388102400000.0, 1842.969971, 1844.890015, 1839.810059, 1841.4000239999998], [1388361600000.0, 1841.469971, 1842.469971, 1838.77002, 1841.069946], [1388448000000.0, 1842.609985, 1849.439941, 1842.410034, 1848.359985], [1388620800000.0, 1845.859985, 1845.859985, 1827.7399899999998, 1831.97998], [1388707200000.0, 1833.209961, 1838.2399899999998, 1829.130005, 1831.369995], [1388966400000.0, 1832.310059, 1837.160034, 1823.72998, 1826.77002], [1389052800000.0, 1828.709961, 1840.0999760000002, 1828.709961, 1837.880005], [1389139200000.0, 1837.9000239999998, 1840.02002, 1831.4000239999998, 1837.4899899999998], [1389225600000.0, 1839.0, 1843.22998, 1830.380005, 1838.130005], [1389312000000.0, 1840.060059, 1843.1500239999998, 1832.430054, 1842.369995], [1389571200000.0, 1841.2600100000002, 1843.449951, 1815.52002, 1819.199951], [1389657600000.0, 1821.359985, 1839.2600100000002, 1821.359985, 1838.880005], [1389744000000.0, 1840.52002, 1850.839966, 1840.52002, 1848.380005], [1389830400000.0, 1847.9899899999998, 1847.9899899999998, 1840.300049, 1845.890015], [1389916800000.0, 1844.22998, 1846.040039, 1835.22998, 1838.699951], [1390262400000.0, 1841.050049, 1849.310059, 1832.380005, 1843.800049], [1390348800000.0, 1844.709961, 1846.869995, 1840.880005, 1844.859985], [1390435200000.0, 1842.290039, 1842.290039, 1820.060059, 1828.459961], [1390521600000.0, 1826.959961, 1826.959961, 1790.290039, 1790.290039], [1390780800000.0, 1791.030029, 1795.97998, 1772.880005, 1781.560059], [1390867200000.0, 1783.0, 1793.869995, 1779.4899899999998, 1792.5], [1390953600000.0, 1790.1500239999998, 1790.1500239999998, 1770.449951, 1774.199951], [1391040000000.0, 1777.1700440000002, 1798.77002, 1777.1700440000002, 1794.189941], [1391126400000.0, 1790.880005, 1793.880005, 1772.2600100000002, 1782.589966], [1391385600000.0, 1782.680054, 1784.8299559999998, 1739.660034, 1741.890015], [1391472000000.0, 1743.819946, 1758.72998, 1743.819946, 1755.199951], [1391558400000.0, 1753.380005, 1755.790039, 1737.9200440000002, 1751.640015], [1391644800000.0, 1752.9899899999998, 1774.060059, 1752.9899899999998, 1773.430054], [1391731200000.0, 1776.0100100000002, 1798.030029, 1776.0100100000002, 1797.02002], [1391990400000.0, 1796.199951, 1799.939941, 1791.8299559999998, 1799.839966], [1392076800000.0, 1800.449951, 1823.540039, 1800.410034, 1819.75], [1392163200000.0, 1820.119995, 1826.550049, 1815.969971, 1819.2600100000002], [1392249600000.0, 1814.819946, 1830.25, 1809.219971, 1829.8299559999998], [1392336000000.0, 1828.459961, 1841.6500239999998, 1825.589966, 1838.630005], [1392681600000.0, 1839.030029, 1842.869995, 1835.0100100000002, 1840.7600100000002], [1392768000000.0, 1838.9000239999998, 1847.5, 1826.9899899999998, 1828.75], [1392854400000.0, 1829.2399899999998, 1842.790039, 1824.5799559999998, 1839.780029], [1392940800000.0, 1841.069946, 1846.130005, 1835.5999760000002, 1836.25], [1393200000000.0, 1836.780029, 1858.709961, 1836.780029, 1847.609985], [1393286400000.0, 1847.660034, 1852.910034, 1840.189941, 1845.119995], [1393372800000.0, 1845.790039, 1852.6500239999998, 1840.660034, 1845.160034], [1393459200000.0, 1844.9000239999998, 1854.530029, 1841.130005, 1854.290039], [1393545600000.0, 1855.119995, 1867.9200440000002, 1847.6700440000002, 1859.449951], [1393804800000.0, 1857.680054, 1857.680054, 1834.439941, 1845.72998], [1393891200000.0, 1849.22998, 1876.22998, 1849.22998, 1873.910034], [1393977600000.0, 1874.050049, 1876.530029, 1871.109985, 1873.810059], [1394064000000.0, 1874.180054, 1881.939941, 1874.180054, 1877.030029], [1394150400000.0, 1878.52002, 1883.569946, 1870.560059, 1878.040039], [1394409600000.0, 1877.859985, 1877.869995, 1867.040039, 1877.1700440000002], [1394496000000.0, 1878.2600100000002, 1882.3499760000002, 1863.880005, 1867.630005], [1394582400000.0, 1866.1500239999998, 1868.380005, 1854.380005, 1868.199951], [1394668800000.0, 1869.060059, 1874.4000239999998, 1841.859985, 1846.339966], [1394755200000.0, 1845.069946, 1852.439941, 1839.569946, 1841.130005], [1395014400000.0, 1842.810059, 1862.300049, 1842.810059, 1858.8299559999998], [1395100800000.0, 1858.9200440000002, 1873.7600100000002, 1858.9200440000002, 1872.25], [1395187200000.0, 1872.25, 1874.140015, 1850.3499760000002, 1860.77002], [1395273600000.0, 1860.089966, 1873.4899899999998, 1854.630005, 1872.0100100000002], [1395360000000.0, 1874.530029, 1883.969971, 1863.459961, 1866.52002], [1395619200000.0, 1867.6700440000002, 1873.339966, 1849.689941, 1857.439941], [1395705600000.0, 1859.47998, 1871.869995, 1855.959961, 1865.619995], [1395792000000.0, 1867.089966, 1875.9200440000002, 1852.560059, 1852.560059], [1395878400000.0, 1852.109985, 1855.550049, 1842.109985, 1849.040039], [1395964800000.0, 1850.069946, 1866.630005, 1850.069946, 1857.619995], [1396224000000.0, 1859.160034, 1875.180054, 1859.160034, 1872.339966], [1396310400000.0, 1873.959961, 1885.839966, 1873.959961, 1885.52002], [1396396800000.0, 1886.609985, 1893.1700440000002, 1883.790039, 1890.9000239999998], [1396483200000.0, 1891.430054, 1893.800049, 1882.6500239999998, 1888.77002], [1396569600000.0, 1890.25, 1897.280029, 1863.2600100000002, 1865.089966], [1396828800000.0, 1863.9200440000002, 1864.040039, 1841.47998, 1845.040039], [1396915200000.0, 1845.47998, 1854.949951, 1837.4899899999998, 1851.959961], [1397001600000.0, 1852.640015, 1872.430054, 1852.380005, 1872.180054], [1397088000000.0, 1872.280029, 1872.530029, 1830.869995, 1833.0799559999998], [1397174400000.0, 1830.6500239999998, 1835.069946, 1814.359985, 1815.689941], [1397433600000.0, 1818.180054, 1834.189941, 1815.800049, 1830.609985], [1397520000000.0, 1831.449951, 1844.02002, 1816.290039, 1842.97998], [1397606400000.0, 1846.0100100000002, 1862.310059, 1846.0100100000002, 1862.310059], [1397692800000.0, 1861.72998, 1869.630005, 1856.719971, 1864.8499760000002], [1398038400000.0, 1865.790039, 1871.890015, 1863.180054, 1871.890015], [1398124800000.0, 1872.569946, 1884.890015, 1872.569946, 1879.550049], [1398211200000.0, 1879.319946, 1879.75, 1873.910034, 1875.390015], [1398297600000.0, 1881.969971, 1884.060059, 1870.2399899999998, 1878.609985], [1398384000000.0, 1877.719971, 1877.719971, 1859.699951, 1863.4000239999998], [1398643200000.0, 1865.0, 1877.0100100000002, 1850.609985, 1869.430054], [1398729600000.0, 1870.780029, 1880.5999760000002, 1870.780029, 1878.3299559999998], [1398816000000.0, 1877.0999760000002, 1885.199951, 1872.689941, 1883.949951], [1398902400000.0, 1884.390015, 1888.589966, 1878.040039, 1883.680054], [1398988800000.0, 1885.300049, 1891.3299559999998, 1878.5, 1881.140015], [1399248000000.0, 1879.449951, 1885.5100100000002, 1866.77002, 1884.660034], [1399334400000.0, 1883.689941, 1883.689941, 1867.719971, 1867.719971], [1399420800000.0, 1868.530029, 1878.8299559999998, 1859.790039, 1878.209961], [1399507200000.0, 1877.390015, 1889.069946, 1870.050049, 1875.630005], [1399593600000.0, 1875.27002, 1878.569946, 1867.02002, 1878.47998], [1399852800000.0, 1880.030029, 1897.130005, 1880.030029, 1896.6500239999998], [1399939200000.0, 1896.75, 1902.1700440000002, 1896.060059, 1897.449951], [1400025600000.0, 1897.130005, 1897.130005, 1885.77002, 1888.530029], [1400112000000.0, 1888.160034, 1888.160034, 1862.359985, 1870.8499760000002], [1400198400000.0, 1871.189941, 1878.280029, 1864.819946, 1877.859985], [1400457600000.0, 1876.660034, 1886.0, 1872.4200440000002, 1885.0799559999998], [1400544000000.0, 1884.880005, 1884.880005, 1868.140015, 1872.8299559999998], [1400630400000.0, 1873.339966, 1888.800049, 1873.339966, 1888.030029], [1400716800000.0, 1888.189941, 1896.3299559999998, 1885.390015, 1892.4899899999998], [1400803200000.0, 1893.319946, 1901.2600100000002, 1893.319946, 1900.530029], [1401148800000.0, 1902.0100100000002, 1912.280029, 1902.0100100000002, 1911.910034], [1401235200000.0, 1911.77002, 1914.459961, 1907.300049, 1909.780029], [1401321600000.0, 1910.5999760000002, 1920.030029, 1909.819946, 1920.030029], [1401408000000.0, 1920.3299559999998, 1924.030029, 1916.640015, 1923.569946], [1401667200000.0, 1923.869995, 1925.880005, 1915.97998, 1924.969971], [1401753600000.0, 1923.069946, 1925.069946, 1918.790039, 1924.2399899999998], [1401840000000.0, 1923.060059, 1928.630005, 1918.5999760000002, 1927.880005], [1401926400000.0, 1928.52002, 1941.7399899999998, 1922.930054, 1940.459961], [1402012800000.0, 1942.410034, 1949.439941, 1942.410034, 1949.439941], [1402272000000.0, 1948.969971, 1955.550049, 1947.160034, 1951.27002], [1402358400000.0, 1950.339966, 1950.859985, 1944.640015, 1950.790039], [1402444800000.0, 1949.369995, 1949.369995, 1940.0799559999998, 1943.890015], [1402531200000.0, 1943.3499760000002, 1943.3499760000002, 1925.780029, 1930.109985], [1402617600000.0, 1930.800049, 1937.300049, 1927.689941, 1936.160034], [1402876800000.0, 1934.839966, 1941.1500239999998, 1930.910034, 1937.780029], [1402963200000.0, 1937.1500239999998, 1943.689941, 1933.550049, 1941.9899899999998], [1403049600000.0, 1942.72998, 1957.7399899999998, 1939.290039, 1956.97998], [1403136000000.0, 1957.5, 1959.869995, 1952.2600100000002, 1959.47998], [1403222400000.0, 1960.449951, 1963.910034, 1959.1700440000002, 1962.869995], [1403481600000.0, 1962.9200440000002, 1963.7399899999998, 1958.890015, 1962.609985], [1403568000000.0, 1961.969971, 1968.1700440000002, 1948.339966, 1949.97998], [1403654400000.0, 1949.27002, 1960.8299559999998, 1947.4899899999998, 1959.530029], [1403740800000.0, 1959.890015, 1959.890015, 1944.689941, 1957.219971], [1403827200000.0, 1956.560059, 1961.469971, 1952.180054, 1960.959961], [1404086400000.0, 1960.790039, 1964.2399899999998, 1958.219971, 1960.22998], [1404172800000.0, 1962.290039, 1978.5799559999998, 1962.290039, 1973.319946], [1404259200000.0, 1973.060059, 1976.6700440000002, 1972.5799559999998, 1974.619995], [1404345600000.0, 1975.880005, 1985.589966, 1975.880005, 1985.439941], [1404691200000.0, 1984.219971, 1984.219971, 1974.880005, 1977.6500239999998], [1404777600000.0, 1976.390015, 1976.390015, 1959.459961, 1963.709961], [1404864000000.0, 1965.0999760000002, 1974.1500239999998, 1965.0999760000002, 1972.8299559999998], [1404950400000.0, 1966.6700440000002, 1969.839966, 1952.859985, 1964.680054], [1405036800000.0, 1965.7600100000002, 1968.6700440000002, 1959.630005, 1967.569946], [1405296000000.0, 1969.859985, 1979.8499760000002, 1969.859985, 1977.0999760000002], [1405382400000.0, 1977.359985, 1982.52002, 1965.339966, 1973.280029], [1405468800000.0, 1976.3499760000002, 1983.939941, 1975.6700440000002, 1981.569946], [1405555200000.0, 1979.75, 1981.800049, 1955.589966, 1958.119995], [1405641600000.0, 1961.540039, 1979.910034, 1960.819946, 1978.219971], [1405900800000.0, 1976.930054, 1976.930054, 1965.77002, 1973.630005], [1405987200000.0, 1975.6500239999998, 1986.2399899999998, 1975.6500239999998, 1983.530029], [1406073600000.0, 1985.319946, 1989.22998, 1982.439941, 1987.0100100000002], [1406160000000.0, 1988.069946, 1991.390015, 1985.790039, 1987.97998], [1406246400000.0, 1984.5999760000002, 1984.5999760000002, 1974.369995, 1978.339966], [1406505600000.0, 1978.25, 1981.52002, 1967.310059, 1978.910034], [1406592000000.0, 1980.030029, 1984.8499760000002, 1969.949951, 1969.949951], [1406678400000.0, 1973.209961, 1978.9000239999998, 1962.4200440000002, 1970.069946], [1406764800000.0, 1965.140015, 1965.140015, 1930.6700440000002, 1930.6700440000002], [1406851200000.0, 1929.800049, 1937.3499760000002, 1916.369995, 1925.1500239999998], [1407110400000.0, 1926.619995, 1942.9200440000002, 1921.199951, 1938.9899899999998], [1407196800000.0, 1936.339966, 1936.339966, 1913.77002, 1920.209961], [1407283200000.0, 1917.290039, 1927.910034, 1911.449951, 1920.2399899999998], [1407369600000.0, 1923.030029, 1928.890015, 1904.780029, 1909.569946], [1407456000000.0, 1910.3499760000002, 1932.380005, 1909.0100100000002, 1931.589966], [1407715200000.0, 1933.430054, 1944.9000239999998, 1933.430054, 1936.9200440000002], [1407801600000.0, 1935.72998, 1939.6500239999998, 1928.290039, 1933.75], [1407888000000.0, 1935.5999760000002, 1948.410034, 1935.5999760000002, 1946.719971], [1407974400000.0, 1947.410034, 1955.22998, 1947.410034, 1955.180054], [1408060800000.0, 1958.869995, 1964.040039, 1941.5, 1955.060059], [1408320000000.0, 1958.359985, 1971.9899899999998, 1958.359985, 1971.7399899999998], [1408406400000.0, 1972.72998, 1982.569946, 1972.72998, 1981.5999760000002], [1408492800000.0, 1980.459961, 1988.569946, 1977.680054, 1986.5100100000002], [1408579200000.0, 1986.819946, 1994.7600100000002, 1986.819946, 1992.369995], [1408665600000.0, 1992.5999760000002, 1993.540039, 1984.7600100000002, 1988.4000239999998], [1408924800000.0, 1991.7399899999998, 2001.949951, 1991.7399899999998, 1997.9200440000002], [1409011200000.0, 1998.589966, 2005.040039, 1998.589966, 2000.02002], [1409097600000.0, 2000.540039, 2002.140015, 1996.199951, 2000.119995], [1409184000000.0, 1997.4200440000002, 1998.550049, 1990.52002, 1996.7399899999998], [1409270400000.0, 1998.449951, 2003.380005, 1994.6500239999998, 2003.369995], [1409616000000.0, 2004.069946, 2006.119995, 1994.8499760000002, 2002.280029], [1409702400000.0, 2003.569946, 2009.280029, 1998.140015, 2000.719971], [1409788800000.0, 2001.6700440000002, 2011.1700440000002, 1992.540039, 1997.6500239999998], [1409875200000.0, 1998.0, 2007.709961, 1990.0999760000002, 2007.709961], [1410134400000.0, 2007.1700440000002, 2007.1700440000002, 1995.5999760000002, 2001.540039], [1410220800000.0, 2000.72998, 2001.0100100000002, 1984.609985, 1988.439941], [1410307200000.0, 1988.410034, 1996.660034, 1982.9899899999998, 1995.689941], [1410393600000.0, 1992.8499760000002, 1997.6500239999998, 1985.930054, 1997.449951], [1410480000000.0, 1996.7399899999998, 1996.7399899999998, 1980.2600100000002, 1985.540039], [1410739200000.0, 1986.040039, 1987.180054, 1978.47998, 1984.130005], [1410825600000.0, 1981.930054, 2002.280029, 1979.060059, 1998.97998], [1410912000000.0, 1999.300049, 2010.7399899999998, 1993.290039, 2001.569946], [1410998400000.0, 2003.069946, 2012.339966, 2003.069946, 2011.359985], [1411084800000.0, 2012.7399899999998, 2019.2600100000002, 2006.589966, 2010.4000239999998], [1411344000000.0, 2009.0799559999998, 2009.0799559999998, 1991.0100100000002, 1994.290039], [1411430400000.0, 1992.780029, 1995.410034, 1982.77002, 1982.77002], [1411516800000.0, 1983.339966, 1999.790039, 1978.630005, 1998.300049], [1411603200000.0, 1997.319946, 1997.319946, 1965.9899899999998, 1965.9899899999998], [1411689600000.0, 1966.219971, 1986.369995, 1966.219971, 1982.8499760000002], [1411948800000.0, 1978.959961, 1981.280029, 1964.040039, 1977.800049], [1412035200000.0, 1978.209961, 1985.1700440000002, 1968.959961, 1972.290039], [1412121600000.0, 1971.439941, 1971.439941, 1941.719971, 1946.160034], [1412208000000.0, 1945.8299559999998, 1952.319946, 1926.030029, 1946.1700440000002], [1412294400000.0, 1948.119995, 1971.189941, 1948.119995, 1967.9000239999998], [1412553600000.0, 1970.0100100000002, 1977.839966, 1958.430054, 1964.819946], [1412640000000.0, 1962.359985, 1962.359985, 1934.869995, 1935.0999760000002], [1412726400000.0, 1935.550049, 1970.359985, 1925.25, 1968.890015], [1412812800000.0, 1967.680054, 1967.680054, 1927.560059, 1928.209961], [1412899200000.0, 1925.630005, 1936.97998, 1906.050049, 1906.130005], [1413158400000.0, 1905.6500239999998, 1912.089966, 1874.140015, 1874.7399899999998], [1413244800000.0, 1877.109985, 1898.709961, 1871.790039, 1877.699951], [1413331200000.0, 1874.180054, 1874.180054, 1820.660034, 1862.4899899999998], [1413417600000.0, 1855.949951, 1876.0100100000002, 1835.02002, 1862.7600100000002], [1413504000000.0, 1864.910034, 1898.160034, 1864.910034, 1886.7600100000002], [1413763200000.0, 1885.619995, 1905.030029, 1882.300049, 1904.0100100000002], [1413849600000.0, 1909.380005, 1942.449951, 1909.380005, 1941.280029], [1413936000000.0, 1941.290039, 1949.310059, 1926.8299559999998, 1927.109985], [1414022400000.0, 1931.02002, 1961.949951, 1931.02002, 1950.819946], [1414108800000.0, 1951.589966, 1965.27002, 1946.27002, 1964.5799559999998], [1414368000000.0, 1962.969971, 1964.640015, 1951.369995, 1961.630005], [1414454400000.0, 1964.140015, 1985.050049, 1964.140015, 1985.050049], [1414540800000.0, 1983.290039, 1991.4000239999998, 1969.040039, 1982.300049], [1414627200000.0, 1979.4899899999998, 1999.4000239999998, 1974.75, 1994.6500239999998], [1414713600000.0, 2001.199951, 2018.189941, 2001.199951, 2018.050049], [1414972800000.0, 2018.209961, 2024.459961, 2013.680054, 2017.810059], [1415059200000.0, 2015.810059, 2015.97998, 2001.0100100000002, 2012.0999760000002], [1415145600000.0, 2015.290039, 2023.77002, 2014.4200440000002, 2023.569946], [1415232000000.0, 2023.3299559999998, 2031.609985, 2015.859985, 2031.209961], [1415318400000.0, 2032.359985, 2034.2600100000002, 2025.069946, 2031.9200440000002], [1415577600000.0, 2032.0100100000002, 2038.699951, 2030.1700440000002, 2038.2600100000002], [1415664000000.0, 2038.199951, 2041.280029, 2035.280029, 2039.680054], [1415750400000.0, 2037.75, 2040.3299559999998, 2031.949951, 2038.25], [1415836800000.0, 2039.209961, 2046.180054, 2030.439941, 2039.3299559999998], [1415923200000.0, 2039.7399899999998, 2042.219971, 2035.199951, 2039.819946], [1416182400000.0, 2038.290039, 2043.069946, 2034.459961, 2041.319946], [1416268800000.0, 2041.47998, 2056.080078, 2041.47998, 2051.800049], [1416355200000.0, 2051.159912, 2052.139893, 2040.369995, 2048.719971], [1416441600000.0, 2045.869995, 2053.840088, 2040.4899899999998, 2052.75], [1416528000000.0, 2057.459961, 2071.459961, 2056.75, 2063.5], [1416787200000.0, 2065.070068, 2070.169922, 2065.070068, 2069.409912], [1416873600000.0, 2070.149902, 2074.209961, 2064.75, 2067.030029], [1416960000000.0, 2067.360107, 2073.290039, 2066.6201170000004, 2072.830078], [1417132800000.0, 2074.780029, 2075.76001, 2065.060059, 2067.560059], [1417392000000.0, 2065.780029, 2065.780029, 2049.570068, 2053.439941], [1417478400000.0, 2053.77002, 2068.77002, 2053.77002, 2066.550049], [1417564800000.0, 2067.449951, 2076.280029, 2066.649902, 2074.330078], [1417651200000.0, 2073.639893, 2077.340088, 2062.340088, 2071.919922], [1417737600000.0, 2072.780029, 2079.469971, 2070.810059, 2075.3701170000004], [1417996800000.0, 2074.840088, 2075.780029, 2054.27002, 2060.310059], [1418083200000.0, 2056.550049, 2060.600098, 2034.1700440000002, 2059.820068], [1418169600000.0, 2058.860107, 2058.860107, 2024.2600100000002, 2026.140015], [1418256000000.0, 2027.9200440000002, 2055.530029, 2027.9200440000002, 2035.3299559999998], [1418342400000.0, 2030.359985, 2032.25, 2002.3299559999998, 2002.3299559999998], [1418601600000.0, 2005.030029, 2018.689941, 1982.2600100000002, 1989.630005], [1418688000000.0, 1986.709961, 2016.890015, 1972.560059, 1972.7399899999998], [1418774400000.0, 1973.77002, 2016.75, 1973.77002, 2012.890015], [1418860800000.0, 2018.97998, 2061.22998, 2018.97998, 2061.22998], [1418947200000.0, 2061.040039, 2077.850098, 2061.030029, 2070.649902], [1419206400000.0, 2069.280029, 2078.76001, 2069.280029, 2078.540039], [1419292800000.0, 2081.47998, 2086.72998, 2079.77002, 2082.169922], [1419379200000.0, 2083.25, 2087.560059, 2081.860107, 2081.8798829999996], [1419552000000.0, 2084.300049, 2092.699951, 2084.300049, 2088.77002], [1419811200000.0, 2087.6298829999996, 2093.550049, 2085.75, 2090.570068], [1419897600000.0, 2088.48999, 2088.48999, 2079.530029, 2080.350098], [1419984000000.0, 2082.110107, 2085.580078, 2057.939941, 2058.899902], [1420156800000.0, 2058.899902, 2072.360107, 2046.040039, 2058.199951], [1420416000000.0, 2054.439941, 2054.439941, 2017.339966, 2020.5799559999998], [1420502400000.0, 2022.1500239999998, 2030.25, 1992.439941, 2002.609985], [1420588800000.0, 2005.550049, 2029.609985, 2005.550049, 2025.9000239999998], [1420675200000.0, 2030.609985, 2064.080078, 2030.609985, 2062.139893], [1420761600000.0, 2063.449951, 2064.429932, 2038.3299559999998, 2044.810059], [1421020800000.0, 2046.130005, 2049.300049, 2022.5799559999998, 2028.2600100000002], [1421107200000.0, 2031.5799559999998, 2056.929932, 2008.25, 2023.030029], [1421193600000.0, 2018.4000239999998, 2018.4000239999998, 1988.439941, 2011.27002], [1421280000000.0, 2013.75, 2021.3499760000002, 1991.469971, 1992.6700440000002], [1421366400000.0, 1992.25, 2020.459961, 1988.119995, 2019.4200440000002], [1421712000000.0, 2020.7600100000002, 2028.939941, 2004.4899899999998, 2022.550049], [1421798400000.0, 2020.189941, 2038.290039, 2012.040039, 2032.119995], [1421884800000.0, 2034.300049, 2064.6201170000004, 2026.380005, 2063.149902], [1421971200000.0, 2062.97998, 2062.97998, 2050.540039, 2051.820068], [1422230400000.0, 2050.419922, 2057.6201170000004, 2040.969971, 2057.090088], [1422316800000.0, 2047.859985, 2047.859985, 2019.910034, 2029.550049], [1422403200000.0, 2032.339966, 2042.4899899999998, 2001.4899899999998, 2002.160034], [1422489600000.0, 2002.449951, 2024.640015, 1989.180054, 2021.25], [1422576000000.0, 2019.3499760000002, 2023.319946, 1993.380005, 1994.9899899999998], [1422835200000.0, 1996.6700440000002, 2021.660034, 1980.9000239999998, 2020.8499760000002], [1422921600000.0, 2022.709961, 2050.300049, 2022.709961, 2050.030029], [1423008000000.0, 2048.860107, 2054.73999, 2036.719971, 2041.5100100000002], [1423094400000.0, 2043.449951, 2063.550049, 2043.449951, 2062.52002], [1423180800000.0, 2062.280029, 2072.399902, 2049.969971, 2055.469971], [1423440000000.0, 2053.469971, 2056.159912, 2041.880005, 2046.7399899999998], [1423526400000.0, 2049.3798829999996, 2070.860107, 2048.6201170000004, 2068.590088], [1423612800000.0, 2068.550049, 2073.47998, 2057.98999, 2068.530029], [1423699200000.0, 2069.97998, 2088.530029, 2069.97998, 2088.47998], [1423785600000.0, 2088.780029, 2097.030029, 2086.699951, 2096.98999], [1424131200000.0, 2096.469971, 2101.300049, 2089.800049, 2100.340088], [1424217600000.0, 2099.159912, 2100.22998, 2092.149902, 2099.679932], [1424304000000.0, 2099.25, 2102.1298829999996, 2090.790039, 2097.449951], [1424390400000.0, 2097.649902, 2110.610107, 2085.439941, 2110.300049], [1424649600000.0, 2109.830078, 2110.050049, 2103.0, 2109.659912], [1424736000000.0, 2109.100098, 2117.939941, 2105.8701170000004, 2115.47998], [1424822400000.0, 2115.300049, 2119.590088, 2109.889893, 2113.860107], [1424908800000.0, 2113.909912, 2113.909912, 2103.76001, 2110.73999], [1424995200000.0, 2110.8798829999996, 2112.73999, 2103.75, 2104.5], [1425254400000.0, 2105.22998, 2117.52002, 2104.5, 2117.389893], [1425340800000.0, 2115.76001, 2115.76001, 2098.26001, 2107.780029], [1425427200000.0, 2107.719971, 2107.719971, 2094.48999, 2098.530029], [1425513600000.0, 2098.540039, 2104.25, 2095.219971, 2101.040039], [1425600000000.0, 2100.909912, 2100.909912, 2067.27002, 2071.26001], [1425859200000.0, 2072.25, 2083.48999, 2072.209961, 2079.429932], [1425945600000.0, 2076.139893, 2076.139893, 2044.160034, 2044.160034], [1426032000000.0, 2044.689941, 2050.080078, 2039.689941, 2040.2399899999998], [1426118400000.0, 2041.0999760000002, 2066.409912, 2041.0999760000002, 2065.949951], [1426204800000.0, 2064.560059, 2064.560059, 2041.1700440000002, 2053.399902], [1426464000000.0, 2055.350098, 2081.409912, 2055.350098, 2081.189941], [1426550400000.0, 2080.590088, 2080.590088, 2065.080078, 2074.280029], [1426636800000.0, 2072.840088, 2106.850098, 2061.22998, 2099.5], [1426723200000.0, 2098.689941, 2098.689941, 2085.560059, 2089.27002], [1426809600000.0, 2090.320068, 2113.919922, 2090.320068, 2108.100098], [1427068800000.0, 2107.98999, 2114.860107, 2104.419922, 2104.419922], [1427155200000.0, 2103.939941, 2107.6298829999996, 2091.5, 2091.5], [1427241600000.0, 2093.100098, 2097.429932, 2061.050049, 2061.050049], [1427328000000.0, 2059.939941, 2067.149902, 2045.5, 2056.149902], [1427414400000.0, 2055.780029, 2062.830078, 2052.959961, 2061.02002], [1427673600000.0, 2064.110107, 2088.969971, 2064.110107, 2086.23999], [1427760000000.0, 2084.050049, 2084.050049, 2067.040039, 2067.889893], [1427846400000.0, 2067.6298829999996, 2067.6298829999996, 2048.3798829999996, 2059.689941], [1427932800000.0, 2060.030029, 2072.169922, 2057.320068, 2066.959961], [1428278400000.0, 2064.8701170000004, 2086.98999, 2056.52002, 2080.6201170000004], [1428364800000.0, 2080.790039, 2089.810059, 2076.100098, 2076.330078], [1428451200000.0, 2076.939941, 2086.689941, 2073.300049, 2081.899902], [1428537600000.0, 2081.290039, 2093.310059, 2074.290039, 2091.179932], [1428624000000.0, 2091.51001, 2102.610107, 2091.51001, 2102.060059], [1428883200000.0, 2102.030029, 2107.649902, 2092.330078, 2092.429932], [1428969600000.0, 2092.280029, 2098.6201170000004, 2083.23999, 2095.840088], [1429056000000.0, 2097.820068, 2111.909912, 2097.820068, 2106.6298829999996], [1429142400000.0, 2105.959961, 2111.300049, 2100.02002, 2104.98999], [1429228800000.0, 2102.580078, 2102.580078, 2072.3701170000004, 2081.179932], [1429488000000.0, 2084.110107, 2103.939941, 2084.110107, 2100.399902], [1429574400000.0, 2102.820068, 2109.639893, 2094.3798829999996, 2097.290039], [1429660800000.0, 2098.27002, 2109.97998, 2091.050049, 2107.959961], [1429747200000.0, 2107.209961, 2120.48999, 2103.189941, 2112.929932], [1429833600000.0, 2112.800049, 2120.919922, 2112.800049, 2117.689941], [1430092800000.0, 2119.290039, 2125.919922, 2107.040039, 2108.919922], [1430179200000.0, 2108.350098, 2116.040039, 2094.889893, 2114.76001], [1430265600000.0, 2112.48999, 2113.649902, 2097.409912, 2106.850098], [1430352000000.0, 2105.52002, 2105.52002, 2077.590088, 2085.51001], [1430438400000.0, 2087.3798829999996, 2108.409912, 2087.3798829999996, 2108.290039], [1430697600000.0, 2110.22998, 2120.949951, 2110.22998, 2114.48999], [1430784000000.0, 2112.6298829999996, 2115.23999, 2088.459961, 2089.459961], [1430870400000.0, 2091.26001, 2098.419922, 2067.929932, 2080.149902], [1430956800000.0, 2079.959961, 2092.899902, 2074.98999, 2088.0], [1431043200000.0, 2092.1298829999996, 2117.659912, 2092.1298829999996, 2116.100098], [1431302400000.0, 2115.560059, 2117.689941, 2104.580078, 2105.330078], [1431388800000.0, 2102.8701170000004, 2105.060059, 2085.570068, 2099.1201170000004], [1431475200000.0, 2099.6201170000004, 2110.189941, 2096.040039, 2098.47998], [1431561600000.0, 2100.429932, 2121.449951, 2100.429932, 2121.100098], [1431648000000.0, 2122.070068, 2123.889893, 2116.810059, 2122.72998], [1431907200000.0, 2121.300049, 2131.780029, 2120.01001, 2129.199951], [1431993600000.0, 2129.449951, 2133.02002, 2124.5, 2127.830078], [1432080000000.0, 2127.790039, 2134.719971, 2122.590088, 2125.850098], [1432166400000.0, 2125.550049, 2134.280029, 2122.949951, 2130.820068], [1432252800000.0, 2130.360107, 2132.149902, 2126.060059, 2126.060059], [1432598400000.0, 2125.340088, 2125.340088, 2099.179932, 2104.199951], [1432684800000.0, 2105.1298829999996, 2126.219971, 2105.1298829999996, 2123.47998], [1432771200000.0, 2122.27002, 2122.27002, 2112.860107, 2120.790039], [1432857600000.0, 2120.659912, 2120.659912, 2104.889893, 2107.389893], [1433116800000.0, 2108.639893, 2119.149902, 2102.540039, 2111.72998], [1433203200000.0, 2110.409912, 2117.590088, 2099.139893, 2109.600098], [1433289600000.0, 2110.639893, 2121.919922, 2109.610107, 2114.070068], [1433376000000.0, 2112.350098, 2112.889893, 2093.22998, 2095.840088], [1433462400000.0, 2095.090088, 2100.98999, 2085.669922, 2092.830078], [1433721600000.0, 2092.340088, 2093.01001, 2079.110107, 2079.280029], [1433808000000.0, 2079.070068, 2085.6201170000004, 2072.139893, 2080.149902], [1433894400000.0, 2081.1201170000004, 2108.5, 2081.1201170000004, 2105.199951], [1433980800000.0, 2106.23999, 2115.02002, 2106.23999, 2108.860107], [1434067200000.0, 2107.429932, 2107.429932, 2091.330078, 2094.110107], [1434326400000.0, 2091.340088, 2091.340088, 2072.48999, 2084.429932], [1434412800000.0, 2084.26001, 2097.399902, 2082.100098, 2096.290039], [1434499200000.0, 2097.399902, 2106.790039, 2088.860107, 2100.439941], [1434585600000.0, 2101.580078, 2126.649902, 2101.580078, 2121.23999], [1434672000000.0, 2121.060059, 2121.639893, 2109.449951, 2109.98999], [1434931200000.0, 2112.5, 2129.8701170000004, 2112.5, 2122.850098], [1435017600000.0, 2123.159912, 2128.030029, 2119.889893, 2124.199951], [1435104000000.0, 2123.649902, 2125.100098, 2108.580078, 2108.580078], [1435190400000.0, 2109.959961, 2116.040039, 2101.780029, 2102.310059], [1435276800000.0, 2102.6201170000004, 2108.919922, 2095.3798829999996, 2101.48999], [1435536000000.0, 2098.6298829999996, 2098.6298829999996, 2056.639893, 2057.639893], [1435622400000.0, 2061.189941, 2074.280029, 2056.320068, 2063.110107], [1435708800000.0, 2067.0, 2082.780029, 2067.0, 2077.419922], [1435795200000.0, 2078.030029, 2085.060059, 2071.02002, 2076.780029], [1436140800000.0, 2073.949951, 2078.610107, 2058.399902, 2068.76001], [1436227200000.0, 2069.52002, 2083.73999, 2044.02002, 2081.340088], [1436313600000.0, 2077.659912, 2077.659912, 2044.660034, 2046.680054], [1436400000000.0, 2049.72998, 2074.280029, 2049.72998, 2051.310059], [1436486400000.0, 2052.73999, 2081.310059, 2052.73999, 2076.6201170000004], [1436745600000.0, 2080.030029, 2100.669922, 2080.030029, 2099.600098], [1436832000000.0, 2099.719971, 2111.97998, 2098.179932, 2108.949951], [1436918400000.0, 2109.01001, 2114.139893, 2102.48999, 2107.399902], [1437004800000.0, 2110.550049, 2124.419922, 2110.550049, 2124.290039], [1437091200000.0, 2126.800049, 2128.909912, 2119.8798829999996, 2126.639893], [1437350400000.0, 2126.850098, 2132.820068, 2123.659912, 2128.280029], [1437436800000.0, 2127.550049, 2128.48999, 2115.399902, 2119.209961], [1437523200000.0, 2118.209961, 2118.51001, 2110.0, 2114.149902], [1437609600000.0, 2114.159912, 2116.8701170000004, 2098.6298829999996, 2102.149902], [1437696000000.0, 2102.23999, 2106.01001, 2077.090088, 2079.649902], [1437955200000.0, 2078.189941, 2078.189941, 2063.52002, 2067.639893], [1438041600000.0, 2070.75, 2095.600098, 2069.090088, 2093.25], [1438128000000.0, 2094.699951, 2110.600098, 2094.080078, 2108.570068], [1438214400000.0, 2106.780029, 2110.47998, 2094.969971, 2108.6298829999996], [1438300800000.0, 2111.600098, 2114.23999, 2102.070068, 2103.840088], [1438560000000.0, 2104.48999, 2105.699951, 2087.310059, 2098.040039], [1438646400000.0, 2097.679932, 2102.51001, 2088.600098, 2093.320068], [1438732800000.0, 2095.27002, 2112.659912, 2095.27002, 2099.840088], [1438819200000.0, 2100.75, 2103.320068, 2075.530029, 2083.560059], [1438905600000.0, 2082.610107, 2082.610107, 2067.909912, 2077.570068], [1439164800000.0, 2080.97998, 2105.350098, 2080.97998, 2104.179932], [1439251200000.0, 2102.659912, 2102.659912, 2076.48999, 2084.070068], [1439337600000.0, 2081.100098, 2089.060059, 2052.090088, 2086.050049], [1439424000000.0, 2086.189941, 2092.929932, 2078.26001, 2083.389893], [1439510400000.0, 2083.149902, 2092.449951, 2080.610107, 2091.540039], [1439769600000.0, 2089.699951, 2102.8701170000004, 2079.300049, 2102.439941], [1439856000000.0, 2101.98999, 2103.469971, 2094.139893, 2096.919922], [1439942400000.0, 2095.689941, 2096.169922, 2070.530029, 2079.610107], [1440028800000.0, 2076.610107, 2076.610107, 2035.72998, 2035.72998], [1440115200000.0, 2034.0799559999998, 2034.0799559999998, 1970.890015, 1970.890015], [1440374400000.0, 1965.1500239999998, 1965.1500239999998, 1867.0100100000002, 1893.209961], [1440460800000.0, 1898.0799559999998, 1948.040039, 1867.0799559999998, 1867.609985], [1440547200000.0, 1872.75, 1943.089966, 1872.75, 1940.5100100000002], [1440633600000.0, 1942.77002, 1989.5999760000002, 1942.77002, 1987.660034], [1440720000000.0, 1986.060059, 1993.47998, 1975.189941, 1988.869995], [1440979200000.0, 1986.72998, 1986.72998, 1965.97998, 1972.180054], [1441065600000.0, 1970.089966, 1970.089966, 1903.069946, 1913.8499760000002], [1441152000000.0, 1916.52002, 1948.910034, 1916.52002, 1948.859985], [1441238400000.0, 1950.790039, 1975.0100100000002, 1944.719971, 1951.130005], [1441324800000.0, 1947.7600100000002, 1947.7600100000002, 1911.209961, 1921.219971], [1441670400000.0, 1927.300049, 1970.4200440000002, 1927.300049, 1969.410034], [1441756800000.0, 1971.449951, 1988.630005, 1937.880005, 1942.040039], [1441843200000.0, 1941.589966, 1965.290039, 1937.189941, 1952.290039], [1441929600000.0, 1951.449951, 1961.050049, 1939.189941, 1961.050049], [1442188800000.0, 1963.060059, 1963.060059, 1948.27002, 1953.030029], [1442275200000.0, 1955.0999760000002, 1983.189941, 1954.300049, 1978.089966], [1442361600000.0, 1978.02002, 1997.2600100000002, 1977.930054, 1995.310059], [1442448000000.0, 1995.3299559999998, 2020.859985, 1986.72998, 1990.199951], [1442534400000.0, 1989.660034, 1989.660034, 1953.449951, 1958.030029], [1442793600000.0, 1960.839966, 1979.640015, 1955.800049, 1966.969971], [1442880000000.0, 1961.390015, 1961.390015, 1929.219971, 1942.7399899999998], [1442966400000.0, 1943.2399899999998, 1949.52002, 1932.569946, 1938.7600100000002], [1443052800000.0, 1934.810059, 1937.1700440000002, 1908.9200440000002, 1932.2399899999998], [1443139200000.0, 1935.930054, 1952.890015, 1921.5, 1931.339966], [1443398400000.0, 1929.180054, 1929.180054, 1879.209961, 1881.77002], [1443484800000.0, 1881.9000239999998, 1899.47998, 1871.910034, 1884.089966], [1443571200000.0, 1887.140015, 1920.530029, 1887.140015, 1920.030029], [1443657600000.0, 1919.6500239999998, 1927.209961, 1900.699951, 1923.819946], [1443744000000.0, 1921.77002, 1951.359985, 1893.699951, 1951.359985], [1444003200000.0, 1954.3299559999998, 1989.1700440000002, 1954.3299559999998, 1987.050049], [1444089600000.0, 1986.630005, 1991.619995, 1971.9899899999998, 1979.9200440000002], [1444176000000.0, 1982.339966, 1999.310059, 1976.439941, 1995.8299559999998], [1444262400000.0, 1994.0100100000002, 2016.5, 1987.530029, 2013.430054], [1444348800000.0, 2013.72998, 2020.130005, 2007.609985, 2014.890015], [1444608000000.0, 2015.6500239999998, 2018.660034, 2010.550049, 2017.459961], [1444694400000.0, 2015.0, 2022.339966, 2001.780029, 2003.689941], [1444780800000.0, 2003.660034, 2009.560059, 1990.72998, 1994.2399899999998], [1444867200000.0, 1996.469971, 2024.1500239999998, 1996.469971, 2023.859985], [1444953600000.0, 2024.369995, 2033.540039, 2020.459961, 2033.109985], [1445212800000.0, 2031.72998, 2034.449951, 2022.310059, 2033.660034], [1445299200000.0, 2033.130005, 2039.119995, 2026.609985, 2030.77002], [1445385600000.0, 2033.469971, 2037.969971, 2017.219971, 2018.939941], [1445472000000.0, 2021.880005, 2055.199951, 2021.880005, 2052.51001], [1445558400000.0, 2058.189941, 2079.73999, 2058.189941, 2075.149902], [1445817600000.0, 2075.080078, 2075.139893, 2066.530029, 2071.179932], [1445904000000.0, 2068.75, 2070.3701170000004, 2058.840088, 2065.889893], [1445990400000.0, 2066.47998, 2090.350098, 2063.110107, 2090.350098], [1446076800000.0, 2088.350098, 2092.52002, 2082.6298829999996, 2089.409912], [1446163200000.0, 2090.0, 2094.320068, 2079.340088, 2079.360107], [1446422400000.0, 2080.76001, 2106.199951, 2080.76001, 2104.050049], [1446508800000.0, 2102.6298829999996, 2116.47998, 2097.51001, 2109.790039], [1446595200000.0, 2110.600098, 2114.590088, 2096.97998, 2102.310059], [1446681600000.0, 2101.679932, 2108.780029, 2090.409912, 2099.929932], [1446768000000.0, 2098.600098, 2101.909912, 2083.73999, 2099.199951], [1447027200000.0, 2096.560059, 2096.560059, 2068.23999, 2078.580078], [1447113600000.0, 2077.189941, 2083.669922, 2069.909912, 2081.719971], [1447200000000.0, 2083.409912, 2086.939941, 2074.850098, 2075.0], [1447286400000.0, 2072.290039, 2072.290039, 2045.660034, 2045.969971], [1447372800000.0, 2044.640015, 2044.640015, 2022.02002, 2023.040039], [1447632000000.0, 2022.0799559999998, 2053.219971, 2019.390015, 2053.189941], [1447718400000.0, 2053.669922, 2066.689941, 2045.9000239999998, 2050.439941], [1447804800000.0, 2051.98999, 2085.310059, 2051.98999, 2083.580078], [1447891200000.0, 2083.699951, 2086.73999, 2078.76001, 2081.23999], [1447977600000.0, 2082.820068, 2097.060059, 2082.820068, 2089.169922], [1448236800000.0, 2089.409912, 2095.610107, 2081.389893, 2086.590088], [1448323200000.0, 2084.419922, 2094.1201170000004, 2070.290039, 2089.139893], [1448409600000.0, 2089.300049, 2093.0, 2086.300049, 2088.8701170000004], [1448582400000.0, 2088.820068, 2093.290039, 2084.1298829999996, 2090.110107], [1448841600000.0, 2090.949951, 2093.810059, 2080.409912, 2080.409912], [1448928000000.0, 2082.929932, 2103.3701170000004, 2082.929932, 2102.6298829999996], [1449014400000.0, 2101.709961, 2104.27002, 2077.110107, 2079.51001], [1449100800000.0, 2080.709961, 2085.0, 2042.3499760000002, 2049.6201170000004], [1449187200000.0, 2051.23999, 2093.840088, 2051.23999, 2091.689941], [1449446400000.0, 2090.419922, 2090.419922, 2066.780029, 2077.070068], [1449532800000.0, 2073.389893, 2073.850098, 2052.320068, 2063.590088], [1449619200000.0, 2061.169922, 2080.330078, 2036.530029, 2047.619995], [1449705600000.0, 2047.930054, 2067.649902, 2045.6700440000002, 2052.22998], [1449792000000.0, 2047.27002, 2047.27002, 2008.800049, 2012.369995], [1450051200000.0, 2013.369995, 2022.9200440000002, 1993.2600100000002, 2021.939941], [1450137600000.0, 2025.550049, 2053.8701170000004, 2025.550049, 2043.410034], [1450224000000.0, 2046.5, 2076.719971, 2042.430054, 2073.070068], [1450310400000.0, 2073.76001, 2076.3701170000004, 2041.660034, 2041.890015], [1450396800000.0, 2040.810059, 2040.810059, 2005.3299559999998, 2005.550049], [1450656000000.0, 2010.27002, 2022.9000239999998, 2005.930054, 2021.1500239999998], [1450742400000.0, 2023.1500239999998, 2042.7399899999998, 2020.4899899999998, 2038.969971], [1450828800000.0, 2042.199951, 2064.72998, 2042.199951, 2064.290039], [1450915200000.0, 2063.52002, 2067.360107, 2058.72998, 2060.98999], [1451260800000.0, 2057.77002, 2057.77002, 2044.199951, 2056.5], [1451347200000.0, 2060.540039, 2081.560059, 2060.540039, 2078.360107], [1451433600000.0, 2077.340088, 2077.340088, 2061.969971, 2063.360107], [1451520000000.0, 2060.590088, 2062.540039, 2043.619995, 2043.939941]], \"name\": \"candle\"}]\n",
       "        var options = {};\n",
       "        var options = {\"type\": \"line\", \"xAxis\": {\"gridLineDashStyle\": \"Dot\", \"gridLineWidth\": 1}, \"width\": \"auto\", \"height\": 400, \"scale\": 2, \"rangeSelector\": {\"selected\": 0}, \"chart\": {\"type\": \"line\"}, \"yAxis\": {\"gridLineDashStyle\": \"Dot\", \"gridLineWidth\": 1}}\n",
       "        var useHighStock = false;\n",
       "        var useHighStock = true\n",
       "        var save = 'app/chart.svg';\n",
       "        var save = false\n",
       "        var url = 'http://127.0.0.1:65079';\n",
       "        var url = \"http://127.0.0.1:49986/\"\n",
       "        var settingsFile = 'settings';\n",
       "        var settingsFile = \"settings\"\n",
       "        var scale = options.scale;\n",
       "\n",
       "        //Create different containers for the charts\n",
       "        var chartContainer = document.getElementById(\"chart-container\");\n",
       "        chartContainer.id = \"chart-container\" + id;\n",
       "        chartContainer.style.height = options.height.toString() + 'px';\n",
       "\n",
       "        if (options.width != 'auto') {\n",
       "            chartContainer.style.width = options.width.toString() + 'px';\n",
       "        }\n",
       "\n",
       "        var selector = $(\"#variable-selector\");\n",
       "        selector.attr('id', \"variable-selector\" + id);\n",
       "\n",
       "        var settings = $(\"#settings-collapse\");\n",
       "        settings.attr('id', \"settings-collapse\" + id);\n",
       "\n",
       "        var button = $(\"#settings-button\");\n",
       "        button.attr('id', \"settings-button\" + id);\n",
       "\n",
       "        var saveButton = $(\"#save-settings\");\n",
       "        saveButton.attr('id', \"save-settings\" + id);\n",
       "\n",
       "        var optionsInput = $(\"#options-input\");\n",
       "        optionsInput.attr('id', \"options-input\" + id);\n",
       "        optionsInput.val(settingsFile);\n",
       "\n",
       "        var optionsButton = $(\"#options-button\");\n",
       "        optionsButton.attr('id', \"options-button\" + id);\n",
       "\n",
       "        // create the editor\n",
       "        var editorContainer = document.getElementById(\"jsoneditor\");\n",
       "        editorContainer.id = \"jsoneditor\" + id;\n",
       "        var editor = new JSONEditor(editorContainer);\n",
       "\n",
       "        button.on('click', showSettings);\n",
       "        saveButton.on('click', applyOptions);\n",
       "        optionsButton.on('click', saveOptions);\n",
       "\n",
       "        function applyOptions() {\n",
       "            var newOptions = editor.get();\n",
       "            setOptions(newOptions);\n",
       "            settings.collapse('hide');\n",
       "        }\n",
       "\n",
       "        function saveOptions(event) {\n",
       "            event.preventDefault();\n",
       "\n",
       "            applyOptions();\n",
       "\n",
       "            var options = chart.options;\n",
       "            delete options.exporting;\n",
       "\n",
       "            var name = optionsInput.val() ? optionsInput.val() + '.json' : 'settings.json';\n",
       "\n",
       "            options['settingsFile'] = name;\n",
       "\n",
       "            $.ajax({\n",
       "                type: \"POST\",\n",
       "                url: url,\n",
       "                data: JSON.stringify({\n",
       "                    options: options,\n",
       "                    name: name\n",
       "                })\n",
       "            });\n",
       "        }\n",
       "\n",
       "        function showSettings() {\n",
       "            settings.collapse('toggle');\n",
       "        }\n",
       "\n",
       "        //Choose a chart type\n",
       "        var ChartType = useHighStock ? Highcharts.StockChart : Highcharts.Chart;\n",
       "\n",
       "        //Default highchart colors\n",
       "        var colors = ['#7cb5ec', '#434348', '#90ed7d', '#f7a35c', '#8085e9',\n",
       "            '#f15c80', '#e4d354', '#2b908f', '#f45b5b', '#91e8e1'];\n",
       "\n",
       "        series.map(function (serie, index) {\n",
       "            if (!serie.color) {\n",
       "                serie['color'] = colors[index % 10];\n",
       "            }\n",
       "\n",
       "            return serie;\n",
       "        });\n",
       "\n",
       "        //Get all the keys\n",
       "        var keys = [];\n",
       "        var initialKeys = [];\n",
       "        $.each(series, function (index, serie) {\n",
       "            keys.push({\n",
       "                display: serie.display,\n",
       "                value: serie.name,\n",
       "                text: serie.name\n",
       "            });\n",
       "\n",
       "            if (serie.display) {\n",
       "                initialKeys.push(serie.name)\n",
       "            }\n",
       "        });\n",
       "\n",
       "        selector.selectize({\n",
       "            plugins: ['remove_button', 'restore_on_backspace'],\n",
       "            delimiter: ',',\n",
       "            options: keys,\n",
       "            items: initialKeys,\n",
       "            onItemAdd: function (key) {\n",
       "                console.log('series added');\n",
       "                addSeries(key);\n",
       "                newChart(chart.options, renderedSeries);\n",
       "            },\n",
       "            onItemRemove: function (key) {\n",
       "                console.log('series removed');\n",
       "                deleteSeries(key);\n",
       "                newChart(chart.options, renderedSeries);\n",
       "            }\n",
       "        });\n",
       "\n",
       "        //Set initial chart options\n",
       "        var chartOptions;\n",
       "        if (typeof options.chart === \"undefined\") {\n",
       "            chartOptions = {renderTo: chartContainer.id};\n",
       "        } else {\n",
       "            chartOptions = $.extend(options[\"chart\"], {renderTo: chartContainer.id});\n",
       "        }\n",
       "\n",
       "        //Initial rendered series\n",
       "        var renderedSeries = [];\n",
       "        options = $.extend(options, {chart: chartOptions}, {series: renderedSeries});\n",
       "        var chart = new ChartType(options);\n",
       "\n",
       "        $.each(initialKeys, function (index, key) {\n",
       "            addSeries(key);\n",
       "        });\n",
       "\n",
       "        newChart(chart.options, renderedSeries);\n",
       "        editor.set(chart.options);\n",
       "\n",
       "        if (save) {\n",
       "            saveSVG(url, save)\n",
       "        }\n",
       "\n",
       "        function setOptions(options) {\n",
       "            //Prevent export from breaking\n",
       "            delete options.exporting;\n",
       "            options['exporting'] = {scale: options.scale};\n",
       "\n",
       "            chartContainer.style.height = options.height.toString() + 'px';\n",
       "\n",
       "            if (options.width != 'auto') {\n",
       "                chartContainer.style.width = options.width.toString() + 'px';\n",
       "            }\n",
       "\n",
       "            newChart(options, renderedSeries);\n",
       "\n",
       "        }\n",
       "\n",
       "        function findSeries(series, key) {\n",
       "            return series.findIndex(function (obj) {\n",
       "                return obj.name == key;\n",
       "            })\n",
       "        }\n",
       "\n",
       "        function newChart(options, series) {\n",
       "            //Disable animation\n",
       "            var newOptions = $.extend(options, {series: series});\n",
       "            newOptions.plotOptions['series'] = {animation: false};\n",
       "\n",
       "            //Get zoom\n",
       "            var xExtremes = chart.xAxis[0].getExtremes();\n",
       "\n",
       "            //Re-plot the chart\n",
       "            chart.destroy();\n",
       "            chart = new ChartType(newOptions);\n",
       "\n",
       "            //Reset the zoom\n",
       "            chart.xAxis[0].setExtremes(xExtremes.min, xExtremes.max, false, false);\n",
       "\n",
       "            //Re-draw chart\n",
       "            chart.redraw();\n",
       "        }\n",
       "\n",
       "        function addSeries(key) {\n",
       "            var index = findSeries(series, key);\n",
       "            var newSeries = series[index];\n",
       "            renderedSeries.push(newSeries)\n",
       "        }\n",
       "\n",
       "        function deleteSeries(key) {\n",
       "            var index = findSeries(renderedSeries, key);\n",
       "            renderedSeries.splice(index, 1)\n",
       "        }\n",
       "\n",
       "        function saveSVG(url, name) {\n",
       "            $.ajax({\n",
       "                type: \"POST\",\n",
       "                url: url,\n",
       "                data: JSON.stringify({\n",
       "                    svg: chart.getSVG(),\n",
       "                    name: name\n",
       "                })\n",
       "            });\n",
       "        }\n",
       "\n",
       "        console.log('loaded!', Date());\n",
       "    }\n",
       "\n",
       "});\n",
       "\n",
       "},{}]},{},[1]);\n",
       "</script>\n",
       "\n"
      ],
      "text/plain": [
       "<IPython.core.display.HTML object>"
      ]
     },
     "execution_count": 58,
     "metadata": {},
     "output_type": "execute_result"
    }
   ],
   "source": [
    "import charts\n",
    "gspc['Time'] = gspc.index.astype(np.int64)//1000000\n",
    "series = [{'type':'candlestick',\n",
    "           'name':'candle',\n",
    "           'data':gspc[['Time', 'Open', 'High', 'Low', 'Close']].values}]\n",
    "\n",
    "options = {'rangeSelector':{'selected':0},\n",
    "           'xAxis':{'gridLineWidth':1, 'gridLineDashStyle':'Dot'},\n",
    "           'yAxis':{'gridLineWidth':1, 'gridLineDashStyle':'Dot'}}\n",
    "\n",
    "charts.plot(series, stock=True, show='inline', options=options, display=['candle'])"
   ]
  },
  {
   "cell_type": "code",
   "execution_count": null,
   "metadata": {
    "collapsed": true
   },
   "outputs": [],
   "source": []
  }
 ],
 "metadata": {
  "hide_input": false,
  "kernelspec": {
   "display_name": "Python 3",
   "language": "python",
   "name": "python3"
  },
  "language_info": {
   "codemirror_mode": {
    "name": "ipython",
    "version": 3
   },
   "file_extension": ".py",
   "mimetype": "text/x-python",
   "name": "python",
   "nbconvert_exporter": "python",
   "pygments_lexer": "ipython3",
   "version": "3.5.1"
  },
  "nav_menu": {},
  "toc": {
   "navigate_menu": true,
   "number_sections": true,
   "sideBar": true,
   "threshold": 6,
   "toc_cell": false,
   "toc_section_display": "block",
   "toc_window_display": true
  }
 },
 "nbformat": 4,
 "nbformat_minor": 1
}
