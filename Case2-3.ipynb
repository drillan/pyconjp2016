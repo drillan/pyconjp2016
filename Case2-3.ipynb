{
 "cells": [
  {
   "cell_type": "markdown",
   "metadata": {},
   "source": [
    "# Case2-3: CustomBusinessDayで満期日を列挙し、満期日までの日数を営業日で計算してみる"
   ]
  },
  {
   "cell_type": "code",
   "execution_count": 1,
   "metadata": {
    "ExecuteTime": {
     "end_time": "2016-09-09T10:03:15.886253",
     "start_time": "2016-09-09T10:03:14.735191"
    },
    "collapsed": false
   },
   "outputs": [],
   "source": [
    "from itertools import chain\n",
    "from datetime import datetime\n",
    "from datetime import date\n",
    "from pandas.tseries.offsets import CustomBusinessDay\n",
    "import pandas as pd\n",
    "import yaml\n",
    "import requests"
   ]
  },
  {
   "cell_type": "markdown",
   "metadata": {},
   "source": [
    "### 番外編\n",
    "QuantLibに日本の祝日があるが、情報が古い"
   ]
  },
  {
   "cell_type": "code",
   "execution_count": 2,
   "metadata": {
    "ExecuteTime": {
     "end_time": "2016-09-09T10:03:16.082191",
     "start_time": "2016-09-09T10:03:15.889187"
    },
    "collapsed": false
   },
   "outputs": [
    {
     "data": {
      "text/plain": [
       "False"
      ]
     },
     "execution_count": 2,
     "metadata": {},
     "output_type": "execute_result"
    }
   ],
   "source": [
    "import QuantLib as ql\n",
    "calender = ql.Japan()\n",
    "calender.isHoliday(ql.Date(11, 8, 2016))\n",
    "\n",
    "# 山の日がない！"
   ]
  },
  {
   "cell_type": "markdown",
   "metadata": {},
   "source": [
    "* Windowsの場合はビルド済のwheelからインストールするのが簡単  \n",
    "http://www.lfd.uci.edu/~gohlke/pythonlibs/#quantlib"
   ]
  },
  {
   "cell_type": "markdown",
   "metadata": {},
   "source": [
    "## holiday_jpから祝日のyamlファイルを取得\n",
    "> * Initial datasets\n",
    "> \n",
    "> [komagata/holiday_jp](https://github.com/komagata/holiday_jp)\n",
    "> \n",
    "> * komagata/holiday_jp Copyright\n",
    "> \n",
    "> Copyright (c) 2009 Masaki Komagata. See [LICENSE](https://github.com/komagata/holiday_jp/blob/master/LICENSE) for details.\n",
    "> \n",
    "> * \"Datasets\" idea\n",
    "> \n",
    "> [Project Woothee](https://woothee.github.io/)"
   ]
  },
  {
   "cell_type": "code",
   "execution_count": 3,
   "metadata": {
    "ExecuteTime": {
     "end_time": "2016-09-09T10:03:20.924184",
     "start_time": "2016-09-09T10:03:16.085191"
    },
    "collapsed": false
   },
   "outputs": [],
   "source": [
    "# https://github.com/k1LoW/holiday_jp\n",
    "try:\n",
    "    holiday_jp_yaml = yaml.load(requests.get('https://raw.githubusercontent.com/k1LoW/holiday_jp/master/holidays.yml').text)\n",
    "except Exception:\n",
    "    with open('data/holidays.yml', 'rb') as f:\n",
    "        holiday_jp_yaml = yaml.load(f)"
   ]
  },
  {
   "cell_type": "code",
   "execution_count": 4,
   "metadata": {
    "ExecuteTime": {
     "end_time": "2016-09-09T10:03:20.933202",
     "start_time": "2016-09-09T10:03:20.926186"
    },
    "collapsed": false
   },
   "outputs": [],
   "source": [
    "holiday_jp = list(holiday_jp_yaml.keys())"
   ]
  },
  {
   "cell_type": "code",
   "execution_count": 5,
   "metadata": {
    "ExecuteTime": {
     "end_time": "2016-09-09T10:03:20.961189",
     "start_time": "2016-09-09T10:03:20.937189"
    },
    "collapsed": false
   },
   "outputs": [
    {
     "data": {
      "text/plain": [
       "[datetime.date(1970, 1, 1),\n",
       " datetime.date(1970, 1, 15),\n",
       " datetime.date(1970, 2, 11),\n",
       " datetime.date(1970, 3, 21),\n",
       " datetime.date(1970, 4, 29)]"
      ]
     },
     "execution_count": 5,
     "metadata": {},
     "output_type": "execute_result"
    }
   ],
   "source": [
    "sorted(holiday_jp)[:5]"
   ]
  },
  {
   "cell_type": "markdown",
   "metadata": {},
   "source": [
    "## 取引所は三が日と大晦日が休場のため休みを追加する"
   ]
  },
  {
   "cell_type": "code",
   "execution_count": 6,
   "metadata": {
    "ExecuteTime": {
     "end_time": "2016-09-09T10:03:20.988193",
     "start_time": "2016-09-09T10:03:20.967190"
    },
    "collapsed": false
   },
   "outputs": [],
   "source": [
    "holiday_newyear = chain.from_iterable(\n",
    "    [[date(y, 1, 2), date(y, 1, 3), date(y, 12, 31)]\n",
    "     for y in range(sorted(holiday_jp)[0].year, sorted(holiday_jp)[-1].year + 1)])"
   ]
  },
  {
   "cell_type": "code",
   "execution_count": 7,
   "metadata": {
    "ExecuteTime": {
     "end_time": "2016-09-09T10:03:21.008193",
     "start_time": "2016-09-09T10:03:20.993190"
    },
    "collapsed": true
   },
   "outputs": [],
   "source": [
    "holiday_jpx = chain(holiday_jp, holiday_newyear)"
   ]
  },
  {
   "cell_type": "markdown",
   "metadata": {},
   "source": [
    "## CustomBusinessDayのインスタンスを作成"
   ]
  },
  {
   "cell_type": "code",
   "execution_count": 8,
   "metadata": {
    "ExecuteTime": {
     "end_time": "2016-09-09T10:03:21.101193",
     "start_time": "2016-09-09T10:03:21.012191"
    },
    "collapsed": false
   },
   "outputs": [],
   "source": [
    "bday_jpx = CustomBusinessDay(holidays=holiday_jpx)"
   ]
  },
  {
   "cell_type": "markdown",
   "metadata": {
    "ExecuteTime": {
     "end_time": "2016-09-02T11:09:46.572072",
     "start_time": "2016-09-02T11:09:46.568069"
    }
   },
   "source": [
    "## Case2-1と同様にdate_rangeを作成\n",
    "freq='WOM-2FRI'を指定することで毎月の第二金曜日を指定できる"
   ]
  },
  {
   "cell_type": "code",
   "execution_count": 9,
   "metadata": {
    "ExecuteTime": {
     "end_time": "2016-09-09T10:03:21.135187",
     "start_time": "2016-09-09T10:03:21.103188"
    },
    "collapsed": true
   },
   "outputs": [],
   "source": [
    "sq_date = pd.date_range(datetime(2017, 1, 1), datetime(2017, 12, 31), freq='WOM-2FRI')"
   ]
  },
  {
   "cell_type": "code",
   "execution_count": 10,
   "metadata": {
    "ExecuteTime": {
     "end_time": "2016-09-09T10:03:21.159185",
     "start_time": "2016-09-09T10:03:21.138188"
    },
    "collapsed": false
   },
   "outputs": [
    {
     "data": {
      "text/plain": [
       "DatetimeIndex(['2017-01-13', '2017-02-10', '2017-03-10', '2017-04-14',\n",
       "               '2017-05-12', '2017-06-09', '2017-07-14', '2017-08-11',\n",
       "               '2017-09-08', '2017-10-13', '2017-11-10', '2017-12-08'],\n",
       "              dtype='datetime64[ns]', freq='WOM-2FRI')"
      ]
     },
     "execution_count": 10,
     "metadata": {},
     "output_type": "execute_result"
    }
   ],
   "source": [
    "sq_date"
   ]
  },
  {
   "cell_type": "markdown",
   "metadata": {},
   "source": [
    "## CustomBusinessDayで作成したインスタンスを利用して第二金曜日が祝日だった場合は一営業日前倒しする"
   ]
  },
  {
   "cell_type": "code",
   "execution_count": 11,
   "metadata": {
    "ExecuteTime": {
     "end_time": "2016-09-09T10:03:21.178189",
     "start_time": "2016-09-09T10:03:21.162188"
    },
    "collapsed": true
   },
   "outputs": [],
   "source": [
    "def shift_bday(dt):\n",
    "    if dt.date() in bday_jpx.holidays:\n",
    "        return (dt - bday_jpx)\n",
    "    else:\n",
    "        return dt"
   ]
  },
  {
   "cell_type": "code",
   "execution_count": 12,
   "metadata": {
    "ExecuteTime": {
     "end_time": "2016-09-09T10:03:21.511189",
     "start_time": "2016-09-09T10:03:21.181191"
    },
    "collapsed": false
   },
   "outputs": [],
   "source": [
    "sq_date = sq_date.map(shift_bday)"
   ]
  },
  {
   "cell_type": "code",
   "execution_count": 13,
   "metadata": {
    "ExecuteTime": {
     "end_time": "2016-09-09T10:03:21.523190",
     "start_time": "2016-09-09T10:03:21.513191"
    },
    "collapsed": false
   },
   "outputs": [
    {
     "data": {
      "text/plain": [
       "array([Timestamp('2017-01-13 00:00:00', offset='WOM-2FRI'),\n",
       "       Timestamp('2017-02-10 00:00:00', offset='WOM-2FRI'),\n",
       "       Timestamp('2017-03-10 00:00:00', offset='WOM-2FRI'),\n",
       "       Timestamp('2017-04-14 00:00:00', offset='WOM-2FRI'),\n",
       "       Timestamp('2017-05-12 00:00:00', offset='WOM-2FRI'),\n",
       "       Timestamp('2017-06-09 00:00:00', offset='WOM-2FRI'),\n",
       "       Timestamp('2017-07-14 00:00:00', offset='WOM-2FRI'),\n",
       "       Timestamp('2017-08-10 00:00:00'),\n",
       "       Timestamp('2017-09-08 00:00:00', offset='WOM-2FRI'),\n",
       "       Timestamp('2017-10-13 00:00:00', offset='WOM-2FRI'),\n",
       "       Timestamp('2017-11-10 00:00:00', offset='WOM-2FRI'),\n",
       "       Timestamp('2017-12-08 00:00:00', offset='WOM-2FRI')], dtype=object)"
      ]
     },
     "execution_count": 13,
     "metadata": {},
     "output_type": "execute_result"
    }
   ],
   "source": [
    "sq_date"
   ]
  },
  {
   "cell_type": "markdown",
   "metadata": {},
   "source": [
    "8月11日が祝日なので、一日前倒しされる"
   ]
  },
  {
   "cell_type": "markdown",
   "metadata": {},
   "source": [
    "## 2017年1月SQから2月SQまでの営業日"
   ]
  },
  {
   "cell_type": "code",
   "execution_count": 14,
   "metadata": {
    "ExecuteTime": {
     "end_time": "2016-09-09T10:03:21.553189",
     "start_time": "2016-09-09T10:03:21.528189"
    },
    "collapsed": false
   },
   "outputs": [
    {
     "data": {
      "text/plain": [
       "DatetimeIndex(['2017-01-13', '2017-01-16', '2017-01-17', '2017-01-18',\n",
       "               '2017-01-19', '2017-01-20', '2017-01-23', '2017-01-24',\n",
       "               '2017-01-25', '2017-01-26', '2017-01-27', '2017-01-30',\n",
       "               '2017-01-31', '2017-02-01', '2017-02-02', '2017-02-03',\n",
       "               '2017-02-06', '2017-02-07', '2017-02-08', '2017-02-09',\n",
       "               '2017-02-10'],\n",
       "              dtype='datetime64[ns]', freq='C')"
      ]
     },
     "execution_count": 14,
     "metadata": {},
     "output_type": "execute_result"
    }
   ],
   "source": [
    "pd.date_range(sq_date[0], sq_date[1], freq=bday_jpx)"
   ]
  },
  {
   "cell_type": "markdown",
   "metadata": {},
   "source": [
    "## 営業日をカウントすれば営業日数を得られる"
   ]
  },
  {
   "cell_type": "code",
   "execution_count": 15,
   "metadata": {
    "ExecuteTime": {
     "end_time": "2016-09-09T10:03:21.579190",
     "start_time": "2016-09-09T10:03:21.558190"
    },
    "collapsed": false
   },
   "outputs": [
    {
     "data": {
      "text/plain": [
       "21"
      ]
     },
     "execution_count": 15,
     "metadata": {},
     "output_type": "execute_result"
    }
   ],
   "source": [
    "len(pd.date_range(sq_date[0], sq_date[1], freq=bday_jpx))"
   ]
  },
  {
   "cell_type": "markdown",
   "metadata": {},
   "source": [
    "## 番外編\n",
    "pandas 0.18.1からCustomBusinessHourが使えるように  \n",
    "\n",
    "http://pandas.pydata.org/pandas-docs/version/0.18.1/whatsnew.html#custom-business-hour"
   ]
  },
  {
   "cell_type": "code",
   "execution_count": 16,
   "metadata": {
    "ExecuteTime": {
     "end_time": "2016-09-09T10:03:21.597189",
     "start_time": "2016-09-09T10:03:21.582187"
    },
    "collapsed": false
   },
   "outputs": [],
   "source": [
    "from pandas.tseries.offsets import CustomBusinessHour"
   ]
  },
  {
   "cell_type": "markdown",
   "metadata": {},
   "source": [
    "### JPX(東証)の取引時間を設定"
   ]
  },
  {
   "cell_type": "code",
   "execution_count": 17,
   "metadata": {
    "ExecuteTime": {
     "end_time": "2016-09-09T10:03:21.633193",
     "start_time": "2016-09-09T10:03:21.604192"
    },
    "collapsed": false
   },
   "outputs": [],
   "source": [
    "bhour_jpx = CustomBusinessHour(start='9:00', end='15:00', holidays=bday_jpx.holidays)"
   ]
  },
  {
   "cell_type": "code",
   "execution_count": 18,
   "metadata": {
    "ExecuteTime": {
     "end_time": "2016-09-09T10:03:21.653188",
     "start_time": "2016-09-09T10:03:21.637190"
    },
    "collapsed": true
   },
   "outputs": [],
   "source": [
    "### 営業時間で計算ができる"
   ]
  },
  {
   "cell_type": "code",
   "execution_count": 19,
   "metadata": {
    "ExecuteTime": {
     "end_time": "2016-09-09T10:03:21.672186",
     "start_time": "2016-09-09T10:03:21.657188"
    },
    "collapsed": false
   },
   "outputs": [
    {
     "data": {
      "text/plain": [
       "Timestamp('2016-09-23 09:00:00')"
      ]
     },
     "execution_count": 19,
     "metadata": {},
     "output_type": "execute_result"
    }
   ],
   "source": [
    "datetime(2016, 9, 21, 13) + bhour_jpx * 2"
   ]
  },
  {
   "cell_type": "code",
   "execution_count": null,
   "metadata": {
    "collapsed": true
   },
   "outputs": [],
   "source": []
  }
 ],
 "metadata": {
  "hide_input": false,
  "kernelspec": {
   "display_name": "Python 3",
   "language": "python",
   "name": "python3"
  },
  "language_info": {
   "codemirror_mode": {
    "name": "ipython",
    "version": 3
   },
   "file_extension": ".py",
   "mimetype": "text/x-python",
   "name": "python",
   "nbconvert_exporter": "python",
   "pygments_lexer": "ipython3",
   "version": "3.5.1"
  },
  "nav_menu": {},
  "toc": {
   "navigate_menu": true,
   "number_sections": true,
   "sideBar": true,
   "threshold": 6,
   "toc_cell": false,
   "toc_section_display": "block",
   "toc_window_display": true
  }
 },
 "nbformat": 4,
 "nbformat_minor": 1
}
