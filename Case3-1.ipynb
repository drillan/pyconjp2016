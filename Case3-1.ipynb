{
 "cells": [
  {
   "cell_type": "markdown",
   "metadata": {},
   "source": [
    "# Case3-1: マジックコマンドを自作してみる"
   ]
  },
  {
   "cell_type": "code",
   "execution_count": 1,
   "metadata": {
    "ExecuteTime": {
     "end_time": "2016-09-09T17:41:02.646317",
     "start_time": "2016-09-09T17:40:58.146302"
    },
    "collapsed": false
   },
   "outputs": [],
   "source": [
    "import functools\n",
    "from IPython.core.magic import register_line_magic, register_cell_magic\n",
    "from IPython.display import IFrame\n",
    "import pandas as pd\n",
    "import yaml\n",
    "import ast\n",
    "from io import StringIO"
   ]
  },
  {
   "cell_type": "markdown",
   "metadata": {
    "ExecuteTime": {
     "end_time": "2016-09-02T17:54:45.409012",
     "start_time": "2016-09-02T17:54:45.405011"
    }
   },
   "source": [
    "## line magic"
   ]
  },
  {
   "cell_type": "code",
   "execution_count": 2,
   "metadata": {
    "ExecuteTime": {
     "end_time": "2016-09-09T17:41:02.667299",
     "start_time": "2016-09-09T17:41:02.649296"
    },
    "collapsed": true
   },
   "outputs": [],
   "source": [
    "@register_line_magic\n",
    "def ms(code):\n",
    "    url = \"https://www.morningstar.co.jp/StockInfo/info/snap/{0}\".format(code)\n",
    "    print(url)\n",
    "    return IFrame(url, \"100%\", 600)"
   ]
  },
  {
   "cell_type": "code",
   "execution_count": 3,
   "metadata": {
    "ExecuteTime": {
     "end_time": "2016-09-09T17:41:02.713316",
     "start_time": "2016-09-09T17:41:02.671299"
    },
    "collapsed": false
   },
   "outputs": [
    {
     "name": "stdout",
     "output_type": "stream",
     "text": [
      "https://www.morningstar.co.jp/StockInfo/info/snap/9701\n"
     ]
    },
    {
     "data": {
      "text/html": [
       "\n",
       "        <iframe\n",
       "            width=\"100%\"\n",
       "            height=\"600\"\n",
       "            src=\"https://www.morningstar.co.jp/StockInfo/info/snap/9701\"\n",
       "            frameborder=\"0\"\n",
       "            allowfullscreen\n",
       "        ></iframe>\n",
       "        "
      ],
      "text/plain": [
       "<IPython.lib.display.IFrame at 0x66a0c70>"
      ]
     },
     "execution_count": 3,
     "metadata": {},
     "output_type": "execute_result"
    }
   ],
   "source": [
    "%ms 9701"
   ]
  },
  {
   "cell_type": "markdown",
   "metadata": {},
   "source": [
    "## cell magic"
   ]
  },
  {
   "cell_type": "code",
   "execution_count": 4,
   "metadata": {
    "ExecuteTime": {
     "end_time": "2016-09-09T17:41:02.746332",
     "start_time": "2016-09-09T17:41:02.718816"
    },
    "collapsed": true
   },
   "outputs": [],
   "source": [
    "@register_cell_magic\n",
    "def csv(line, cell):\n",
    "    options = dict(ast.literal_eval(line))\n",
    "    sio = StringIO(cell)\n",
    "    return pd.read_csv(sio, **options)"
   ]
  },
  {
   "cell_type": "code",
   "execution_count": 5,
   "metadata": {
    "ExecuteTime": {
     "end_time": "2016-09-09T17:41:02.790332",
     "start_time": "2016-09-09T17:41:02.751329"
    },
    "collapsed": false
   },
   "outputs": [],
   "source": [
    "@register_cell_magic\n",
    "def yml(line, cell):\n",
    "    sio = StringIO(cell)\n",
    "    return pd.DataFrame(yaml.load(sio))"
   ]
  },
  {
   "cell_type": "code",
   "execution_count": 6,
   "metadata": {
    "ExecuteTime": {
     "end_time": "2016-09-09T17:41:02.833847",
     "start_time": "2016-09-09T17:41:02.812345"
    },
    "collapsed": false
   },
   "outputs": [],
   "source": [
    "@register_cell_magic\n",
    "def json(line, cell):\n",
    "    sio = StringIO(cell)\n",
    "    return pd.read_json(sio)"
   ]
  },
  {
   "cell_type": "markdown",
   "metadata": {},
   "source": [
    "### csv形式のデータをDataFrameに変換"
   ]
  },
  {
   "cell_type": "markdown",
   "metadata": {
    "ExecuteTime": {
     "end_time": "2016-09-05T17:21:25.187404",
     "start_time": "2016-09-05T17:21:25.181382"
    }
   },
   "source": [
    "> 日経平均プロフィル  \n",
    "> 指数一覧  \n",
    "> http://indexes.nikkei.co.jp/nkave/index\n",
    "\n",
    "pandas.read_html()では読み込めないがコピペすることでDataFrameとして取り込める"
   ]
  },
  {
   "cell_type": "code",
   "execution_count": 7,
   "metadata": {
    "ExecuteTime": {
     "end_time": "2016-09-09T17:41:02.903346",
     "start_time": "2016-09-09T17:41:02.839843"
    },
    "collapsed": false
   },
   "outputs": [
    {
     "data": {
      "text/html": [
       "<div>\n",
       "<table border=\"1\" class=\"dataframe\">\n",
       "  <thead>\n",
       "    <tr style=\"text-align: right;\">\n",
       "      <th></th>\n",
       "      <th>0</th>\n",
       "      <th>1</th>\n",
       "    </tr>\n",
       "  </thead>\n",
       "  <tbody>\n",
       "    <tr>\n",
       "      <th>0</th>\n",
       "      <td>日経平均トータルリターン・インデックス25</td>\n",
       "      <td>794.26+169.49 (+0.66%)2016.09.05(終値)</td>\n",
       "    </tr>\n",
       "    <tr>\n",
       "      <th>1</th>\n",
       "      <td>日経平均ストラテジー・インデックス・シリーズ</td>\n",
       "      <td>NaN</td>\n",
       "    </tr>\n",
       "    <tr>\n",
       "      <th>2</th>\n",
       "      <td>日経平均カバードコール・インデックス15</td>\n",
       "      <td>185.70+104.27 (+0.69%)2016.09.05(終値)</td>\n",
       "    </tr>\n",
       "    <tr>\n",
       "      <th>3</th>\n",
       "      <td>日経平均リスクコントロール・インデックス16</td>\n",
       "      <td>062.55+66.65 (+0.42%)2016.09.05(終値)</td>\n",
       "    </tr>\n",
       "    <tr>\n",
       "      <th>4</th>\n",
       "      <td>日経平均レバレッジ・インデックス10</td>\n",
       "      <td>943.85+142.88 (+1.32%)2016.09.05(終値)</td>\n",
       "    </tr>\n",
       "    <tr>\n",
       "      <th>5</th>\n",
       "      <td>日経平均インバース・インデックス2</td>\n",
       "      <td>622.90-17.46 (-0.66%)2016.09.05(終値)</td>\n",
       "    </tr>\n",
       "    <tr>\n",
       "      <th>6</th>\n",
       "      <td>日経平均ダブルインバース・インデックス2</td>\n",
       "      <td>914.46-39.07 (-1.32%)2016.09.05(終値)</td>\n",
       "    </tr>\n",
       "  </tbody>\n",
       "</table>\n",
       "</div>"
      ],
      "text/plain": [
       "                        0                                     1\n",
       "0   日経平均トータルリターン・インデックス25  794.26+169.49 (+0.66%)2016.09.05(終値)\n",
       "1  日経平均ストラテジー・インデックス・シリーズ                                   NaN\n",
       "2    日経平均カバードコール・インデックス15  185.70+104.27 (+0.69%)2016.09.05(終値)\n",
       "3  日経平均リスクコントロール・インデックス16   062.55+66.65 (+0.42%)2016.09.05(終値)\n",
       "4      日経平均レバレッジ・インデックス10  943.85+142.88 (+1.32%)2016.09.05(終値)\n",
       "5       日経平均インバース・インデックス2   622.90-17.46 (-0.66%)2016.09.05(終値)\n",
       "6    日経平均ダブルインバース・インデックス2   914.46-39.07 (-1.32%)2016.09.05(終値)"
      ]
     },
     "execution_count": 7,
     "metadata": {},
     "output_type": "execute_result"
    }
   ],
   "source": [
    "%%csv {'header': None}\n",
    "日経平均トータルリターン・インデックス25,794.26+169.49 (+0.66%)2016.09.05(終値)\n",
    "日経平均ストラテジー・インデックス・シリーズ\n",
    "日経平均カバードコール・インデックス15,185.70+104.27 (+0.69%)2016.09.05(終値)\n",
    "日経平均リスクコントロール・インデックス16,062.55+66.65 (+0.42%)2016.09.05(終値)\n",
    "日経平均レバレッジ・インデックス10,943.85+142.88 (+1.32%)2016.09.05(終値)\n",
    "日経平均インバース・インデックス2,622.90-17.46 (-0.66%)2016.09.05(終値)\n",
    "日経平均ダブルインバース・インデックス2,914.46-39.07 (-1.32%)2016.09.05(終値)"
   ]
  },
  {
   "cell_type": "markdown",
   "metadata": {},
   "source": [
    "_ に直前の結果が格納されている"
   ]
  },
  {
   "cell_type": "code",
   "execution_count": 8,
   "metadata": {
    "ExecuteTime": {
     "end_time": "2016-09-09T17:41:02.915845",
     "start_time": "2016-09-09T17:41:02.907345"
    },
    "collapsed": true
   },
   "outputs": [],
   "source": [
    "df = _"
   ]
  },
  {
   "cell_type": "code",
   "execution_count": 9,
   "metadata": {
    "ExecuteTime": {
     "end_time": "2016-09-09T17:41:02.965347",
     "start_time": "2016-09-09T17:41:02.920345"
    },
    "collapsed": false
   },
   "outputs": [
    {
     "data": {
      "text/html": [
       "<div>\n",
       "<table border=\"1\" class=\"dataframe\">\n",
       "  <thead>\n",
       "    <tr style=\"text-align: right;\">\n",
       "      <th></th>\n",
       "      <th>0</th>\n",
       "      <th>1</th>\n",
       "    </tr>\n",
       "  </thead>\n",
       "  <tbody>\n",
       "    <tr>\n",
       "      <th>0</th>\n",
       "      <td>日経平均トータルリターン・インデックス25</td>\n",
       "      <td>794.26+169.49 (+0.66%)2016.09.05(終値)</td>\n",
       "    </tr>\n",
       "    <tr>\n",
       "      <th>1</th>\n",
       "      <td>日経平均ストラテジー・インデックス・シリーズ</td>\n",
       "      <td>NaN</td>\n",
       "    </tr>\n",
       "    <tr>\n",
       "      <th>2</th>\n",
       "      <td>日経平均カバードコール・インデックス15</td>\n",
       "      <td>185.70+104.27 (+0.69%)2016.09.05(終値)</td>\n",
       "    </tr>\n",
       "    <tr>\n",
       "      <th>3</th>\n",
       "      <td>日経平均リスクコントロール・インデックス16</td>\n",
       "      <td>062.55+66.65 (+0.42%)2016.09.05(終値)</td>\n",
       "    </tr>\n",
       "    <tr>\n",
       "      <th>4</th>\n",
       "      <td>日経平均レバレッジ・インデックス10</td>\n",
       "      <td>943.85+142.88 (+1.32%)2016.09.05(終値)</td>\n",
       "    </tr>\n",
       "  </tbody>\n",
       "</table>\n",
       "</div>"
      ],
      "text/plain": [
       "                        0                                     1\n",
       "0   日経平均トータルリターン・インデックス25  794.26+169.49 (+0.66%)2016.09.05(終値)\n",
       "1  日経平均ストラテジー・インデックス・シリーズ                                   NaN\n",
       "2    日経平均カバードコール・インデックス15  185.70+104.27 (+0.69%)2016.09.05(終値)\n",
       "3  日経平均リスクコントロール・インデックス16   062.55+66.65 (+0.42%)2016.09.05(終値)\n",
       "4      日経平均レバレッジ・インデックス10  943.85+142.88 (+1.32%)2016.09.05(終値)"
      ]
     },
     "execution_count": 9,
     "metadata": {},
     "output_type": "execute_result"
    }
   ],
   "source": [
    "df.head()"
   ]
  },
  {
   "cell_type": "markdown",
   "metadata": {
    "ExecuteTime": {
     "end_time": "2016-09-09T10:05:05.488199",
     "start_time": "2016-09-09T10:05:05.484195"
    },
    "collapsed": true
   },
   "source": [
    "### json形式のデータをDataFrameに変換"
   ]
  },
  {
   "cell_type": "markdown",
   "metadata": {},
   "source": [
    "> * jsonデータのurl  \n",
    "> https://www.google.com/finance/info?q=NASDAQ%3aGOOG"
   ]
  },
  {
   "cell_type": "code",
   "execution_count": 10,
   "metadata": {
    "ExecuteTime": {
     "end_time": "2016-09-09T17:41:03.137845",
     "start_time": "2016-09-09T17:41:02.970344"
    },
    "collapsed": false,
    "scrolled": false
   },
   "outputs": [
    {
     "data": {
      "text/html": [
       "<div>\n",
       "<table border=\"1\" class=\"dataframe\">\n",
       "  <thead>\n",
       "    <tr style=\"text-align: right;\">\n",
       "      <th></th>\n",
       "      <th>c</th>\n",
       "      <th>c_fix</th>\n",
       "      <th>ccol</th>\n",
       "      <th>cp</th>\n",
       "      <th>cp_fix</th>\n",
       "      <th>div</th>\n",
       "      <th>e</th>\n",
       "      <th>ec</th>\n",
       "      <th>ec_fix</th>\n",
       "      <th>eccol</th>\n",
       "      <th>...</th>\n",
       "      <th>l</th>\n",
       "      <th>l_cur</th>\n",
       "      <th>l_fix</th>\n",
       "      <th>lt</th>\n",
       "      <th>lt_dts</th>\n",
       "      <th>ltt</th>\n",
       "      <th>pcls_fix</th>\n",
       "      <th>s</th>\n",
       "      <th>t</th>\n",
       "      <th>yld</th>\n",
       "    </tr>\n",
       "  </thead>\n",
       "  <tbody>\n",
       "    <tr>\n",
       "      <th>0</th>\n",
       "      <td>0</td>\n",
       "      <td>0</td>\n",
       "      <td>chb</td>\n",
       "      <td>0</td>\n",
       "      <td>0</td>\n",
       "      <td></td>\n",
       "      <td>NASDAQ</td>\n",
       "      <td>0.84</td>\n",
       "      <td>0.84</td>\n",
       "      <td>chg</td>\n",
       "      <td>...</td>\n",
       "      <td>767.05</td>\n",
       "      <td>767.05</td>\n",
       "      <td>767.05</td>\n",
       "      <td>Aug 31, 4:00PM EDT</td>\n",
       "      <td>2016-08-31T16:00:02Z</td>\n",
       "      <td>4:00PM EDT</td>\n",
       "      <td>767.05</td>\n",
       "      <td>1</td>\n",
       "      <td>GOOG</td>\n",
       "      <td></td>\n",
       "    </tr>\n",
       "  </tbody>\n",
       "</table>\n",
       "<p>1 rows × 27 columns</p>\n",
       "</div>"
      ],
      "text/plain": [
       "   c  c_fix ccol  cp  cp_fix div       e    ec  ec_fix eccol ...        l  \\\n",
       "0  0      0  chb   0       0      NASDAQ  0.84    0.84   chg ...   767.05   \n",
       "\n",
       "    l_cur   l_fix                  lt                lt_dts         ltt  \\\n",
       "0  767.05  767.05  Aug 31, 4:00PM EDT  2016-08-31T16:00:02Z  4:00PM EDT   \n",
       "\n",
       "   pcls_fix  s     t  yld  \n",
       "0    767.05  1  GOOG       \n",
       "\n",
       "[1 rows x 27 columns]"
      ]
     },
     "execution_count": 10,
     "metadata": {},
     "output_type": "execute_result"
    }
   ],
   "source": [
    "%%json\n",
    "[ { \"id\": \"304466804484872\" ,\"t\" : \"GOOG\" ,\"e\" : \"NASDAQ\" ,\"l\" : \"767.05\" ,\"l_fix\" : \"767.05\" ,\"l_cur\" : \"767.05\" ,\"s\": \"1\" ,\"ltt\":\"4:00PM EDT\" ,\"lt\" : \"Aug 31, 4:00PM EDT\" ,\"lt_dts\" : \"2016-08-31T16:00:02Z\" ,\"c\" : \"0.00\" ,\"c_fix\" : \"0.00\" ,\"cp\" : \"0.00\" ,\"cp_fix\" : \"0.00\" ,\"ccol\" : \"chb\" ,\"pcls_fix\" : \"767.05\" ,\"el\": \"767.89\" ,\"el_fix\": \"767.89\" ,\"el_cur\": \"767.89\" ,\"elt\" : \"Sep 1, 9:24AM EDT\" ,\"ec\" : \"+0.84\" ,\"ec_fix\" : \"0.84\" ,\"ecp\" : \"0.11\" ,\"ecp_fix\" : \"0.11\" ,\"eccol\" : \"chg\" ,\"div\" : \"\" ,\"yld\" : \"\" } ]"
   ]
  },
  {
   "cell_type": "code",
   "execution_count": 11,
   "metadata": {
    "ExecuteTime": {
     "end_time": "2016-09-09T17:41:03.178344",
     "start_time": "2016-09-09T17:41:03.141845"
    },
    "collapsed": false
   },
   "outputs": [
    {
     "data": {
      "text/html": [
       "<div>\n",
       "<table border=\"1\" class=\"dataframe\">\n",
       "  <thead>\n",
       "    <tr style=\"text-align: right;\">\n",
       "      <th></th>\n",
       "      <th>0</th>\n",
       "    </tr>\n",
       "  </thead>\n",
       "  <tbody>\n",
       "    <tr>\n",
       "      <th>c</th>\n",
       "      <td>0</td>\n",
       "    </tr>\n",
       "    <tr>\n",
       "      <th>c_fix</th>\n",
       "      <td>0</td>\n",
       "    </tr>\n",
       "    <tr>\n",
       "      <th>ccol</th>\n",
       "      <td>chb</td>\n",
       "    </tr>\n",
       "    <tr>\n",
       "      <th>cp</th>\n",
       "      <td>0</td>\n",
       "    </tr>\n",
       "    <tr>\n",
       "      <th>cp_fix</th>\n",
       "      <td>0</td>\n",
       "    </tr>\n",
       "    <tr>\n",
       "      <th>div</th>\n",
       "      <td></td>\n",
       "    </tr>\n",
       "    <tr>\n",
       "      <th>e</th>\n",
       "      <td>NASDAQ</td>\n",
       "    </tr>\n",
       "    <tr>\n",
       "      <th>ec</th>\n",
       "      <td>0.84</td>\n",
       "    </tr>\n",
       "    <tr>\n",
       "      <th>ec_fix</th>\n",
       "      <td>0.84</td>\n",
       "    </tr>\n",
       "    <tr>\n",
       "      <th>eccol</th>\n",
       "      <td>chg</td>\n",
       "    </tr>\n",
       "    <tr>\n",
       "      <th>ecp</th>\n",
       "      <td>0.11</td>\n",
       "    </tr>\n",
       "    <tr>\n",
       "      <th>ecp_fix</th>\n",
       "      <td>0.11</td>\n",
       "    </tr>\n",
       "    <tr>\n",
       "      <th>el</th>\n",
       "      <td>767.89</td>\n",
       "    </tr>\n",
       "    <tr>\n",
       "      <th>el_cur</th>\n",
       "      <td>767.89</td>\n",
       "    </tr>\n",
       "    <tr>\n",
       "      <th>el_fix</th>\n",
       "      <td>767.89</td>\n",
       "    </tr>\n",
       "    <tr>\n",
       "      <th>elt</th>\n",
       "      <td>Sep 1, 9:24AM EDT</td>\n",
       "    </tr>\n",
       "    <tr>\n",
       "      <th>id</th>\n",
       "      <td>304466804484872</td>\n",
       "    </tr>\n",
       "    <tr>\n",
       "      <th>l</th>\n",
       "      <td>767.05</td>\n",
       "    </tr>\n",
       "    <tr>\n",
       "      <th>l_cur</th>\n",
       "      <td>767.05</td>\n",
       "    </tr>\n",
       "    <tr>\n",
       "      <th>l_fix</th>\n",
       "      <td>767.05</td>\n",
       "    </tr>\n",
       "    <tr>\n",
       "      <th>lt</th>\n",
       "      <td>Aug 31, 4:00PM EDT</td>\n",
       "    </tr>\n",
       "    <tr>\n",
       "      <th>lt_dts</th>\n",
       "      <td>2016-08-31T16:00:02Z</td>\n",
       "    </tr>\n",
       "    <tr>\n",
       "      <th>ltt</th>\n",
       "      <td>4:00PM EDT</td>\n",
       "    </tr>\n",
       "    <tr>\n",
       "      <th>pcls_fix</th>\n",
       "      <td>767.05</td>\n",
       "    </tr>\n",
       "    <tr>\n",
       "      <th>s</th>\n",
       "      <td>1</td>\n",
       "    </tr>\n",
       "    <tr>\n",
       "      <th>t</th>\n",
       "      <td>GOOG</td>\n",
       "    </tr>\n",
       "    <tr>\n",
       "      <th>yld</th>\n",
       "      <td></td>\n",
       "    </tr>\n",
       "  </tbody>\n",
       "</table>\n",
       "</div>"
      ],
      "text/plain": [
       "                             0\n",
       "c                            0\n",
       "c_fix                        0\n",
       "ccol                       chb\n",
       "cp                           0\n",
       "cp_fix                       0\n",
       "div                           \n",
       "e                       NASDAQ\n",
       "ec                        0.84\n",
       "ec_fix                    0.84\n",
       "eccol                      chg\n",
       "ecp                       0.11\n",
       "ecp_fix                   0.11\n",
       "el                      767.89\n",
       "el_cur                  767.89\n",
       "el_fix                  767.89\n",
       "elt          Sep 1, 9:24AM EDT\n",
       "id             304466804484872\n",
       "l                       767.05\n",
       "l_cur                   767.05\n",
       "l_fix                   767.05\n",
       "lt          Aug 31, 4:00PM EDT\n",
       "lt_dts    2016-08-31T16:00:02Z\n",
       "ltt                 4:00PM EDT\n",
       "pcls_fix                767.05\n",
       "s                            1\n",
       "t                         GOOG\n",
       "yld                           "
      ]
     },
     "execution_count": 11,
     "metadata": {},
     "output_type": "execute_result"
    }
   ],
   "source": [
    "_.T"
   ]
  },
  {
   "cell_type": "markdown",
   "metadata": {},
   "source": [
    "### yaml形式のデータをDataFrameに変換"
   ]
  },
  {
   "cell_type": "markdown",
   "metadata": {},
   "source": [
    "[Case2-3](Case2-3.ipynb)のyamlデータ"
   ]
  },
  {
   "cell_type": "code",
   "execution_count": 12,
   "metadata": {
    "ExecuteTime": {
     "end_time": "2016-09-09T17:41:03.234795",
     "start_time": "2016-09-09T17:41:03.183793"
    },
    "collapsed": false
   },
   "outputs": [
    {
     "data": {
      "text/html": [
       "<div>\n",
       "<table border=\"1\" class=\"dataframe\">\n",
       "  <thead>\n",
       "    <tr style=\"text-align: right;\">\n",
       "      <th></th>\n",
       "      <th>1970-01-01</th>\n",
       "      <th>1970-01-15</th>\n",
       "      <th>1970-02-11</th>\n",
       "    </tr>\n",
       "  </thead>\n",
       "  <tbody>\n",
       "    <tr>\n",
       "      <th>date</th>\n",
       "      <td>1970-01-01</td>\n",
       "      <td>1970-01-15</td>\n",
       "      <td>1970-02-11</td>\n",
       "    </tr>\n",
       "    <tr>\n",
       "      <th>name</th>\n",
       "      <td>元日</td>\n",
       "      <td>成人の日</td>\n",
       "      <td>建国記念の日</td>\n",
       "    </tr>\n",
       "    <tr>\n",
       "      <th>name_en</th>\n",
       "      <td>New Year's Day</td>\n",
       "      <td>Coming of Age Day</td>\n",
       "      <td>National Foundation Day</td>\n",
       "    </tr>\n",
       "    <tr>\n",
       "      <th>week</th>\n",
       "      <td>木</td>\n",
       "      <td>木</td>\n",
       "      <td>水</td>\n",
       "    </tr>\n",
       "    <tr>\n",
       "      <th>week_en</th>\n",
       "      <td>Thursday</td>\n",
       "      <td>Thursday</td>\n",
       "      <td>Wednesday</td>\n",
       "    </tr>\n",
       "  </tbody>\n",
       "</table>\n",
       "</div>"
      ],
      "text/plain": [
       "             1970-01-01         1970-01-15               1970-02-11\n",
       "date         1970-01-01         1970-01-15               1970-02-11\n",
       "name                 元日               成人の日                   建国記念の日\n",
       "name_en  New Year's Day  Coming of Age Day  National Foundation Day\n",
       "week                  木                  木                        水\n",
       "week_en        Thursday           Thursday                Wednesday"
      ]
     },
     "execution_count": 12,
     "metadata": {},
     "output_type": "execute_result"
    }
   ],
   "source": [
    "%%yml\n",
    "1970-01-01:\n",
    "  date: 1970-01-01\n",
    "  week: 木\n",
    "  week_en: Thursday\n",
    "  name: 元日\n",
    "  name_en: \"New Year's Day\"\n",
    "\n",
    "1970-01-15:\n",
    "  date: 1970-01-15\n",
    "  week: 木\n",
    "  week_en: Thursday\n",
    "  name: 成人の日\n",
    "  name_en: \"Coming of Age Day\"\n",
    "\n",
    "1970-02-11:\n",
    "  date: 1970-02-11\n",
    "  week: 水\n",
    "  week_en: Wednesday\n",
    "  name: 建国記念の日\n",
    "  name_en: \"National Foundation Day\""
   ]
  },
  {
   "cell_type": "code",
   "execution_count": 13,
   "metadata": {
    "ExecuteTime": {
     "end_time": "2016-09-09T17:41:03.309795",
     "start_time": "2016-09-09T17:41:03.239293"
    },
    "collapsed": false
   },
   "outputs": [
    {
     "data": {
      "text/html": [
       "<div>\n",
       "<table border=\"1\" class=\"dataframe\">\n",
       "  <thead>\n",
       "    <tr style=\"text-align: right;\">\n",
       "      <th></th>\n",
       "      <th>date</th>\n",
       "      <th>name</th>\n",
       "      <th>name_en</th>\n",
       "      <th>week</th>\n",
       "      <th>week_en</th>\n",
       "    </tr>\n",
       "  </thead>\n",
       "  <tbody>\n",
       "    <tr>\n",
       "      <th>1970-01-01</th>\n",
       "      <td>1970-01-01</td>\n",
       "      <td>元日</td>\n",
       "      <td>New Year's Day</td>\n",
       "      <td>木</td>\n",
       "      <td>Thursday</td>\n",
       "    </tr>\n",
       "    <tr>\n",
       "      <th>1970-01-15</th>\n",
       "      <td>1970-01-15</td>\n",
       "      <td>成人の日</td>\n",
       "      <td>Coming of Age Day</td>\n",
       "      <td>木</td>\n",
       "      <td>Thursday</td>\n",
       "    </tr>\n",
       "    <tr>\n",
       "      <th>1970-02-11</th>\n",
       "      <td>1970-02-11</td>\n",
       "      <td>建国記念の日</td>\n",
       "      <td>National Foundation Day</td>\n",
       "      <td>水</td>\n",
       "      <td>Wednesday</td>\n",
       "    </tr>\n",
       "  </tbody>\n",
       "</table>\n",
       "</div>"
      ],
      "text/plain": [
       "                  date    name                  name_en week    week_en\n",
       "1970-01-01  1970-01-01      元日           New Year's Day    木   Thursday\n",
       "1970-01-15  1970-01-15    成人の日        Coming of Age Day    木   Thursday\n",
       "1970-02-11  1970-02-11  建国記念の日  National Foundation Day    水  Wednesday"
      ]
     },
     "execution_count": 13,
     "metadata": {},
     "output_type": "execute_result"
    }
   ],
   "source": [
    "_.T"
   ]
  },
  {
   "cell_type": "code",
   "execution_count": null,
   "metadata": {
    "collapsed": true
   },
   "outputs": [],
   "source": []
  }
 ],
 "metadata": {
  "hide_input": false,
  "kernelspec": {
   "display_name": "Python 3",
   "language": "python",
   "name": "python3"
  },
  "language_info": {
   "codemirror_mode": {
    "name": "ipython",
    "version": 3
   },
   "file_extension": ".py",
   "mimetype": "text/x-python",
   "name": "python",
   "nbconvert_exporter": "python",
   "pygments_lexer": "ipython3",
   "version": "3.5.1"
  },
  "nav_menu": {},
  "toc": {
   "navigate_menu": true,
   "number_sections": true,
   "sideBar": true,
   "threshold": 6,
   "toc_cell": false,
   "toc_section_display": "block",
   "toc_window_display": true
  }
 },
 "nbformat": 4,
 "nbformat_minor": 1
}
