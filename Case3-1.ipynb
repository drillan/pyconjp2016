{
 "cells": [
  {
   "cell_type": "markdown",
   "metadata": {},
   "source": [
    "# Case3-1: マジックコマンドを自作してみる"
   ]
  },
  {
   "cell_type": "code",
   "execution_count": 1,
   "metadata": {
    "ExecuteTime": {
     "end_time": "2016-09-02T17:54:10.991363",
     "start_time": "2016-09-02T17:54:07.929724"
    },
    "collapsed": false
   },
   "outputs": [],
   "source": [
    "import functools\n",
    "from IPython.core.magic import register_line_magic, register_cell_magic\n",
    "from IPython.display import IFrame\n",
    "import pandas as pd\n",
    "import yaml\n",
    "import xmltodict\n",
    "try:\n",
    "    from StringIO import StringIO # Python2\n",
    "except Exception:\n",
    "    from io import StringIO # Python3"
   ]
  },
  {
   "cell_type": "markdown",
   "metadata": {
    "ExecuteTime": {
     "end_time": "2016-09-02T17:54:45.409012",
     "start_time": "2016-09-02T17:54:45.405011"
    }
   },
   "source": [
    "## line magic"
   ]
  },
  {
   "cell_type": "code",
   "execution_count": 3,
   "metadata": {
    "ExecuteTime": {
     "end_time": "2016-09-02T17:54:13.178318",
     "start_time": "2016-09-02T17:54:13.172312"
    },
    "collapsed": true
   },
   "outputs": [],
   "source": [
    "@register_line_magic\n",
    "def ms(code):\n",
    "    url = \"https://www.morningstar.co.jp/StockInfo/info/snap/{0}\".format(code)\n",
    "    print(url)\n",
    "    return IFrame(url, \"100%\", 600)"
   ]
  },
  {
   "cell_type": "code",
   "execution_count": 4,
   "metadata": {
    "ExecuteTime": {
     "end_time": "2016-09-02T17:54:23.618605",
     "start_time": "2016-09-02T17:54:23.590591"
    },
    "collapsed": false
   },
   "outputs": [
    {
     "name": "stdout",
     "output_type": "stream",
     "text": [
      "https://www.morningstar.co.jp/StockInfo/info/snap/9783\n"
     ]
    },
    {
     "data": {
      "text/html": [
       "\n",
       "        <iframe\n",
       "            width=\"100%\"\n",
       "            height=\"600\"\n",
       "            src=\"https://www.morningstar.co.jp/StockInfo/info/snap/9783\"\n",
       "            frameborder=\"0\"\n",
       "            allowfullscreen\n",
       "        ></iframe>\n",
       "        "
      ],
      "text/plain": [
       "<IPython.lib.display.IFrame at 0x690cb10>"
      ]
     },
     "execution_count": 4,
     "metadata": {},
     "output_type": "execute_result"
    }
   ],
   "source": [
    "%ms 9783"
   ]
  },
  {
   "cell_type": "markdown",
   "metadata": {},
   "source": [
    "## cell magic"
   ]
  },
  {
   "cell_type": "code",
   "execution_count": 3,
   "metadata": {
    "ExecuteTime": {
     "end_time": "2016-09-02T12:35:33.181851",
     "start_time": "2016-09-02T12:35:33.172852"
    },
    "collapsed": false
   },
   "outputs": [],
   "source": [
    "@register_cell_magic\n",
    "def csv(line, cell):\n",
    "    sio = StringIO(cell)\n",
    "    if line == 'transpose':\n",
    "        return pd.read_csv(sio).T\n",
    "    else:\n",
    "        return pd.read_csv(sio)"
   ]
  },
  {
   "cell_type": "code",
   "execution_count": 4,
   "metadata": {
    "ExecuteTime": {
     "end_time": "2016-09-02T12:35:33.842773",
     "start_time": "2016-09-02T12:35:33.835770"
    },
    "collapsed": false
   },
   "outputs": [],
   "source": [
    "@register_cell_magic\n",
    "def yml(line, cell):\n",
    "    sio = StringIO(cell)\n",
    "    if line == 'transpose':\n",
    "        return pd.DataFrame(yaml.load(sio)).T\n",
    "    else:\n",
    "        return pd.DataFrame(yaml.load(sio))"
   ]
  },
  {
   "cell_type": "code",
   "execution_count": 5,
   "metadata": {
    "ExecuteTime": {
     "end_time": "2016-09-02T12:35:34.435808",
     "start_time": "2016-09-02T12:35:34.427287"
    },
    "collapsed": false
   },
   "outputs": [],
   "source": [
    "@register_cell_magic\n",
    "def json(line, cell):\n",
    "    sio = StringIO(cell)\n",
    "    if line == 'transpose':\n",
    "        return pd.read_json(sio).T\n",
    "    else:\n",
    "        return pd.read_json(sio)"
   ]
  },
  {
   "cell_type": "markdown",
   "metadata": {},
   "source": [
    "### csv形式のデータをDataFrameに変換"
   ]
  },
  {
   "cell_type": "code",
   "execution_count": 6,
   "metadata": {
    "ExecuteTime": {
     "end_time": "2016-09-02T12:35:37.270830",
     "start_time": "2016-09-02T12:35:37.242823"
    },
    "collapsed": false
   },
   "outputs": [
    {
     "data": {
      "text/html": [
       "<div>\n",
       "<table border=\"1\" class=\"dataframe\">\n",
       "  <thead>\n",
       "    <tr style=\"text-align: right;\">\n",
       "      <th></th>\n",
       "      <th>col1</th>\n",
       "      <th>col2</th>\n",
       "      <th>col3</th>\n",
       "    </tr>\n",
       "  </thead>\n",
       "  <tbody>\n",
       "    <tr>\n",
       "      <th>0</th>\n",
       "      <td>0</td>\n",
       "      <td>1</td>\n",
       "      <td>2</td>\n",
       "    </tr>\n",
       "    <tr>\n",
       "      <th>1</th>\n",
       "      <td>3</td>\n",
       "      <td>4</td>\n",
       "      <td>5</td>\n",
       "    </tr>\n",
       "    <tr>\n",
       "      <th>2</th>\n",
       "      <td>7</td>\n",
       "      <td>8</td>\n",
       "      <td>9</td>\n",
       "    </tr>\n",
       "  </tbody>\n",
       "</table>\n",
       "</div>"
      ],
      "text/plain": [
       "   col1  col2  col3\n",
       "0     0     1     2\n",
       "1     3     4     5\n",
       "2     7     8     9"
      ]
     },
     "execution_count": 6,
     "metadata": {},
     "output_type": "execute_result"
    }
   ],
   "source": [
    "%%csv\n",
    "col1,col2,col3\n",
    "0,1,2\n",
    "3,4,5\n",
    "7,8,9"
   ]
  },
  {
   "cell_type": "code",
   "execution_count": 7,
   "metadata": {
    "ExecuteTime": {
     "end_time": "2016-09-02T12:35:39.591014",
     "start_time": "2016-09-02T12:35:39.571034"
    },
    "collapsed": false
   },
   "outputs": [
    {
     "data": {
      "text/html": [
       "<div>\n",
       "<table border=\"1\" class=\"dataframe\">\n",
       "  <thead>\n",
       "    <tr style=\"text-align: right;\">\n",
       "      <th></th>\n",
       "      <th>0</th>\n",
       "      <th>1</th>\n",
       "      <th>2</th>\n",
       "    </tr>\n",
       "  </thead>\n",
       "  <tbody>\n",
       "    <tr>\n",
       "      <th>col1</th>\n",
       "      <td>0</td>\n",
       "      <td>3</td>\n",
       "      <td>7</td>\n",
       "    </tr>\n",
       "    <tr>\n",
       "      <th>col2</th>\n",
       "      <td>1</td>\n",
       "      <td>4</td>\n",
       "      <td>8</td>\n",
       "    </tr>\n",
       "    <tr>\n",
       "      <th>col3</th>\n",
       "      <td>2</td>\n",
       "      <td>5</td>\n",
       "      <td>9</td>\n",
       "    </tr>\n",
       "  </tbody>\n",
       "</table>\n",
       "</div>"
      ],
      "text/plain": [
       "      0  1  2\n",
       "col1  0  3  7\n",
       "col2  1  4  8\n",
       "col3  2  5  9"
      ]
     },
     "execution_count": 7,
     "metadata": {},
     "output_type": "execute_result"
    }
   ],
   "source": [
    "%%csv transpose\n",
    "col1,col2,col3\n",
    "0,1,2\n",
    "3,4,5\n",
    "7,8,9"
   ]
  },
  {
   "cell_type": "markdown",
   "metadata": {},
   "source": [
    "_ に直前の結果が格納されている"
   ]
  },
  {
   "cell_type": "code",
   "execution_count": 8,
   "metadata": {
    "ExecuteTime": {
     "end_time": "2016-09-02T12:35:41.739467",
     "start_time": "2016-09-02T12:35:41.736463"
    },
    "collapsed": true
   },
   "outputs": [],
   "source": [
    "df = _"
   ]
  },
  {
   "cell_type": "code",
   "execution_count": 9,
   "metadata": {
    "ExecuteTime": {
     "end_time": "2016-09-02T12:35:46.172370",
     "start_time": "2016-09-02T12:35:46.157373"
    },
    "collapsed": false
   },
   "outputs": [
    {
     "data": {
      "text/html": [
       "<div>\n",
       "<table border=\"1\" class=\"dataframe\">\n",
       "  <thead>\n",
       "    <tr style=\"text-align: right;\">\n",
       "      <th></th>\n",
       "      <th>0</th>\n",
       "      <th>1</th>\n",
       "      <th>2</th>\n",
       "    </tr>\n",
       "  </thead>\n",
       "  <tbody>\n",
       "    <tr>\n",
       "      <th>col1</th>\n",
       "      <td>0</td>\n",
       "      <td>3</td>\n",
       "      <td>7</td>\n",
       "    </tr>\n",
       "    <tr>\n",
       "      <th>col2</th>\n",
       "      <td>1</td>\n",
       "      <td>4</td>\n",
       "      <td>8</td>\n",
       "    </tr>\n",
       "    <tr>\n",
       "      <th>col3</th>\n",
       "      <td>2</td>\n",
       "      <td>5</td>\n",
       "      <td>9</td>\n",
       "    </tr>\n",
       "  </tbody>\n",
       "</table>\n",
       "</div>"
      ],
      "text/plain": [
       "      0  1  2\n",
       "col1  0  3  7\n",
       "col2  1  4  8\n",
       "col3  2  5  9"
      ]
     },
     "execution_count": 9,
     "metadata": {},
     "output_type": "execute_result"
    }
   ],
   "source": [
    "df"
   ]
  },
  {
   "cell_type": "code",
   "execution_count": null,
   "metadata": {
    "collapsed": true
   },
   "outputs": [],
   "source": [
    "### json形式のデータをDataFrameに変換"
   ]
  },
  {
   "cell_type": "markdown",
   "metadata": {},
   "source": [
    "> * jsonデータのurl  \n",
    "> https://www.google.com/finance/info?q=NASDAQ%3aGOOG"
   ]
  },
  {
   "cell_type": "code",
   "execution_count": 9,
   "metadata": {
    "ExecuteTime": {
     "end_time": "2016-09-01T22:56:47.988292",
     "start_time": "2016-09-01T22:56:47.916284"
    },
    "collapsed": false,
    "scrolled": false
   },
   "outputs": [
    {
     "data": {
      "text/html": [
       "<div>\n",
       "<table border=\"1\" class=\"dataframe\">\n",
       "  <thead>\n",
       "    <tr style=\"text-align: right;\">\n",
       "      <th></th>\n",
       "      <th>0</th>\n",
       "    </tr>\n",
       "  </thead>\n",
       "  <tbody>\n",
       "    <tr>\n",
       "      <th>c</th>\n",
       "      <td>0</td>\n",
       "    </tr>\n",
       "    <tr>\n",
       "      <th>c_fix</th>\n",
       "      <td>0</td>\n",
       "    </tr>\n",
       "    <tr>\n",
       "      <th>ccol</th>\n",
       "      <td>chb</td>\n",
       "    </tr>\n",
       "    <tr>\n",
       "      <th>cp</th>\n",
       "      <td>0</td>\n",
       "    </tr>\n",
       "    <tr>\n",
       "      <th>cp_fix</th>\n",
       "      <td>0</td>\n",
       "    </tr>\n",
       "    <tr>\n",
       "      <th>div</th>\n",
       "      <td></td>\n",
       "    </tr>\n",
       "    <tr>\n",
       "      <th>e</th>\n",
       "      <td>NASDAQ</td>\n",
       "    </tr>\n",
       "    <tr>\n",
       "      <th>ec</th>\n",
       "      <td>0.84</td>\n",
       "    </tr>\n",
       "    <tr>\n",
       "      <th>ec_fix</th>\n",
       "      <td>0.84</td>\n",
       "    </tr>\n",
       "    <tr>\n",
       "      <th>eccol</th>\n",
       "      <td>chg</td>\n",
       "    </tr>\n",
       "    <tr>\n",
       "      <th>ecp</th>\n",
       "      <td>0.11</td>\n",
       "    </tr>\n",
       "    <tr>\n",
       "      <th>ecp_fix</th>\n",
       "      <td>0.11</td>\n",
       "    </tr>\n",
       "    <tr>\n",
       "      <th>el</th>\n",
       "      <td>767.89</td>\n",
       "    </tr>\n",
       "    <tr>\n",
       "      <th>el_cur</th>\n",
       "      <td>767.89</td>\n",
       "    </tr>\n",
       "    <tr>\n",
       "      <th>el_fix</th>\n",
       "      <td>767.89</td>\n",
       "    </tr>\n",
       "    <tr>\n",
       "      <th>elt</th>\n",
       "      <td>Sep 1, 9:24AM EDT</td>\n",
       "    </tr>\n",
       "    <tr>\n",
       "      <th>id</th>\n",
       "      <td>304466804484872</td>\n",
       "    </tr>\n",
       "    <tr>\n",
       "      <th>l</th>\n",
       "      <td>767.05</td>\n",
       "    </tr>\n",
       "    <tr>\n",
       "      <th>l_cur</th>\n",
       "      <td>767.05</td>\n",
       "    </tr>\n",
       "    <tr>\n",
       "      <th>l_fix</th>\n",
       "      <td>767.05</td>\n",
       "    </tr>\n",
       "    <tr>\n",
       "      <th>lt</th>\n",
       "      <td>Aug 31, 4:00PM EDT</td>\n",
       "    </tr>\n",
       "    <tr>\n",
       "      <th>lt_dts</th>\n",
       "      <td>2016-08-31T16:00:02Z</td>\n",
       "    </tr>\n",
       "    <tr>\n",
       "      <th>ltt</th>\n",
       "      <td>4:00PM EDT</td>\n",
       "    </tr>\n",
       "    <tr>\n",
       "      <th>pcls_fix</th>\n",
       "      <td>767.05</td>\n",
       "    </tr>\n",
       "    <tr>\n",
       "      <th>s</th>\n",
       "      <td>1</td>\n",
       "    </tr>\n",
       "    <tr>\n",
       "      <th>t</th>\n",
       "      <td>GOOG</td>\n",
       "    </tr>\n",
       "    <tr>\n",
       "      <th>yld</th>\n",
       "      <td></td>\n",
       "    </tr>\n",
       "  </tbody>\n",
       "</table>\n",
       "</div>"
      ],
      "text/plain": [
       "                             0\n",
       "c                            0\n",
       "c_fix                        0\n",
       "ccol                       chb\n",
       "cp                           0\n",
       "cp_fix                       0\n",
       "div                           \n",
       "e                       NASDAQ\n",
       "ec                        0.84\n",
       "ec_fix                    0.84\n",
       "eccol                      chg\n",
       "ecp                       0.11\n",
       "ecp_fix                   0.11\n",
       "el                      767.89\n",
       "el_cur                  767.89\n",
       "el_fix                  767.89\n",
       "elt          Sep 1, 9:24AM EDT\n",
       "id             304466804484872\n",
       "l                       767.05\n",
       "l_cur                   767.05\n",
       "l_fix                   767.05\n",
       "lt          Aug 31, 4:00PM EDT\n",
       "lt_dts    2016-08-31T16:00:02Z\n",
       "ltt                 4:00PM EDT\n",
       "pcls_fix                767.05\n",
       "s                            1\n",
       "t                         GOOG\n",
       "yld                           "
      ]
     },
     "execution_count": 9,
     "metadata": {},
     "output_type": "execute_result"
    }
   ],
   "source": [
    "%%json transpose\n",
    "[ { \"id\": \"304466804484872\" ,\"t\" : \"GOOG\" ,\"e\" : \"NASDAQ\" ,\"l\" : \"767.05\" ,\"l_fix\" : \"767.05\" ,\"l_cur\" : \"767.05\" ,\"s\": \"1\" ,\"ltt\":\"4:00PM EDT\" ,\"lt\" : \"Aug 31, 4:00PM EDT\" ,\"lt_dts\" : \"2016-08-31T16:00:02Z\" ,\"c\" : \"0.00\" ,\"c_fix\" : \"0.00\" ,\"cp\" : \"0.00\" ,\"cp_fix\" : \"0.00\" ,\"ccol\" : \"chb\" ,\"pcls_fix\" : \"767.05\" ,\"el\": \"767.89\" ,\"el_fix\": \"767.89\" ,\"el_cur\": \"767.89\" ,\"elt\" : \"Sep 1, 9:24AM EDT\" ,\"ec\" : \"+0.84\" ,\"ec_fix\" : \"0.84\" ,\"ecp\" : \"0.11\" ,\"ecp_fix\" : \"0.11\" ,\"eccol\" : \"chg\" ,\"div\" : \"\" ,\"yld\" : \"\" } ]"
   ]
  },
  {
   "cell_type": "markdown",
   "metadata": {},
   "source": [
    "### yaml形式のデータをDataFrameに変換"
   ]
  },
  {
   "cell_type": "markdown",
   "metadata": {},
   "source": [
    "[Case2-3](Case2-3.ipynb)のyamlデータ"
   ]
  },
  {
   "cell_type": "code",
   "execution_count": 10,
   "metadata": {
    "ExecuteTime": {
     "end_time": "2016-09-02T12:36:09.309667",
     "start_time": "2016-09-02T12:36:09.277664"
    },
    "collapsed": false
   },
   "outputs": [
    {
     "data": {
      "text/html": [
       "<div>\n",
       "<table border=\"1\" class=\"dataframe\">\n",
       "  <thead>\n",
       "    <tr style=\"text-align: right;\">\n",
       "      <th></th>\n",
       "      <th>date</th>\n",
       "      <th>name</th>\n",
       "      <th>name_en</th>\n",
       "      <th>week</th>\n",
       "      <th>week_en</th>\n",
       "    </tr>\n",
       "  </thead>\n",
       "  <tbody>\n",
       "    <tr>\n",
       "      <th>1970-01-01</th>\n",
       "      <td>1970-01-01</td>\n",
       "      <td>元日</td>\n",
       "      <td>New Year's Day</td>\n",
       "      <td>木</td>\n",
       "      <td>Thursday</td>\n",
       "    </tr>\n",
       "    <tr>\n",
       "      <th>1970-01-15</th>\n",
       "      <td>1970-01-15</td>\n",
       "      <td>成人の日</td>\n",
       "      <td>Coming of Age Day</td>\n",
       "      <td>木</td>\n",
       "      <td>Thursday</td>\n",
       "    </tr>\n",
       "    <tr>\n",
       "      <th>1970-02-11</th>\n",
       "      <td>1970-02-11</td>\n",
       "      <td>建国記念の日</td>\n",
       "      <td>National Foundation Day</td>\n",
       "      <td>水</td>\n",
       "      <td>Wednesday</td>\n",
       "    </tr>\n",
       "  </tbody>\n",
       "</table>\n",
       "</div>"
      ],
      "text/plain": [
       "                  date    name                  name_en week    week_en\n",
       "1970-01-01  1970-01-01      元日           New Year's Day    木   Thursday\n",
       "1970-01-15  1970-01-15    成人の日        Coming of Age Day    木   Thursday\n",
       "1970-02-11  1970-02-11  建国記念の日  National Foundation Day    水  Wednesday"
      ]
     },
     "execution_count": 10,
     "metadata": {},
     "output_type": "execute_result"
    }
   ],
   "source": [
    "%%yml transpose\n",
    "1970-01-01:\n",
    "  date: 1970-01-01\n",
    "  week: 木\n",
    "  week_en: Thursday\n",
    "  name: 元日\n",
    "  name_en: \"New Year's Day\"\n",
    "\n",
    "1970-01-15:\n",
    "  date: 1970-01-15\n",
    "  week: 木\n",
    "  week_en: Thursday\n",
    "  name: 成人の日\n",
    "  name_en: \"Coming of Age Day\"\n",
    "\n",
    "1970-02-11:\n",
    "  date: 1970-02-11\n",
    "  week: 水\n",
    "  week_en: Wednesday\n",
    "  name: 建国記念の日\n",
    "  name_en: \"National Foundation Day\""
   ]
  },
  {
   "cell_type": "code",
   "execution_count": null,
   "metadata": {
    "collapsed": true
   },
   "outputs": [],
   "source": []
  }
 ],
 "metadata": {
  "hide_input": false,
  "kernelspec": {
   "display_name": "Python 3",
   "language": "python",
   "name": "python3"
  },
  "language_info": {
   "codemirror_mode": {
    "name": "ipython",
    "version": 3
   },
   "file_extension": ".py",
   "mimetype": "text/x-python",
   "name": "python",
   "nbconvert_exporter": "python",
   "pygments_lexer": "ipython3",
   "version": "3.5.1"
  },
  "nav_menu": {},
  "toc": {
   "navigate_menu": true,
   "number_sections": true,
   "sideBar": true,
   "threshold": 6,
   "toc_cell": false,
   "toc_section_display": "block",
   "toc_window_display": true
  }
 },
 "nbformat": 4,
 "nbformat_minor": 1
}
